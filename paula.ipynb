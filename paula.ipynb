{
 "cells": [
  {
   "cell_type": "code",
   "execution_count": 117,
   "metadata": {},
   "outputs": [],
   "source": [
    "import pandas as pd\n",
    "import numpy as np \n",
    "import sidetable \n",
    "import matplotlib.pyplot as plt\n",
    "import seaborn as sns\n",
    "pd.options.display.max_columns = None "
   ]
  },
  {
   "cell_type": "code",
   "execution_count": 118,
   "metadata": {},
   "outputs": [
    {
     "data": {
      "text/html": [
       "<div>\n",
       "<style scoped>\n",
       "    .dataframe tbody tr th:only-of-type {\n",
       "        vertical-align: middle;\n",
       "    }\n",
       "\n",
       "    .dataframe tbody tr th {\n",
       "        vertical-align: top;\n",
       "    }\n",
       "\n",
       "    .dataframe thead th {\n",
       "        text-align: right;\n",
       "    }\n",
       "</style>\n",
       "<table border=\"1\" class=\"dataframe\">\n",
       "  <thead>\n",
       "    <tr style=\"text-align: right;\">\n",
       "      <th></th>\n",
       "      <th>index</th>\n",
       "      <th>q3</th>\n",
       "      <th>q5</th>\n",
       "      <th>q6</th>\n",
       "      <th>q8</th>\n",
       "      <th>q11</th>\n",
       "      <th>q13</th>\n",
       "      <th>q15</th>\n",
       "      <th>q23</th>\n",
       "      <th>q33</th>\n",
       "      <th>q41</th>\n",
       "      <th>q7</th>\n",
       "      <th>q9</th>\n",
       "      <th>q12</th>\n",
       "      <th>q14</th>\n",
       "      <th>q16</th>\n",
       "      <th>q17</th>\n",
       "      <th>q24</th>\n",
       "      <th>q28</th>\n",
       "      <th>q10</th>\n",
       "      <th>q18</th>\n",
       "      <th>q19</th>\n",
       "      <th>q27</th>\n",
       "      <th>q29</th>\n",
       "      <th>q30</th>\n",
       "      <th>q31</th>\n",
       "      <th>q36</th>\n",
       "      <th>q37</th>\n",
       "      <th>q38</th>\n",
       "      <th>q39</th>\n",
       "      <th>q40</th>\n",
       "      <th>q42</th>\n",
       "    </tr>\n",
       "  </thead>\n",
       "  <tbody>\n",
       "    <tr>\n",
       "      <th>32</th>\n",
       "      <td>32</td>\n",
       "      <td>United States of America</td>\n",
       "      <td>Data Analyst</td>\n",
       "      <td>&lt; 1 years</td>\n",
       "      <td>R</td>\n",
       "      <td>A personal computer / desktop</td>\n",
       "      <td>Never</td>\n",
       "      <td>I do not use machine learning methods</td>\n",
       "      <td>NaN</td>\n",
       "      <td>NaN</td>\n",
       "      <td>NaN</td>\n",
       "      <td>R</td>\n",
       "      <td>RStudio</td>\n",
       "      <td>NVIDIA GPUs</td>\n",
       "      <td>Ggplot / ggplot2</td>\n",
       "      <td>NaN</td>\n",
       "      <td>NaN</td>\n",
       "      <td>NaN</td>\n",
       "      <td>NaN</td>\n",
       "      <td>NaN</td>\n",
       "      <td>NaN</td>\n",
       "      <td>NaN</td>\n",
       "      <td>NaN</td>\n",
       "      <td>NaN</td>\n",
       "      <td>NaN</td>\n",
       "      <td>NaN</td>\n",
       "      <td>NaN</td>\n",
       "      <td>NaN</td>\n",
       "      <td>NaN</td>\n",
       "      <td>NaN</td>\n",
       "      <td>NaN</td>\n",
       "      <td>NaN</td>\n",
       "    </tr>\n",
       "    <tr>\n",
       "      <th>46</th>\n",
       "      <td>46</td>\n",
       "      <td>China</td>\n",
       "      <td>Data Analyst</td>\n",
       "      <td>&lt; 1 years</td>\n",
       "      <td>Python</td>\n",
       "      <td>A personal computer / desktop</td>\n",
       "      <td>2-5 times</td>\n",
       "      <td>1-2 years</td>\n",
       "      <td>No (we do not use ML methods)</td>\n",
       "      <td>NaN</td>\n",
       "      <td>Basic statistical software (Microsoft Excel, G...</td>\n",
       "      <td>Python, SQL, C, C++, Java, Javascript, MATLAB</td>\n",
       "      <td>Jupyter (JupyterLab, Jupyter Notebooks, etc) ,...</td>\n",
       "      <td>NVIDIA GPUs</td>\n",
       "      <td>Matplotlib ,Plotly / Plotly Express</td>\n",
       "      <td>Scikit-learn , TensorFlow ,Keras ,PyTorch</td>\n",
       "      <td>Linear or Logistic Regression, Decision Trees ...</td>\n",
       "      <td>Analyze and understand data to influence produ...</td>\n",
       "      <td>NaN</td>\n",
       "      <td>Kaggle Notebooks?</td>\n",
       "      <td>NaN</td>\n",
       "      <td>NaN</td>\n",
       "      <td>NaN</td>\n",
       "      <td>NaN</td>\n",
       "      <td>NaN</td>\n",
       "      <td>NaN</td>\n",
       "      <td>NaN</td>\n",
       "      <td>NaN</td>\n",
       "      <td>NaN</td>\n",
       "      <td>NaN</td>\n",
       "      <td>Coursera?edX?Kaggle Learn Courses?</td>\n",
       "      <td>Twitter (data science influencers)?</td>\n",
       "    </tr>\n",
       "    <tr>\n",
       "      <th>66</th>\n",
       "      <td>66</td>\n",
       "      <td>China</td>\n",
       "      <td>Data Analyst</td>\n",
       "      <td>&lt; 1 years</td>\n",
       "      <td>Python</td>\n",
       "      <td>A laptop</td>\n",
       "      <td>Never</td>\n",
       "      <td>&lt; 1 year</td>\n",
       "      <td>I do not know</td>\n",
       "      <td>NaN</td>\n",
       "      <td>Basic statistical software (Microsoft Excel, G...</td>\n",
       "      <td>Python</td>\n",
       "      <td>PyCharm , Spyder</td>\n",
       "      <td>None</td>\n",
       "      <td>None</td>\n",
       "      <td>Other</td>\n",
       "      <td>Other</td>\n",
       "      <td>Analyze and understand data to influence produ...</td>\n",
       "      <td>NaN</td>\n",
       "      <td>NaN</td>\n",
       "      <td>NaN</td>\n",
       "      <td>NaN</td>\n",
       "      <td>NaN</td>\n",
       "      <td>NaN</td>\n",
       "      <td>NaN</td>\n",
       "      <td>NaN</td>\n",
       "      <td>NaN</td>\n",
       "      <td>NaN</td>\n",
       "      <td>NaN</td>\n",
       "      <td>NaN</td>\n",
       "      <td>NaN</td>\n",
       "      <td>NaN</td>\n",
       "    </tr>\n",
       "    <tr>\n",
       "      <th>102</th>\n",
       "      <td>102</td>\n",
       "      <td>India</td>\n",
       "      <td>Data Analyst</td>\n",
       "      <td>&lt; 1 years</td>\n",
       "      <td>Python</td>\n",
       "      <td>A laptop</td>\n",
       "      <td>Once</td>\n",
       "      <td>&lt; 1 year</td>\n",
       "      <td>We are exploring ML methods (and may one day p...</td>\n",
       "      <td>NaN</td>\n",
       "      <td>Basic statistical software (Microsoft Excel, G...</td>\n",
       "      <td>Python</td>\n",
       "      <td>Jupyter (JupyterLab, Jupyter Notebooks, etc) ,...</td>\n",
       "      <td>None</td>\n",
       "      <td>Matplotlib ,Seaborn ,Ggplot / ggplot2</td>\n",
       "      <td>Scikit-learn , TensorFlow ,Keras ,Xgboost</td>\n",
       "      <td>Linear or Logistic Regression, Decision Trees ...</td>\n",
       "      <td>Analyze and understand data to influence produ...</td>\n",
       "      <td>NaN</td>\n",
       "      <td>NaN</td>\n",
       "      <td>NaN</td>\n",
       "      <td>NaN</td>\n",
       "      <td>NaN</td>\n",
       "      <td>NaN</td>\n",
       "      <td>NaN</td>\n",
       "      <td>NaN</td>\n",
       "      <td>NaN</td>\n",
       "      <td>NaN</td>\n",
       "      <td>NaN</td>\n",
       "      <td>NaN</td>\n",
       "      <td>Coursera?</td>\n",
       "      <td>NaN</td>\n",
       "    </tr>\n",
       "    <tr>\n",
       "      <th>108</th>\n",
       "      <td>108</td>\n",
       "      <td>Israel</td>\n",
       "      <td>Data Analyst</td>\n",
       "      <td>&lt; 1 years</td>\n",
       "      <td>Python</td>\n",
       "      <td>A personal computer / desktop</td>\n",
       "      <td>Never</td>\n",
       "      <td>I do not use machine learning methods</td>\n",
       "      <td>We use ML methods for generating insights (but...</td>\n",
       "      <td>NaN</td>\n",
       "      <td>Business intelligence software (Salesforce, Ta...</td>\n",
       "      <td>Python, SQL</td>\n",
       "      <td>Jupyter Notebook, Other</td>\n",
       "      <td>None</td>\n",
       "      <td>Matplotlib ,Seaborn</td>\n",
       "      <td>NaN</td>\n",
       "      <td>NaN</td>\n",
       "      <td>Analyze and understand data to influence produ...</td>\n",
       "      <td>NaN</td>\n",
       "      <td>NaN</td>\n",
       "      <td>NaN</td>\n",
       "      <td>NaN</td>\n",
       "      <td>NaN</td>\n",
       "      <td>NaN</td>\n",
       "      <td>NaN</td>\n",
       "      <td>NaN</td>\n",
       "      <td>NaN</td>\n",
       "      <td>NaN</td>\n",
       "      <td>NaN</td>\n",
       "      <td>NaN</td>\n",
       "      <td>Coursera?</td>\n",
       "      <td>NaN</td>\n",
       "    </tr>\n",
       "  </tbody>\n",
       "</table>\n",
       "</div>"
      ],
      "text/plain": [
       "     index                        q3            q5         q6      q8  \\\n",
       "32      32  United States of America  Data Analyst  < 1 years       R   \n",
       "46      46                     China  Data Analyst  < 1 years  Python   \n",
       "66      66                     China  Data Analyst  < 1 years  Python   \n",
       "102    102                     India  Data Analyst  < 1 years  Python   \n",
       "108    108                    Israel  Data Analyst  < 1 years  Python   \n",
       "\n",
       "                               q11        q13  \\\n",
       "32   A personal computer / desktop      Never   \n",
       "46   A personal computer / desktop  2-5 times   \n",
       "66                        A laptop      Never   \n",
       "102                       A laptop       Once   \n",
       "108  A personal computer / desktop      Never   \n",
       "\n",
       "                                       q15  \\\n",
       "32   I do not use machine learning methods   \n",
       "46                               1-2 years   \n",
       "66                                < 1 year   \n",
       "102                               < 1 year   \n",
       "108  I do not use machine learning methods   \n",
       "\n",
       "                                                   q23  q33  \\\n",
       "32                                                 NaN  NaN   \n",
       "46                       No (we do not use ML methods)  NaN   \n",
       "66                                       I do not know  NaN   \n",
       "102  We are exploring ML methods (and may one day p...  NaN   \n",
       "108  We use ML methods for generating insights (but...  NaN   \n",
       "\n",
       "                                                   q41  \\\n",
       "32                                                 NaN   \n",
       "46   Basic statistical software (Microsoft Excel, G...   \n",
       "66   Basic statistical software (Microsoft Excel, G...   \n",
       "102  Basic statistical software (Microsoft Excel, G...   \n",
       "108  Business intelligence software (Salesforce, Ta...   \n",
       "\n",
       "                                                q7  \\\n",
       "32                                               R   \n",
       "46   Python, SQL, C, C++, Java, Javascript, MATLAB   \n",
       "66                                          Python   \n",
       "102                                         Python   \n",
       "108                                    Python, SQL   \n",
       "\n",
       "                                                    q9            q12  \\\n",
       "32                                            RStudio    NVIDIA GPUs    \n",
       "46   Jupyter (JupyterLab, Jupyter Notebooks, etc) ,...   NVIDIA GPUs    \n",
       "66                                    PyCharm , Spyder           None   \n",
       "102  Jupyter (JupyterLab, Jupyter Notebooks, etc) ,...           None   \n",
       "108                            Jupyter Notebook, Other           None   \n",
       "\n",
       "                                         q14  \\\n",
       "32                         Ggplot / ggplot2    \n",
       "46      Matplotlib ,Plotly / Plotly Express    \n",
       "66                                      None   \n",
       "102   Matplotlib ,Seaborn ,Ggplot / ggplot2    \n",
       "108                     Matplotlib ,Seaborn    \n",
       "\n",
       "                                            q16  \\\n",
       "32                                          NaN   \n",
       "46   Scikit-learn , TensorFlow ,Keras ,PyTorch    \n",
       "66                                        Other   \n",
       "102  Scikit-learn , TensorFlow ,Keras ,Xgboost    \n",
       "108                                         NaN   \n",
       "\n",
       "                                                   q17  \\\n",
       "32                                                 NaN   \n",
       "46   Linear or Logistic Regression, Decision Trees ...   \n",
       "66                                               Other   \n",
       "102  Linear or Logistic Regression, Decision Trees ...   \n",
       "108                                                NaN   \n",
       "\n",
       "                                                   q24  q28  \\\n",
       "32                                                 NaN  NaN   \n",
       "46   Analyze and understand data to influence produ...  NaN   \n",
       "66   Analyze and understand data to influence produ...  NaN   \n",
       "102  Analyze and understand data to influence produ...  NaN   \n",
       "108  Analyze and understand data to influence produ...  NaN   \n",
       "\n",
       "                    q10  q18  q19  q27  q29  q30  q31  q36  q37  q38  q39  \\\n",
       "32                  NaN  NaN  NaN  NaN  NaN  NaN  NaN  NaN  NaN  NaN  NaN   \n",
       "46    Kaggle Notebooks?  NaN  NaN  NaN  NaN  NaN  NaN  NaN  NaN  NaN  NaN   \n",
       "66                  NaN  NaN  NaN  NaN  NaN  NaN  NaN  NaN  NaN  NaN  NaN   \n",
       "102                 NaN  NaN  NaN  NaN  NaN  NaN  NaN  NaN  NaN  NaN  NaN   \n",
       "108                 NaN  NaN  NaN  NaN  NaN  NaN  NaN  NaN  NaN  NaN  NaN   \n",
       "\n",
       "                                    q40                                  q42  \n",
       "32                                  NaN                                  NaN  \n",
       "46   Coursera?edX?Kaggle Learn Courses?  Twitter (data science influencers)?  \n",
       "66                                  NaN                                  NaN  \n",
       "102                           Coursera?                                  NaN  \n",
       "108                           Coursera?                                  NaN  "
      ]
     },
     "execution_count": 118,
     "metadata": {},
     "output_type": "execute_result"
    }
   ],
   "source": [
    "df = pd.read_csv('./datos/data_analyst.csv', index_col = 0)\n",
    "df.head()"
   ]
  },
  {
   "cell_type": "markdown",
   "metadata": {},
   "source": [
    "### Q9 - analizamos los entornos de desarrollo integrados que utiliza nuestra persona"
   ]
  },
  {
   "cell_type": "code",
   "execution_count": 119,
   "metadata": {},
   "outputs": [
    {
     "data": {
      "text/html": [
       "<div>\n",
       "<style scoped>\n",
       "    .dataframe tbody tr th:only-of-type {\n",
       "        vertical-align: middle;\n",
       "    }\n",
       "\n",
       "    .dataframe tbody tr th {\n",
       "        vertical-align: top;\n",
       "    }\n",
       "\n",
       "    .dataframe thead th {\n",
       "        text-align: right;\n",
       "    }\n",
       "</style>\n",
       "<table border=\"1\" class=\"dataframe\">\n",
       "  <thead>\n",
       "    <tr style=\"text-align: right;\">\n",
       "      <th></th>\n",
       "      <th>index</th>\n",
       "      <th>q9</th>\n",
       "    </tr>\n",
       "  </thead>\n",
       "  <tbody>\n",
       "    <tr>\n",
       "      <th>0</th>\n",
       "      <td>32</td>\n",
       "      <td>RStudio</td>\n",
       "    </tr>\n",
       "    <tr>\n",
       "      <th>1</th>\n",
       "      <td>46</td>\n",
       "      <td>Jupyter (JupyterLab, Jupyter Notebooks, etc) ,...</td>\n",
       "    </tr>\n",
       "    <tr>\n",
       "      <th>2</th>\n",
       "      <td>66</td>\n",
       "      <td>PyCharm , Spyder</td>\n",
       "    </tr>\n",
       "    <tr>\n",
       "      <th>3</th>\n",
       "      <td>102</td>\n",
       "      <td>Jupyter (JupyterLab, Jupyter Notebooks, etc) ,...</td>\n",
       "    </tr>\n",
       "    <tr>\n",
       "      <th>4</th>\n",
       "      <td>108</td>\n",
       "      <td>Jupyter Notebook, Other</td>\n",
       "    </tr>\n",
       "    <tr>\n",
       "      <th>...</th>\n",
       "      <td>...</td>\n",
       "      <td>...</td>\n",
       "    </tr>\n",
       "    <tr>\n",
       "      <th>746</th>\n",
       "      <td>25811</td>\n",
       "      <td>PyCharm , Vim / Emacs,Jupyter Notebook</td>\n",
       "    </tr>\n",
       "    <tr>\n",
       "      <th>747</th>\n",
       "      <td>25819</td>\n",
       "      <td>Visual Studio</td>\n",
       "    </tr>\n",
       "    <tr>\n",
       "      <th>748</th>\n",
       "      <td>25909</td>\n",
       "      <td>Jupyter Notebook</td>\n",
       "    </tr>\n",
       "    <tr>\n",
       "      <th>749</th>\n",
       "      <td>25916</td>\n",
       "      <td>Jupyter Notebook</td>\n",
       "    </tr>\n",
       "    <tr>\n",
       "      <th>750</th>\n",
       "      <td>25954</td>\n",
       "      <td>Jupyter Notebook</td>\n",
       "    </tr>\n",
       "  </tbody>\n",
       "</table>\n",
       "<p>751 rows × 2 columns</p>\n",
       "</div>"
      ],
      "text/plain": [
       "     index                                                 q9\n",
       "0       32                                           RStudio \n",
       "1       46  Jupyter (JupyterLab, Jupyter Notebooks, etc) ,...\n",
       "2       66                                   PyCharm , Spyder\n",
       "3      102  Jupyter (JupyterLab, Jupyter Notebooks, etc) ,...\n",
       "4      108                            Jupyter Notebook, Other\n",
       "..     ...                                                ...\n",
       "746  25811             PyCharm , Vim / Emacs,Jupyter Notebook\n",
       "747  25819                                     Visual Studio \n",
       "748  25909                                   Jupyter Notebook\n",
       "749  25916                                   Jupyter Notebook\n",
       "750  25954                                   Jupyter Notebook\n",
       "\n",
       "[751 rows x 2 columns]"
      ]
     },
     "execution_count": 119,
     "metadata": {},
     "output_type": "execute_result"
    }
   ],
   "source": [
    "df_q9=df['q9'].reset_index()\n",
    "df_q9"
   ]
  },
  {
   "cell_type": "code",
   "execution_count": 120,
   "metadata": {},
   "outputs": [],
   "source": [
    "#def quitar_comillas_2 (col):\n",
    "        #try:\n",
    "        #    return col.split(',')\n",
    "        #except:\n",
    "        #    np.nan"
   ]
  },
  {
   "cell_type": "code",
   "execution_count": 121,
   "metadata": {},
   "outputs": [],
   "source": [
    "df_q9['q9'] = df_q9['q9']\n",
    "df_9_explode = df_q9['q9'].explode().reset_index()\n",
    "gb9 = df_9_explode.groupby('q9').size()\n",
    "df_q9 = gb9.reset_index(name='count')\n",
    "df_q9.drop(0, axis= 0,inplace=True)"
   ]
  },
  {
   "cell_type": "code",
   "execution_count": 122,
   "metadata": {},
   "outputs": [
    {
     "data": {
      "text/plain": [
       "'Jupyter (JupyterLab, Jupyter Notebooks, etc) , Notepad++'"
      ]
     },
     "execution_count": 122,
     "metadata": {},
     "output_type": "execute_result"
    }
   ],
   "source": [
    "df_q9['q9'][15]"
   ]
  },
  {
   "cell_type": "code",
   "execution_count": 123,
   "metadata": {},
   "outputs": [],
   "source": [
    "patron = '\\(.*\\)'"
   ]
  },
  {
   "cell_type": "code",
   "execution_count": 124,
   "metadata": {},
   "outputs": [
    {
     "data": {
      "text/plain": [
       "1      False\n",
       "2      False\n",
       "3      False\n",
       "4      False\n",
       "5      False\n",
       "       ...  \n",
       "155     True\n",
       "156     True\n",
       "157     True\n",
       "158     True\n",
       "159     True\n",
       "Name: q9, Length: 159, dtype: bool"
      ]
     },
     "execution_count": 124,
     "metadata": {},
     "output_type": "execute_result"
    }
   ],
   "source": [
    "df_q9['q9'].str.contains(patron)"
   ]
  },
  {
   "cell_type": "code",
   "execution_count": 125,
   "metadata": {},
   "outputs": [
    {
     "data": {
      "text/plain": [
       "14         Jupyter (JupyterLab, Jupyter Notebooks, etc) \n",
       "15     Jupyter (JupyterLab, Jupyter Notebooks, etc) ,...\n",
       "16     Jupyter (JupyterLab, Jupyter Notebooks, etc) ,...\n",
       "17     Jupyter (JupyterLab, Jupyter Notebooks, etc) ,...\n",
       "18     Jupyter (JupyterLab, Jupyter Notebooks, etc) ,...\n",
       "                             ...                        \n",
       "155    Visual Studio Code (VSCode) ,PyCharm , Spyder,...\n",
       "156    Visual Studio Code (VSCode) ,PyCharm , Sublime...\n",
       "157    Visual Studio Code (VSCode) ,PyCharm , Sublime...\n",
       "158    Visual Studio Code (VSCode) ,PyCharm ,Jupyter ...\n",
       "159    Visual Studio Code (VSCode) ,PyCharm ,MATLAB ,...\n",
       "Name: q9, Length: 93, dtype: object"
      ]
     },
     "execution_count": 125,
     "metadata": {},
     "output_type": "execute_result"
    }
   ],
   "source": [
    "df_q9['q9'][df_q9['q9'].str.contains(patron)]"
   ]
  },
  {
   "cell_type": "code",
   "execution_count": 126,
   "metadata": {},
   "outputs": [
    {
     "data": {
      "text/plain": [
       "'Jupyter (JupyterLab, Jupyter Notebooks, etc) , Notepad++'"
      ]
     },
     "execution_count": 126,
     "metadata": {},
     "output_type": "execute_result"
    }
   ],
   "source": [
    "df_q9['q9'][df_q9['q9'].str.contains(patron)][15]"
   ]
  },
  {
   "cell_type": "code",
   "execution_count": 127,
   "metadata": {},
   "outputs": [
    {
     "data": {
      "text/plain": [
       "['Jupyter (JupyterLab, Jupyter Notebooks, etc', ' , Notepad++']"
      ]
     },
     "execution_count": 127,
     "metadata": {},
     "output_type": "execute_result"
    }
   ],
   "source": [
    "df_q9['q9'][df_q9['q9'].str.contains(patron)][15].split(')')"
   ]
  },
  {
   "cell_type": "code",
   "execution_count": 128,
   "metadata": {},
   "outputs": [
    {
     "data": {
      "text/plain": [
       "'Jupyter (JupyterLab/ Jupyter Notebooks/ etc'"
      ]
     },
     "execution_count": 128,
     "metadata": {},
     "output_type": "execute_result"
    }
   ],
   "source": [
    "df_q9['q9'][df_q9['q9'].str.contains(patron)][15].split(')')[0].replace(',','/')"
   ]
  },
  {
   "cell_type": "code",
   "execution_count": 159,
   "metadata": {},
   "outputs": [],
   "source": [
    "for c in df_q9['q9']:\n",
    "    if str(df_q9['q9'][df_q9['q9'].str.contains(patron)]) in c:\n",
    "        for i in df_q9['q9'][df_q9['q9'].str.contains(patron)].split(')'):\n",
    "            df_q9['q9'][df_q9['q9'].str.contains(patron)].split(')')[0] = [df_q9['q9'].str.contains(patron)].split(')')[0].replace(',','/')\n"
   ]
  },
  {
   "cell_type": "code",
   "execution_count": 160,
   "metadata": {},
   "outputs": [
    {
     "data": {
      "text/plain": [
       "'Jupyter (JupyterLab, Jupyter Notebooks, etc) , Notepad++'"
      ]
     },
     "execution_count": 160,
     "metadata": {},
     "output_type": "execute_result"
    }
   ],
   "source": [
    "df_q9['q9'][15]"
   ]
  },
  {
   "cell_type": "code",
   "execution_count": 129,
   "metadata": {},
   "outputs": [
    {
     "data": {
      "text/plain": [
       "'Jupyter (JupyterLab, Jupyter Notebooks, etc) , Notepad++'"
      ]
     },
     "execution_count": 129,
     "metadata": {},
     "output_type": "execute_result"
    }
   ],
   "source": [
    "df_q9['q9'][15]"
   ]
  },
  {
   "cell_type": "code",
   "execution_count": 161,
   "metadata": {},
   "outputs": [
    {
     "data": {
      "text/plain": [
       "'Notepad++'"
      ]
     },
     "execution_count": 161,
     "metadata": {},
     "output_type": "execute_result"
    }
   ],
   "source": [
    "df_q9['q9'][df_q9['q9'].str.contains(patron)][15].split(')')[1].lstrip(\" ,\")"
   ]
  },
  {
   "cell_type": "code",
   "execution_count": 162,
   "metadata": {},
   "outputs": [
    {
     "data": {
      "text/plain": [
       "'Jupyter (JupyterLab/ Jupyter Notebooks/ etc'"
      ]
     },
     "execution_count": 162,
     "metadata": {},
     "output_type": "execute_result"
    }
   ],
   "source": [
    "df_q9['q9'][df_q9['q9'].str.contains(patron)][15].split(')')[0].replace(',','/')"
   ]
  },
  {
   "cell_type": "code",
   "execution_count": 132,
   "metadata": {},
   "outputs": [],
   "source": [
    "lista = ['Jupyter (JupyterLab, Jupyter Notebooks, etc)']"
   ]
  },
  {
   "cell_type": "code",
   "execution_count": 133,
   "metadata": {},
   "outputs": [
    {
     "data": {
      "text/plain": [
       "14        Jupyter (JupyterLab, Jupyter Notebooks, etc) \n",
       "15    Jupyter (JupyterLab, Jupyter Notebooks, etc) ,...\n",
       "16    Jupyter (JupyterLab, Jupyter Notebooks, etc) ,...\n",
       "17    Jupyter (JupyterLab, Jupyter Notebooks, etc) ,...\n",
       "18    Jupyter (JupyterLab, Jupyter Notebooks, etc) ,...\n",
       "19    Jupyter (JupyterLab, Jupyter Notebooks, etc) ,...\n",
       "20    Jupyter (JupyterLab, Jupyter Notebooks, etc) ,...\n",
       "21    Jupyter (JupyterLab, Jupyter Notebooks, etc) ,...\n",
       "22    Jupyter (JupyterLab, Jupyter Notebooks, etc) ,...\n",
       "23    Jupyter (JupyterLab, Jupyter Notebooks, etc) ,...\n",
       "24    Jupyter (JupyterLab, Jupyter Notebooks, etc) ,...\n",
       "25    Jupyter (JupyterLab, Jupyter Notebooks, etc) ,...\n",
       "26    Jupyter (JupyterLab, Jupyter Notebooks, etc) ,...\n",
       "27    Jupyter (JupyterLab, Jupyter Notebooks, etc) ,...\n",
       "28    Jupyter (JupyterLab, Jupyter Notebooks, etc) ,...\n",
       "29    Jupyter (JupyterLab, Jupyter Notebooks, etc) ,...\n",
       "30    Jupyter (JupyterLab, Jupyter Notebooks, etc) ,...\n",
       "31    Jupyter (JupyterLab, Jupyter Notebooks, etc) ,...\n",
       "32    Jupyter (JupyterLab, Jupyter Notebooks, etc) ,...\n",
       "33    Jupyter (JupyterLab, Jupyter Notebooks, etc) ,...\n",
       "34    Jupyter (JupyterLab, Jupyter Notebooks, etc) ,...\n",
       "35    Jupyter (JupyterLab, Jupyter Notebooks, etc) ,...\n",
       "36    Jupyter (JupyterLab, Jupyter Notebooks, etc) ,...\n",
       "37    Jupyter (JupyterLab, Jupyter Notebooks, etc) ,...\n",
       "38    Jupyter (JupyterLab, Jupyter Notebooks, etc) ,...\n",
       "39    Jupyter (JupyterLab, Jupyter Notebooks, etc) ,...\n",
       "40    Jupyter (JupyterLab, Jupyter Notebooks, etc) ,...\n",
       "41    Jupyter (JupyterLab, Jupyter Notebooks, etc) ,...\n",
       "42    Jupyter (JupyterLab, Jupyter Notebooks, etc) ,...\n",
       "43    Jupyter (JupyterLab, Jupyter Notebooks, etc) ,...\n",
       "44    Jupyter (JupyterLab, Jupyter Notebooks, etc) ,...\n",
       "45    Jupyter (JupyterLab, Jupyter Notebooks, etc) ,...\n",
       "46    Jupyter (JupyterLab, Jupyter Notebooks, etc) ,...\n",
       "47    Jupyter (JupyterLab, Jupyter Notebooks, etc) ,...\n",
       "48    Jupyter (JupyterLab, Jupyter Notebooks, etc) ,...\n",
       "49    Jupyter (JupyterLab, Jupyter Notebooks, etc) ,...\n",
       "50    Jupyter (JupyterLab, Jupyter Notebooks, etc) ,...\n",
       "51    Jupyter (JupyterLab, Jupyter Notebooks, etc) ,...\n",
       "52    Jupyter (JupyterLab, Jupyter Notebooks, etc) ,...\n",
       "53    Jupyter (JupyterLab, Jupyter Notebooks, etc) ,...\n",
       "54    Jupyter (JupyterLab, Jupyter Notebooks, etc) ,...\n",
       "55    Jupyter (JupyterLab, Jupyter Notebooks, etc) ,...\n",
       "56    Jupyter (JupyterLab, Jupyter Notebooks, etc) ,...\n",
       "57    Jupyter (JupyterLab, Jupyter Notebooks, etc) ,...\n",
       "58    Jupyter (JupyterLab, Jupyter Notebooks, etc) ,...\n",
       "59    Jupyter (JupyterLab, Jupyter Notebooks, etc) ,...\n",
       "60    Jupyter (JupyterLab, Jupyter Notebooks, etc) ,...\n",
       "61    Jupyter (JupyterLab, Jupyter Notebooks, etc) ,...\n",
       "62    Jupyter (JupyterLab, Jupyter Notebooks, etc) ,...\n",
       "63    Jupyter (JupyterLab, Jupyter Notebooks, etc) ,...\n",
       "64    Jupyter (JupyterLab, Jupyter Notebooks, etc) ,...\n",
       "65    Jupyter (JupyterLab, Jupyter Notebooks, etc) ,...\n",
       "66    Jupyter (JupyterLab, Jupyter Notebooks, etc) ,...\n",
       "67    Jupyter (JupyterLab, Jupyter Notebooks, etc) ,...\n",
       "Name: q9, dtype: object"
      ]
     },
     "execution_count": 133,
     "metadata": {},
     "output_type": "execute_result"
    }
   ],
   "source": [
    "a = df_q9['q9'][df_q9['q9'].str.contains('Jupyter (JupyterLab, Jupyter Notebooks, etc)', regex=False)]\n",
    "a"
   ]
  },
  {
   "cell_type": "code",
   "execution_count": 134,
   "metadata": {},
   "outputs": [],
   "source": [
    "def please_work (col):\n",
    "    if col == a:\n",
    "        col.replace('Jupyter (JupyterLab, Jupyter Notebooks, etc)','Jupyter (JupyterLab/ Jupyter Notebooks/ etc)')\n",
    "    else:\n",
    "        col = col"
   ]
  },
  {
   "cell_type": "code",
   "execution_count": 135,
   "metadata": {},
   "outputs": [
    {
     "ename": "ValueError",
     "evalue": "The truth value of a Series is ambiguous. Use a.empty, a.bool(), a.item(), a.any() or a.all().",
     "output_type": "error",
     "traceback": [
      "\u001b[0;31m---------------------------------------------------------------------------\u001b[0m",
      "\u001b[0;31mValueError\u001b[0m                                Traceback (most recent call last)",
      "\u001b[1;32m/Users/paulacolladosaura/Desktop/adalab/Modulo 2/project-DA-promo-b-modulo-2-team-2/paula.ipynb Cell 20\u001b[0m in \u001b[0;36m<cell line: 1>\u001b[0;34m()\u001b[0m\n\u001b[0;32m----> <a href='vscode-notebook-cell:/Users/paulacolladosaura/Desktop/adalab/Modulo%202/project-DA-promo-b-modulo-2-team-2/paula.ipynb#X36sZmlsZQ%3D%3D?line=0'>1</a>\u001b[0m please_work(df_q9[\u001b[39m'\u001b[39;49m\u001b[39mq9\u001b[39;49m\u001b[39m'\u001b[39;49m][\u001b[39m15\u001b[39;49m])\n",
      "\u001b[1;32m/Users/paulacolladosaura/Desktop/adalab/Modulo 2/project-DA-promo-b-modulo-2-team-2/paula.ipynb Cell 20\u001b[0m in \u001b[0;36mplease_work\u001b[0;34m(col)\u001b[0m\n\u001b[1;32m      <a href='vscode-notebook-cell:/Users/paulacolladosaura/Desktop/adalab/Modulo%202/project-DA-promo-b-modulo-2-team-2/paula.ipynb#X36sZmlsZQ%3D%3D?line=0'>1</a>\u001b[0m \u001b[39mdef\u001b[39;00m \u001b[39mplease_work\u001b[39m (col):\n\u001b[0;32m----> <a href='vscode-notebook-cell:/Users/paulacolladosaura/Desktop/adalab/Modulo%202/project-DA-promo-b-modulo-2-team-2/paula.ipynb#X36sZmlsZQ%3D%3D?line=1'>2</a>\u001b[0m     \u001b[39mif\u001b[39;00m col \u001b[39m==\u001b[39m a:\n\u001b[1;32m      <a href='vscode-notebook-cell:/Users/paulacolladosaura/Desktop/adalab/Modulo%202/project-DA-promo-b-modulo-2-team-2/paula.ipynb#X36sZmlsZQ%3D%3D?line=2'>3</a>\u001b[0m         col\u001b[39m.\u001b[39mreplace(\u001b[39m'\u001b[39m\u001b[39mJupyter (JupyterLab, Jupyter Notebooks, etc)\u001b[39m\u001b[39m'\u001b[39m,\u001b[39m'\u001b[39m\u001b[39mJupyter (JupyterLab/ Jupyter Notebooks/ etc)\u001b[39m\u001b[39m'\u001b[39m)\n\u001b[1;32m      <a href='vscode-notebook-cell:/Users/paulacolladosaura/Desktop/adalab/Modulo%202/project-DA-promo-b-modulo-2-team-2/paula.ipynb#X36sZmlsZQ%3D%3D?line=3'>4</a>\u001b[0m     \u001b[39melse\u001b[39;00m:\n",
      "File \u001b[0;32m/opt/anaconda3/lib/python3.9/site-packages/pandas/core/generic.py:1527\u001b[0m, in \u001b[0;36mNDFrame.__nonzero__\u001b[0;34m(self)\u001b[0m\n\u001b[1;32m   1525\u001b[0m \u001b[39m@final\u001b[39m\n\u001b[1;32m   1526\u001b[0m \u001b[39mdef\u001b[39;00m \u001b[39m__nonzero__\u001b[39m(\u001b[39mself\u001b[39m):\n\u001b[0;32m-> 1527\u001b[0m     \u001b[39mraise\u001b[39;00m \u001b[39mValueError\u001b[39;00m(\n\u001b[1;32m   1528\u001b[0m         \u001b[39mf\u001b[39m\u001b[39m\"\u001b[39m\u001b[39mThe truth value of a \u001b[39m\u001b[39m{\u001b[39;00m\u001b[39mtype\u001b[39m(\u001b[39mself\u001b[39m)\u001b[39m.\u001b[39m\u001b[39m__name__\u001b[39m\u001b[39m}\u001b[39;00m\u001b[39m is ambiguous. \u001b[39m\u001b[39m\"\u001b[39m\n\u001b[1;32m   1529\u001b[0m         \u001b[39m\"\u001b[39m\u001b[39mUse a.empty, a.bool(), a.item(), a.any() or a.all().\u001b[39m\u001b[39m\"\u001b[39m\n\u001b[1;32m   1530\u001b[0m     )\n",
      "\u001b[0;31mValueError\u001b[0m: The truth value of a Series is ambiguous. Use a.empty, a.bool(), a.item(), a.any() or a.all()."
     ]
    }
   ],
   "source": [
    "please_work(df_q9['q9'][15])"
   ]
  },
  {
   "cell_type": "code",
   "execution_count": null,
   "metadata": {},
   "outputs": [
    {
     "data": {
      "text/plain": [
       "Series([], Name: q9, dtype: object)"
      ]
     },
     "execution_count": 25,
     "metadata": {},
     "output_type": "execute_result"
    }
   ],
   "source": [
    "df_q9['q9'][df_q9['q9'].isin(lista)]"
   ]
  },
  {
   "cell_type": "code",
   "execution_count": null,
   "metadata": {},
   "outputs": [
    {
     "data": {
      "text/plain": [
       "[Text(0, 0.5, 'Entornos'), Text(0.5, 0, 'Conteo')]"
      ]
     },
     "metadata": {},
     "output_type": "display_data"
    },
    {
     "data": {
      "image/png": "[encoded data removed]",
      "text/plain": [
       "<Figure size 2000x1000 with 1 Axes>"
      ]
     },
     "metadata": {},
     "output_type": "display_data"
    }
   ],
   "source": [
    "plt.figure(figsize=(20,10))\n",
    "fig= sns.barplot(x ='count', y='q9', data=df_q9)\n",
    "plt.title('Entorno de desarrollo integrado')\n",
    "plt.xticks(rotation = 45)\n",
    "fig.set(ylabel='Entornos', xlabel= 'Conteo')"
   ]
  }
 ],
 "metadata": {
  "kernelspec": {
   "display_name": "Python 3.9.6 64-bit",
   "language": "python",
   "name": "python3"
  },
  "language_info": {
   "codemirror_mode": {
    "name": "ipython",
    "version": 3
   },
   "file_extension": ".py",
   "mimetype": "text/x-python",
   "name": "python",
   "nbconvert_exporter": "python",
   "pygments_lexer": "ipython3",
   "version": "3.9.6"
  },
  "orig_nbformat": 4,
  "vscode": {
   "interpreter": {
    "hash": "31f2aee4e71d21fbe5cf8b01ff0e069b9275f58929596ceb00d14d90e3e16cd6"
   }
  }
 },
 "nbformat": 4,
 "nbformat_minor": 2
}
