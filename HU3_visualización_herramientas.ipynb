{
 "cells": [
  {
   "cell_type": "code",
   "execution_count": 61,
   "metadata": {},
   "outputs": [],
   "source": [
    "import pandas as pd\n",
    "import numpy as np \n",
    "import sidetable \n",
    "import matplotlib.pyplot as plt\n",
    "import seaborn as sns\n",
    "pd.options.display.max_columns = None \n"
   ]
  },
  {
   "cell_type": "code",
   "execution_count": 62,
   "metadata": {},
   "outputs": [],
   "source": [
    "def quitar_comillas_2 (col):\n",
    "        try:\n",
    "            return col.split(',')\n",
    "        except:\n",
    "            np.nan"
   ]
  },
  {
   "cell_type": "markdown",
   "metadata": {},
   "source": [
    "### Q5 - Analizamos los roles dentro del mundo data para ver si el curso que quiere ofrecer Adalab (bootcamp para convertirse en analista de datos junior)"
   ]
  },
  {
   "cell_type": "code",
   "execution_count": 63,
   "metadata": {},
   "outputs": [
    {
     "data": {
      "text/html": [
       "<div>\n",
       "<style scoped>\n",
       "    .dataframe tbody tr th:only-of-type {\n",
       "        vertical-align: middle;\n",
       "    }\n",
       "\n",
       "    .dataframe tbody tr th {\n",
       "        vertical-align: top;\n",
       "    }\n",
       "\n",
       "    .dataframe thead th {\n",
       "        text-align: right;\n",
       "    }\n",
       "</style>\n",
       "<table border=\"1\" class=\"dataframe\">\n",
       "  <thead>\n",
       "    <tr style=\"text-align: right;\">\n",
       "      <th></th>\n",
       "      <th>index</th>\n",
       "      <th>q3</th>\n",
       "      <th>q5</th>\n",
       "      <th>q6</th>\n",
       "      <th>q8</th>\n",
       "      <th>q11</th>\n",
       "      <th>q13</th>\n",
       "      <th>q15</th>\n",
       "      <th>q23</th>\n",
       "      <th>q33</th>\n",
       "      <th>q41</th>\n",
       "      <th>q7</th>\n",
       "      <th>q9</th>\n",
       "      <th>q12</th>\n",
       "      <th>q14</th>\n",
       "      <th>q16</th>\n",
       "      <th>q17</th>\n",
       "      <th>q24</th>\n",
       "      <th>q28</th>\n",
       "      <th>q10</th>\n",
       "      <th>q18</th>\n",
       "      <th>q19</th>\n",
       "      <th>q27</th>\n",
       "      <th>q29</th>\n",
       "      <th>q30</th>\n",
       "      <th>q31</th>\n",
       "      <th>q36</th>\n",
       "      <th>q37</th>\n",
       "      <th>q38</th>\n",
       "      <th>q39</th>\n",
       "      <th>q40</th>\n",
       "      <th>q42</th>\n",
       "    </tr>\n",
       "  </thead>\n",
       "  <tbody>\n",
       "    <tr>\n",
       "      <th>0</th>\n",
       "      <td>0</td>\n",
       "      <td>India</td>\n",
       "      <td>Other</td>\n",
       "      <td>5-10 years</td>\n",
       "      <td>Python</td>\n",
       "      <td>A laptop</td>\n",
       "      <td>2-5 times</td>\n",
       "      <td>5-10 years</td>\n",
       "      <td>No (we do not use ML methods)</td>\n",
       "      <td>NaN</td>\n",
       "      <td>Local development environments (RStudio, Jupyt...</td>\n",
       "      <td>Python, R</td>\n",
       "      <td>Vim / Emacs</td>\n",
       "      <td>Google Cloud TPUs</td>\n",
       "      <td>Matplotlib ,Seaborn ,Ggplot / ggplot2 ,Shiny ...</td>\n",
       "      <td>Scikit-learn , TensorFlow ,Caret</td>\n",
       "      <td>Linear or Logistic Regression, Decision Trees ...</td>\n",
       "      <td>None of these activities are an important par...</td>\n",
       "      <td>NaN</td>\n",
       "      <td>NaN</td>\n",
       "      <td>General purpose image/video tools (PIL, cv2, s...</td>\n",
       "      <td>Word embeddings/vectors (GLoVe, fastText, word...</td>\n",
       "      <td>NaN</td>\n",
       "      <td>NaN</td>\n",
       "      <td>NaN</td>\n",
       "      <td>NaN</td>\n",
       "      <td>NaN</td>\n",
       "      <td>NaN</td>\n",
       "      <td>NaN</td>\n",
       "      <td>NaN</td>\n",
       "      <td>Coursera?edX?Kaggle Learn Courses?DataCamp?</td>\n",
       "      <td>NaN</td>\n",
       "    </tr>\n",
       "    <tr>\n",
       "      <th>1</th>\n",
       "      <td>1</td>\n",
       "      <td>Indonesia</td>\n",
       "      <td>Program/Project Manager</td>\n",
       "      <td>20+ years</td>\n",
       "      <td>Python</td>\n",
       "      <td>A cloud computing platform</td>\n",
       "      <td>Never</td>\n",
       "      <td>&lt; 1 year</td>\n",
       "      <td>We are exploring ML methods (and may one day p...</td>\n",
       "      <td>NaN</td>\n",
       "      <td>Advanced statistical software (SPSS, SAS, etc.)</td>\n",
       "      <td>SQL, C, C++, Java</td>\n",
       "      <td>Notepad++,Jupyter Notebook</td>\n",
       "      <td>None</td>\n",
       "      <td>Matplotlib</td>\n",
       "      <td>Scikit-learn</td>\n",
       "      <td>Linear or Logistic Regression, Decision Trees ...</td>\n",
       "      <td>Build and/or run the data infrastructure that...</td>\n",
       "      <td>NaN</td>\n",
       "      <td>Kaggle Notebooks?Colab Notebooks?</td>\n",
       "      <td>NaN</td>\n",
       "      <td>NaN</td>\n",
       "      <td>NaN</td>\n",
       "      <td>NaN</td>\n",
       "      <td>NaN</td>\n",
       "      <td>NaN</td>\n",
       "      <td>NaN</td>\n",
       "      <td>NaN</td>\n",
       "      <td>NaN</td>\n",
       "      <td>NaN</td>\n",
       "      <td>NaN</td>\n",
       "      <td>NaN</td>\n",
       "    </tr>\n",
       "    <tr>\n",
       "      <th>2</th>\n",
       "      <td>2</td>\n",
       "      <td>Pakistan</td>\n",
       "      <td>Software Engineer</td>\n",
       "      <td>1-3 years</td>\n",
       "      <td>Python</td>\n",
       "      <td>A laptop</td>\n",
       "      <td>Never</td>\n",
       "      <td>I do not use machine learning methods</td>\n",
       "      <td>I do not know</td>\n",
       "      <td>MySQL</td>\n",
       "      <td>Basic statistical software (Microsoft Excel, G...</td>\n",
       "      <td>Python, C++, Java</td>\n",
       "      <td>PyCharm ,Jupyter Notebook, Other</td>\n",
       "      <td>Other</td>\n",
       "      <td>Matplotlib</td>\n",
       "      <td>NaN</td>\n",
       "      <td>NaN</td>\n",
       "      <td>None of these activities are an important par...</td>\n",
       "      <td>NaN</td>\n",
       "      <td>Kaggle Notebooks?</td>\n",
       "      <td>NaN</td>\n",
       "      <td>NaN</td>\n",
       "      <td>NaN</td>\n",
       "      <td>NaN</td>\n",
       "      <td>NaN</td>\n",
       "      <td>NaN</td>\n",
       "      <td>NaN</td>\n",
       "      <td>NaN</td>\n",
       "      <td>NaN</td>\n",
       "      <td>NaN</td>\n",
       "      <td>NaN</td>\n",
       "      <td>NaN</td>\n",
       "    </tr>\n",
       "    <tr>\n",
       "      <th>3</th>\n",
       "      <td>3</td>\n",
       "      <td>Mexico</td>\n",
       "      <td>Research Scientist</td>\n",
       "      <td>20+ years</td>\n",
       "      <td>Python</td>\n",
       "      <td>A cloud computing platform</td>\n",
       "      <td>More than 25 times</td>\n",
       "      <td>5-10 years</td>\n",
       "      <td>I do not know</td>\n",
       "      <td>NaN</td>\n",
       "      <td>Local development environments (RStudio, Jupyt...</td>\n",
       "      <td>Python</td>\n",
       "      <td>Spyder,Jupyter Notebook</td>\n",
       "      <td>NVIDIA GPUs</td>\n",
       "      <td>Matplotlib</td>\n",
       "      <td>Scikit-learn , TensorFlow ,Keras</td>\n",
       "      <td>Dense Neural Networks (MLPs, etc), Convolutio...</td>\n",
       "      <td>Do research that advances the state of the ar...</td>\n",
       "      <td>NaN</td>\n",
       "      <td>NaN</td>\n",
       "      <td>General purpose image/video tools (PIL, cv2, s...</td>\n",
       "      <td>NaN</td>\n",
       "      <td>NaN</td>\n",
       "      <td>NaN</td>\n",
       "      <td>NaN</td>\n",
       "      <td>NaN</td>\n",
       "      <td>NaN</td>\n",
       "      <td>NaN</td>\n",
       "      <td>NaN</td>\n",
       "      <td>NaN</td>\n",
       "      <td>Coursera?edX?</td>\n",
       "      <td>NaN</td>\n",
       "    </tr>\n",
       "    <tr>\n",
       "      <th>4</th>\n",
       "      <td>4</td>\n",
       "      <td>India</td>\n",
       "      <td>Other</td>\n",
       "      <td>&lt; 1 years</td>\n",
       "      <td>Python</td>\n",
       "      <td>A cloud computing platform</td>\n",
       "      <td>Never</td>\n",
       "      <td>10-20 years</td>\n",
       "      <td>We use ML methods for generating insights (but...</td>\n",
       "      <td>NaN</td>\n",
       "      <td>Local development environments (RStudio, Jupyt...</td>\n",
       "      <td>Python, C, MATLAB</td>\n",
       "      <td>Spyder,MATLAB ,Jupyter Notebook</td>\n",
       "      <td>None</td>\n",
       "      <td>Matplotlib ,Seaborn ,Ggplot / ggplot2</td>\n",
       "      <td>Scikit-learn ,PyTorch ,LightGBM</td>\n",
       "      <td>Linear or Logistic Regression, Decision Trees ...</td>\n",
       "      <td>Analyze and understand data to influence produ...</td>\n",
       "      <td>NaN</td>\n",
       "      <td>NaN</td>\n",
       "      <td>NaN</td>\n",
       "      <td>NaN</td>\n",
       "      <td>NaN</td>\n",
       "      <td>NaN</td>\n",
       "      <td>Microsoft Azure Data Lake Storage ?</td>\n",
       "      <td>NaN</td>\n",
       "      <td>NaN</td>\n",
       "      <td>NaN</td>\n",
       "      <td>NaN</td>\n",
       "      <td>NaN</td>\n",
       "      <td>NaN</td>\n",
       "      <td>NaN</td>\n",
       "    </tr>\n",
       "  </tbody>\n",
       "</table>\n",
       "</div>"
      ],
      "text/plain": [
       "   index         q3                       q5          q6      q8  \\\n",
       "0      0      India                    Other  5-10 years  Python   \n",
       "1      1  Indonesia  Program/Project Manager   20+ years  Python   \n",
       "2      2   Pakistan        Software Engineer   1-3 years  Python   \n",
       "3      3     Mexico       Research Scientist   20+ years  Python   \n",
       "4      4      India                    Other   < 1 years  Python   \n",
       "\n",
       "                           q11                 q13  \\\n",
       "0                     A laptop           2-5 times   \n",
       "1  A cloud computing platform                Never   \n",
       "2                     A laptop               Never   \n",
       "3  A cloud computing platform   More than 25 times   \n",
       "4  A cloud computing platform                Never   \n",
       "\n",
       "                                     q15  \\\n",
       "0                             5-10 years   \n",
       "1                               < 1 year   \n",
       "2  I do not use machine learning methods   \n",
       "3                             5-10 years   \n",
       "4                            10-20 years   \n",
       "\n",
       "                                                 q23     q33  \\\n",
       "0                      No (we do not use ML methods)     NaN   \n",
       "1  We are exploring ML methods (and may one day p...     NaN   \n",
       "2                                      I do not know  MySQL    \n",
       "3                                      I do not know     NaN   \n",
       "4  We use ML methods for generating insights (but...     NaN   \n",
       "\n",
       "                                                 q41                  q7  \\\n",
       "0  Local development environments (RStudio, Jupyt...           Python, R   \n",
       "1    Advanced statistical software (SPSS, SAS, etc.)   SQL, C, C++, Java   \n",
       "2  Basic statistical software (Microsoft Excel, G...   Python, C++, Java   \n",
       "3  Local development environments (RStudio, Jupyt...              Python   \n",
       "4  Local development environments (RStudio, Jupyt...   Python, C, MATLAB   \n",
       "\n",
       "                                 q9                 q12  \\\n",
       "0                       Vim / Emacs  Google Cloud TPUs    \n",
       "1        Notepad++,Jupyter Notebook                None   \n",
       "2  PyCharm ,Jupyter Notebook, Other               Other   \n",
       "3           Spyder,Jupyter Notebook        NVIDIA GPUs    \n",
       "4   Spyder,MATLAB ,Jupyter Notebook                None   \n",
       "\n",
       "                                                 q14  \\\n",
       "0   Matplotlib ,Seaborn ,Ggplot / ggplot2 ,Shiny ...   \n",
       "1                                        Matplotlib    \n",
       "2                                        Matplotlib    \n",
       "3                                        Matplotlib    \n",
       "4             Matplotlib ,Seaborn ,Ggplot / ggplot2    \n",
       "\n",
       "                                 q16  \\\n",
       "0  Scikit-learn , TensorFlow ,Caret    \n",
       "1                      Scikit-learn    \n",
       "2                                NaN   \n",
       "3  Scikit-learn , TensorFlow ,Keras    \n",
       "4   Scikit-learn ,PyTorch ,LightGBM    \n",
       "\n",
       "                                                 q17  \\\n",
       "0  Linear or Logistic Regression, Decision Trees ...   \n",
       "1  Linear or Logistic Regression, Decision Trees ...   \n",
       "2                                                NaN   \n",
       "3   Dense Neural Networks (MLPs, etc), Convolutio...   \n",
       "4  Linear or Logistic Regression, Decision Trees ...   \n",
       "\n",
       "                                                 q24  q28  \\\n",
       "0   None of these activities are an important par...  NaN   \n",
       "1   Build and/or run the data infrastructure that...  NaN   \n",
       "2   None of these activities are an important par...  NaN   \n",
       "3   Do research that advances the state of the ar...  NaN   \n",
       "4  Analyze and understand data to influence produ...  NaN   \n",
       "\n",
       "                                  q10  \\\n",
       "0                                 NaN   \n",
       "1   Kaggle Notebooks?Colab Notebooks?   \n",
       "2                   Kaggle Notebooks?   \n",
       "3                                 NaN   \n",
       "4                                 NaN   \n",
       "\n",
       "                                                 q18  \\\n",
       "0  General purpose image/video tools (PIL, cv2, s...   \n",
       "1                                                NaN   \n",
       "2                                                NaN   \n",
       "3  General purpose image/video tools (PIL, cv2, s...   \n",
       "4                                                NaN   \n",
       "\n",
       "                                                 q19  q27  q29  \\\n",
       "0  Word embeddings/vectors (GLoVe, fastText, word...  NaN  NaN   \n",
       "1                                                NaN  NaN  NaN   \n",
       "2                                                NaN  NaN  NaN   \n",
       "3                                                NaN  NaN  NaN   \n",
       "4                                                NaN  NaN  NaN   \n",
       "\n",
       "                                   q30  q31  q36  q37  q38  q39  \\\n",
       "0                                  NaN  NaN  NaN  NaN  NaN  NaN   \n",
       "1                                  NaN  NaN  NaN  NaN  NaN  NaN   \n",
       "2                                  NaN  NaN  NaN  NaN  NaN  NaN   \n",
       "3                                  NaN  NaN  NaN  NaN  NaN  NaN   \n",
       "4  Microsoft Azure Data Lake Storage ?  NaN  NaN  NaN  NaN  NaN   \n",
       "\n",
       "                                           q40  q42  \n",
       "0  Coursera?edX?Kaggle Learn Courses?DataCamp?  NaN  \n",
       "1                                          NaN  NaN  \n",
       "2                                          NaN  NaN  \n",
       "3                                Coursera?edX?  NaN  \n",
       "4                                          NaN  NaN  "
      ]
     },
     "execution_count": 63,
     "metadata": {},
     "output_type": "execute_result"
    }
   ],
   "source": [
    "df_completo = pd.read_csv('./datos/HU2.csv', index_col = 0)\n",
    "df_completo.head()"
   ]
  },
  {
   "cell_type": "code",
   "execution_count": 64,
   "metadata": {},
   "outputs": [
    {
     "data": {
      "text/html": [
       "<div>\n",
       "<style scoped>\n",
       "    .dataframe tbody tr th:only-of-type {\n",
       "        vertical-align: middle;\n",
       "    }\n",
       "\n",
       "    .dataframe tbody tr th {\n",
       "        vertical-align: top;\n",
       "    }\n",
       "\n",
       "    .dataframe thead th {\n",
       "        text-align: right;\n",
       "    }\n",
       "</style>\n",
       "<table border=\"1\" class=\"dataframe\">\n",
       "  <thead>\n",
       "    <tr style=\"text-align: right;\">\n",
       "      <th></th>\n",
       "      <th>index</th>\n",
       "      <th>q5</th>\n",
       "    </tr>\n",
       "  </thead>\n",
       "  <tbody>\n",
       "    <tr>\n",
       "      <th>0</th>\n",
       "      <td>0</td>\n",
       "      <td>Other</td>\n",
       "    </tr>\n",
       "    <tr>\n",
       "      <th>1</th>\n",
       "      <td>1</td>\n",
       "      <td>Program/Project Manager</td>\n",
       "    </tr>\n",
       "    <tr>\n",
       "      <th>2</th>\n",
       "      <td>2</td>\n",
       "      <td>Software Engineer</td>\n",
       "    </tr>\n",
       "    <tr>\n",
       "      <th>3</th>\n",
       "      <td>3</td>\n",
       "      <td>Research Scientist</td>\n",
       "    </tr>\n",
       "    <tr>\n",
       "      <th>4</th>\n",
       "      <td>4</td>\n",
       "      <td>Other</td>\n",
       "    </tr>\n",
       "    <tr>\n",
       "      <th>...</th>\n",
       "      <td>...</td>\n",
       "      <td>...</td>\n",
       "    </tr>\n",
       "    <tr>\n",
       "      <th>25968</th>\n",
       "      <td>25968</td>\n",
       "      <td>Data Analyst</td>\n",
       "    </tr>\n",
       "    <tr>\n",
       "      <th>25969</th>\n",
       "      <td>25969</td>\n",
       "      <td>Student</td>\n",
       "    </tr>\n",
       "    <tr>\n",
       "      <th>25970</th>\n",
       "      <td>25970</td>\n",
       "      <td>Research Scientist</td>\n",
       "    </tr>\n",
       "    <tr>\n",
       "      <th>25971</th>\n",
       "      <td>25971</td>\n",
       "      <td>Data Scientist</td>\n",
       "    </tr>\n",
       "    <tr>\n",
       "      <th>25972</th>\n",
       "      <td>25972</td>\n",
       "      <td>Business Analyst</td>\n",
       "    </tr>\n",
       "  </tbody>\n",
       "</table>\n",
       "<p>25973 rows × 2 columns</p>\n",
       "</div>"
      ],
      "text/plain": [
       "       index                       q5\n",
       "0          0                    Other\n",
       "1          1  Program/Project Manager\n",
       "2          2        Software Engineer\n",
       "3          3       Research Scientist\n",
       "4          4                    Other\n",
       "...      ...                      ...\n",
       "25968  25968             Data Analyst\n",
       "25969  25969                  Student\n",
       "25970  25970       Research Scientist\n",
       "25971  25971           Data Scientist\n",
       "25972  25972         Business Analyst\n",
       "\n",
       "[25973 rows x 2 columns]"
      ]
     },
     "execution_count": 64,
     "metadata": {},
     "output_type": "execute_result"
    }
   ],
   "source": [
    "df_q5=df_completo['q5'].reset_index()\n",
    "df_q5"
   ]
  },
  {
   "cell_type": "code",
   "execution_count": 65,
   "metadata": {},
   "outputs": [],
   "source": [
    "df_q5['q5'] = df_q5['q5'].apply(quitar_comillas_2)\n",
    "df_5_explode = df_q5['q5'].explode().reset_index()\n",
    "gb5 = df_5_explode.groupby('q5').size()\n",
    "df_q5 = gb5.reset_index(name='count')\n",
    "df_q5.drop(0, axis= 0,inplace=True)"
   ]
  },
  {
   "cell_type": "code",
   "execution_count": 66,
   "metadata": {},
   "outputs": [
    {
     "data": {
      "text/plain": [
       "[Text(0, 0.5, 'Roles'), Text(0.5, 0, 'Conteo')]"
      ]
     },
     "execution_count": 66,
     "metadata": {},
     "output_type": "execute_result"
    },
    {
     "data": {
      "image/png": "[encoded data removed]",
      "text/plain": [
       "<Figure size 1440x720 with 1 Axes>"
      ]
     },
     "metadata": {
      "needs_background": "light"
     },
     "output_type": "display_data"
    }
   ],
   "source": [
    "plt.figure(figsize=(20,10))\n",
    "fig= sns.barplot(x ='count', y='q5', data=df_q5)\n",
    "plt.title('Roles de Data                                                                *datos obtenidos de la totalidad de respuestas')\n",
    "plt.xticks(rotation = 45)\n",
    "fig.set(ylabel='Roles', xlabel= 'Conteo')\n"
   ]
  },
  {
   "cell_type": "markdown",
   "metadata": {},
   "source": [
    "# Creamos a nuestra persona, que responderá al target deseado para el cliente de Adalab: Analista de datos junior, con ninguna experiencia o una máxima de 2 años programando.\n",
    "#### De esta manera, cargamos el DF filtrado por rol (q5 = data analyst) y por años de experiencia programando (q6 = I have never written code, < 1 years, o 1-2 years) "
   ]
  },
  {
   "cell_type": "code",
   "execution_count": 67,
   "metadata": {},
   "outputs": [
    {
     "data": {
      "text/html": [
       "<div>\n",
       "<style scoped>\n",
       "    .dataframe tbody tr th:only-of-type {\n",
       "        vertical-align: middle;\n",
       "    }\n",
       "\n",
       "    .dataframe tbody tr th {\n",
       "        vertical-align: top;\n",
       "    }\n",
       "\n",
       "    .dataframe thead th {\n",
       "        text-align: right;\n",
       "    }\n",
       "</style>\n",
       "<table border=\"1\" class=\"dataframe\">\n",
       "  <thead>\n",
       "    <tr style=\"text-align: right;\">\n",
       "      <th></th>\n",
       "      <th>index</th>\n",
       "      <th>q3</th>\n",
       "      <th>q5</th>\n",
       "      <th>q6</th>\n",
       "      <th>q8</th>\n",
       "      <th>q11</th>\n",
       "      <th>q13</th>\n",
       "      <th>q15</th>\n",
       "      <th>q23</th>\n",
       "      <th>q33</th>\n",
       "      <th>q41</th>\n",
       "      <th>q7</th>\n",
       "      <th>q9</th>\n",
       "      <th>q12</th>\n",
       "      <th>q14</th>\n",
       "      <th>q16</th>\n",
       "      <th>q17</th>\n",
       "      <th>q24</th>\n",
       "      <th>q28</th>\n",
       "      <th>q10</th>\n",
       "      <th>q18</th>\n",
       "      <th>q19</th>\n",
       "      <th>q27</th>\n",
       "      <th>q29</th>\n",
       "      <th>q30</th>\n",
       "      <th>q31</th>\n",
       "      <th>q36</th>\n",
       "      <th>q37</th>\n",
       "      <th>q38</th>\n",
       "      <th>q39</th>\n",
       "      <th>q40</th>\n",
       "      <th>q42</th>\n",
       "    </tr>\n",
       "  </thead>\n",
       "  <tbody>\n",
       "    <tr>\n",
       "      <th>32</th>\n",
       "      <td>32</td>\n",
       "      <td>United States of America</td>\n",
       "      <td>Data Analyst</td>\n",
       "      <td>&lt; 1 years</td>\n",
       "      <td>R</td>\n",
       "      <td>A personal computer / desktop</td>\n",
       "      <td>Never</td>\n",
       "      <td>I do not use machine learning methods</td>\n",
       "      <td>NaN</td>\n",
       "      <td>NaN</td>\n",
       "      <td>NaN</td>\n",
       "      <td>R</td>\n",
       "      <td>RStudio</td>\n",
       "      <td>NVIDIA GPUs</td>\n",
       "      <td>Ggplot / ggplot2</td>\n",
       "      <td>NaN</td>\n",
       "      <td>NaN</td>\n",
       "      <td>NaN</td>\n",
       "      <td>NaN</td>\n",
       "      <td>NaN</td>\n",
       "      <td>NaN</td>\n",
       "      <td>NaN</td>\n",
       "      <td>NaN</td>\n",
       "      <td>NaN</td>\n",
       "      <td>NaN</td>\n",
       "      <td>NaN</td>\n",
       "      <td>NaN</td>\n",
       "      <td>NaN</td>\n",
       "      <td>NaN</td>\n",
       "      <td>NaN</td>\n",
       "      <td>NaN</td>\n",
       "      <td>NaN</td>\n",
       "    </tr>\n",
       "    <tr>\n",
       "      <th>46</th>\n",
       "      <td>46</td>\n",
       "      <td>China</td>\n",
       "      <td>Data Analyst</td>\n",
       "      <td>&lt; 1 years</td>\n",
       "      <td>Python</td>\n",
       "      <td>A personal computer / desktop</td>\n",
       "      <td>2-5 times</td>\n",
       "      <td>1-2 years</td>\n",
       "      <td>No (we do not use ML methods)</td>\n",
       "      <td>NaN</td>\n",
       "      <td>Basic statistical software (Microsoft Excel, G...</td>\n",
       "      <td>Python, SQL, C, C++, Java, Javascript, MATLAB</td>\n",
       "      <td>Jupyter  ,PyCharm ,MATLAB ,Jupyter Notebook</td>\n",
       "      <td>NVIDIA GPUs</td>\n",
       "      <td>Matplotlib ,Plotly / Plotly Express</td>\n",
       "      <td>Scikit-learn , TensorFlow ,Keras ,PyTorch</td>\n",
       "      <td>Linear or Logistic Regression, Decision Trees ...</td>\n",
       "      <td>Analyze and understand data to influence produ...</td>\n",
       "      <td>NaN</td>\n",
       "      <td>Kaggle Notebooks?</td>\n",
       "      <td>NaN</td>\n",
       "      <td>NaN</td>\n",
       "      <td>NaN</td>\n",
       "      <td>NaN</td>\n",
       "      <td>NaN</td>\n",
       "      <td>NaN</td>\n",
       "      <td>NaN</td>\n",
       "      <td>NaN</td>\n",
       "      <td>NaN</td>\n",
       "      <td>NaN</td>\n",
       "      <td>Coursera?edX?Kaggle Learn Courses?</td>\n",
       "      <td>Twitter (data science influencers)?</td>\n",
       "    </tr>\n",
       "    <tr>\n",
       "      <th>66</th>\n",
       "      <td>66</td>\n",
       "      <td>China</td>\n",
       "      <td>Data Analyst</td>\n",
       "      <td>&lt; 1 years</td>\n",
       "      <td>Python</td>\n",
       "      <td>A laptop</td>\n",
       "      <td>Never</td>\n",
       "      <td>&lt; 1 year</td>\n",
       "      <td>I do not know</td>\n",
       "      <td>NaN</td>\n",
       "      <td>Basic statistical software (Microsoft Excel, G...</td>\n",
       "      <td>Python</td>\n",
       "      <td>PyCharm , Spyder</td>\n",
       "      <td>None</td>\n",
       "      <td>None</td>\n",
       "      <td>Other</td>\n",
       "      <td>Other</td>\n",
       "      <td>Analyze and understand data to influence produ...</td>\n",
       "      <td>NaN</td>\n",
       "      <td>NaN</td>\n",
       "      <td>NaN</td>\n",
       "      <td>NaN</td>\n",
       "      <td>NaN</td>\n",
       "      <td>NaN</td>\n",
       "      <td>NaN</td>\n",
       "      <td>NaN</td>\n",
       "      <td>NaN</td>\n",
       "      <td>NaN</td>\n",
       "      <td>NaN</td>\n",
       "      <td>NaN</td>\n",
       "      <td>NaN</td>\n",
       "      <td>NaN</td>\n",
       "    </tr>\n",
       "    <tr>\n",
       "      <th>102</th>\n",
       "      <td>102</td>\n",
       "      <td>India</td>\n",
       "      <td>Data Analyst</td>\n",
       "      <td>&lt; 1 years</td>\n",
       "      <td>Python</td>\n",
       "      <td>A laptop</td>\n",
       "      <td>Once</td>\n",
       "      <td>&lt; 1 year</td>\n",
       "      <td>We are exploring ML methods (and may one day p...</td>\n",
       "      <td>NaN</td>\n",
       "      <td>Basic statistical software (Microsoft Excel, G...</td>\n",
       "      <td>Python</td>\n",
       "      <td>Jupyter  ,Jupyter Notebook</td>\n",
       "      <td>None</td>\n",
       "      <td>Matplotlib ,Seaborn ,Ggplot / ggplot2</td>\n",
       "      <td>Scikit-learn , TensorFlow ,Keras ,Xgboost</td>\n",
       "      <td>Linear or Logistic Regression, Decision Trees ...</td>\n",
       "      <td>Analyze and understand data to influence produ...</td>\n",
       "      <td>NaN</td>\n",
       "      <td>NaN</td>\n",
       "      <td>NaN</td>\n",
       "      <td>NaN</td>\n",
       "      <td>NaN</td>\n",
       "      <td>NaN</td>\n",
       "      <td>NaN</td>\n",
       "      <td>NaN</td>\n",
       "      <td>NaN</td>\n",
       "      <td>NaN</td>\n",
       "      <td>NaN</td>\n",
       "      <td>NaN</td>\n",
       "      <td>Coursera?</td>\n",
       "      <td>NaN</td>\n",
       "    </tr>\n",
       "    <tr>\n",
       "      <th>108</th>\n",
       "      <td>108</td>\n",
       "      <td>Israel</td>\n",
       "      <td>Data Analyst</td>\n",
       "      <td>&lt; 1 years</td>\n",
       "      <td>Python</td>\n",
       "      <td>A personal computer / desktop</td>\n",
       "      <td>Never</td>\n",
       "      <td>I do not use machine learning methods</td>\n",
       "      <td>We use ML methods for generating insights (but...</td>\n",
       "      <td>NaN</td>\n",
       "      <td>Business intelligence software (Salesforce, Ta...</td>\n",
       "      <td>Python, SQL</td>\n",
       "      <td>Jupyter Notebook, Other</td>\n",
       "      <td>None</td>\n",
       "      <td>Matplotlib ,Seaborn</td>\n",
       "      <td>NaN</td>\n",
       "      <td>NaN</td>\n",
       "      <td>Analyze and understand data to influence produ...</td>\n",
       "      <td>NaN</td>\n",
       "      <td>NaN</td>\n",
       "      <td>NaN</td>\n",
       "      <td>NaN</td>\n",
       "      <td>NaN</td>\n",
       "      <td>NaN</td>\n",
       "      <td>NaN</td>\n",
       "      <td>NaN</td>\n",
       "      <td>NaN</td>\n",
       "      <td>NaN</td>\n",
       "      <td>NaN</td>\n",
       "      <td>NaN</td>\n",
       "      <td>Coursera?</td>\n",
       "      <td>NaN</td>\n",
       "    </tr>\n",
       "  </tbody>\n",
       "</table>\n",
       "</div>"
      ],
      "text/plain": [
       "     index                        q3            q5         q6      q8  \\\n",
       "32      32  United States of America  Data Analyst  < 1 years       R   \n",
       "46      46                     China  Data Analyst  < 1 years  Python   \n",
       "66      66                     China  Data Analyst  < 1 years  Python   \n",
       "102    102                     India  Data Analyst  < 1 years  Python   \n",
       "108    108                    Israel  Data Analyst  < 1 years  Python   \n",
       "\n",
       "                               q11        q13  \\\n",
       "32   A personal computer / desktop      Never   \n",
       "46   A personal computer / desktop  2-5 times   \n",
       "66                        A laptop      Never   \n",
       "102                       A laptop       Once   \n",
       "108  A personal computer / desktop      Never   \n",
       "\n",
       "                                       q15  \\\n",
       "32   I do not use machine learning methods   \n",
       "46                               1-2 years   \n",
       "66                                < 1 year   \n",
       "102                               < 1 year   \n",
       "108  I do not use machine learning methods   \n",
       "\n",
       "                                                   q23  q33  \\\n",
       "32                                                 NaN  NaN   \n",
       "46                       No (we do not use ML methods)  NaN   \n",
       "66                                       I do not know  NaN   \n",
       "102  We are exploring ML methods (and may one day p...  NaN   \n",
       "108  We use ML methods for generating insights (but...  NaN   \n",
       "\n",
       "                                                   q41  \\\n",
       "32                                                 NaN   \n",
       "46   Basic statistical software (Microsoft Excel, G...   \n",
       "66   Basic statistical software (Microsoft Excel, G...   \n",
       "102  Basic statistical software (Microsoft Excel, G...   \n",
       "108  Business intelligence software (Salesforce, Ta...   \n",
       "\n",
       "                                                q7  \\\n",
       "32                                               R   \n",
       "46   Python, SQL, C, C++, Java, Javascript, MATLAB   \n",
       "66                                          Python   \n",
       "102                                         Python   \n",
       "108                                    Python, SQL   \n",
       "\n",
       "                                              q9            q12  \\\n",
       "32                                      RStudio    NVIDIA GPUs    \n",
       "46   Jupyter  ,PyCharm ,MATLAB ,Jupyter Notebook   NVIDIA GPUs    \n",
       "66                              PyCharm , Spyder           None   \n",
       "102                   Jupyter  ,Jupyter Notebook           None   \n",
       "108                      Jupyter Notebook, Other           None   \n",
       "\n",
       "                                         q14  \\\n",
       "32                         Ggplot / ggplot2    \n",
       "46      Matplotlib ,Plotly / Plotly Express    \n",
       "66                                      None   \n",
       "102   Matplotlib ,Seaborn ,Ggplot / ggplot2    \n",
       "108                     Matplotlib ,Seaborn    \n",
       "\n",
       "                                            q16  \\\n",
       "32                                          NaN   \n",
       "46   Scikit-learn , TensorFlow ,Keras ,PyTorch    \n",
       "66                                        Other   \n",
       "102  Scikit-learn , TensorFlow ,Keras ,Xgboost    \n",
       "108                                         NaN   \n",
       "\n",
       "                                                   q17  \\\n",
       "32                                                 NaN   \n",
       "46   Linear or Logistic Regression, Decision Trees ...   \n",
       "66                                               Other   \n",
       "102  Linear or Logistic Regression, Decision Trees ...   \n",
       "108                                                NaN   \n",
       "\n",
       "                                                   q24  q28  \\\n",
       "32                                                 NaN  NaN   \n",
       "46   Analyze and understand data to influence produ...  NaN   \n",
       "66   Analyze and understand data to influence produ...  NaN   \n",
       "102  Analyze and understand data to influence produ...  NaN   \n",
       "108  Analyze and understand data to influence produ...  NaN   \n",
       "\n",
       "                    q10  q18  q19  q27  q29  q30  q31  q36  q37  q38  q39  \\\n",
       "32                  NaN  NaN  NaN  NaN  NaN  NaN  NaN  NaN  NaN  NaN  NaN   \n",
       "46    Kaggle Notebooks?  NaN  NaN  NaN  NaN  NaN  NaN  NaN  NaN  NaN  NaN   \n",
       "66                  NaN  NaN  NaN  NaN  NaN  NaN  NaN  NaN  NaN  NaN  NaN   \n",
       "102                 NaN  NaN  NaN  NaN  NaN  NaN  NaN  NaN  NaN  NaN  NaN   \n",
       "108                 NaN  NaN  NaN  NaN  NaN  NaN  NaN  NaN  NaN  NaN  NaN   \n",
       "\n",
       "                                    q40                                  q42  \n",
       "32                                  NaN                                  NaN  \n",
       "46   Coursera?edX?Kaggle Learn Courses?  Twitter (data science influencers)?  \n",
       "66                                  NaN                                  NaN  \n",
       "102                           Coursera?                                  NaN  \n",
       "108                           Coursera?                                  NaN  "
      ]
     },
     "execution_count": 67,
     "metadata": {},
     "output_type": "execute_result"
    }
   ],
   "source": [
    "df = pd.read_csv('./datos/data_analyst.csv', index_col = 0)\n",
    "df.head()"
   ]
  },
  {
   "cell_type": "code",
   "execution_count": 68,
   "metadata": {},
   "outputs": [
    {
     "data": {
      "text/plain": [
       "array(['< 1 years', 'I have never written code'], dtype=object)"
      ]
     },
     "execution_count": 68,
     "metadata": {},
     "output_type": "execute_result"
    }
   ],
   "source": [
    "df['q6'].unique() # años de experiencia deseados para nuestra persona"
   ]
  },
  {
   "cell_type": "code",
   "execution_count": 69,
   "metadata": {},
   "outputs": [
    {
     "data": {
      "text/plain": [
       "array(['Data Analyst'], dtype=object)"
      ]
     },
     "execution_count": 69,
     "metadata": {},
     "output_type": "execute_result"
    }
   ],
   "source": [
    "df['q5'].unique() # rol deseado de nuestra persona"
   ]
  },
  {
   "cell_type": "markdown",
   "metadata": {},
   "source": [
    "### Q7 - analizamos los lenguages de programación que se utilizan más"
   ]
  },
  {
   "cell_type": "code",
   "execution_count": 70,
   "metadata": {},
   "outputs": [
    {
     "data": {
      "text/html": [
       "<div>\n",
       "<style scoped>\n",
       "    .dataframe tbody tr th:only-of-type {\n",
       "        vertical-align: middle;\n",
       "    }\n",
       "\n",
       "    .dataframe tbody tr th {\n",
       "        vertical-align: top;\n",
       "    }\n",
       "\n",
       "    .dataframe thead th {\n",
       "        text-align: right;\n",
       "    }\n",
       "</style>\n",
       "<table border=\"1\" class=\"dataframe\">\n",
       "  <thead>\n",
       "    <tr style=\"text-align: right;\">\n",
       "      <th></th>\n",
       "      <th>index</th>\n",
       "      <th>q7</th>\n",
       "    </tr>\n",
       "  </thead>\n",
       "  <tbody>\n",
       "    <tr>\n",
       "      <th>0</th>\n",
       "      <td>32</td>\n",
       "      <td>R</td>\n",
       "    </tr>\n",
       "    <tr>\n",
       "      <th>1</th>\n",
       "      <td>46</td>\n",
       "      <td>Python, SQL, C, C++, Java, Javascript, MATLAB</td>\n",
       "    </tr>\n",
       "    <tr>\n",
       "      <th>2</th>\n",
       "      <td>66</td>\n",
       "      <td>Python</td>\n",
       "    </tr>\n",
       "    <tr>\n",
       "      <th>3</th>\n",
       "      <td>102</td>\n",
       "      <td>Python</td>\n",
       "    </tr>\n",
       "    <tr>\n",
       "      <th>4</th>\n",
       "      <td>108</td>\n",
       "      <td>Python, SQL</td>\n",
       "    </tr>\n",
       "    <tr>\n",
       "      <th>...</th>\n",
       "      <td>...</td>\n",
       "      <td>...</td>\n",
       "    </tr>\n",
       "    <tr>\n",
       "      <th>746</th>\n",
       "      <td>25811</td>\n",
       "      <td>Python, SQL</td>\n",
       "    </tr>\n",
       "    <tr>\n",
       "      <th>747</th>\n",
       "      <td>25819</td>\n",
       "      <td>SQL</td>\n",
       "    </tr>\n",
       "    <tr>\n",
       "      <th>748</th>\n",
       "      <td>25909</td>\n",
       "      <td>Python, SQL</td>\n",
       "    </tr>\n",
       "    <tr>\n",
       "      <th>749</th>\n",
       "      <td>25916</td>\n",
       "      <td>Python, SQL</td>\n",
       "    </tr>\n",
       "    <tr>\n",
       "      <th>750</th>\n",
       "      <td>25954</td>\n",
       "      <td>Python</td>\n",
       "    </tr>\n",
       "  </tbody>\n",
       "</table>\n",
       "<p>751 rows × 2 columns</p>\n",
       "</div>"
      ],
      "text/plain": [
       "     index                                             q7\n",
       "0       32                                              R\n",
       "1       46  Python, SQL, C, C++, Java, Javascript, MATLAB\n",
       "2       66                                         Python\n",
       "3      102                                         Python\n",
       "4      108                                    Python, SQL\n",
       "..     ...                                            ...\n",
       "746  25811                                    Python, SQL\n",
       "747  25819                                            SQL\n",
       "748  25909                                    Python, SQL\n",
       "749  25916                                    Python, SQL\n",
       "750  25954                                         Python\n",
       "\n",
       "[751 rows x 2 columns]"
      ]
     },
     "execution_count": 70,
     "metadata": {},
     "output_type": "execute_result"
    }
   ],
   "source": [
    "df_q7=df['q7'].reset_index()\n",
    "df_q7"
   ]
  },
  {
   "cell_type": "markdown",
   "metadata": {},
   "source": [
    "Q14_"
   ]
  },
  {
   "cell_type": "code",
   "execution_count": 71,
   "metadata": {},
   "outputs": [
    {
     "data": {
      "text/html": [
       "<div>\n",
       "<style scoped>\n",
       "    .dataframe tbody tr th:only-of-type {\n",
       "        vertical-align: middle;\n",
       "    }\n",
       "\n",
       "    .dataframe tbody tr th {\n",
       "        vertical-align: top;\n",
       "    }\n",
       "\n",
       "    .dataframe thead th {\n",
       "        text-align: right;\n",
       "    }\n",
       "</style>\n",
       "<table border=\"1\" class=\"dataframe\">\n",
       "  <thead>\n",
       "    <tr style=\"text-align: right;\">\n",
       "      <th></th>\n",
       "      <th>index</th>\n",
       "      <th>q14</th>\n",
       "    </tr>\n",
       "  </thead>\n",
       "  <tbody>\n",
       "    <tr>\n",
       "      <th>0</th>\n",
       "      <td>32</td>\n",
       "      <td>Ggplot / ggplot2</td>\n",
       "    </tr>\n",
       "    <tr>\n",
       "      <th>1</th>\n",
       "      <td>46</td>\n",
       "      <td>Matplotlib ,Plotly / Plotly Express</td>\n",
       "    </tr>\n",
       "    <tr>\n",
       "      <th>2</th>\n",
       "      <td>66</td>\n",
       "      <td>None</td>\n",
       "    </tr>\n",
       "    <tr>\n",
       "      <th>3</th>\n",
       "      <td>102</td>\n",
       "      <td>Matplotlib ,Seaborn ,Ggplot / ggplot2</td>\n",
       "    </tr>\n",
       "    <tr>\n",
       "      <th>4</th>\n",
       "      <td>108</td>\n",
       "      <td>Matplotlib ,Seaborn</td>\n",
       "    </tr>\n",
       "    <tr>\n",
       "      <th>...</th>\n",
       "      <td>...</td>\n",
       "      <td>...</td>\n",
       "    </tr>\n",
       "    <tr>\n",
       "      <th>746</th>\n",
       "      <td>25811</td>\n",
       "      <td>Matplotlib ,Seaborn ,Plotly / Plotly Express</td>\n",
       "    </tr>\n",
       "    <tr>\n",
       "      <th>747</th>\n",
       "      <td>25819</td>\n",
       "      <td>None</td>\n",
       "    </tr>\n",
       "    <tr>\n",
       "      <th>748</th>\n",
       "      <td>25909</td>\n",
       "      <td>NaN</td>\n",
       "    </tr>\n",
       "    <tr>\n",
       "      <th>749</th>\n",
       "      <td>25916</td>\n",
       "      <td>Matplotlib ,Seaborn</td>\n",
       "    </tr>\n",
       "    <tr>\n",
       "      <th>750</th>\n",
       "      <td>25954</td>\n",
       "      <td>Matplotlib</td>\n",
       "    </tr>\n",
       "  </tbody>\n",
       "</table>\n",
       "<p>751 rows × 2 columns</p>\n",
       "</div>"
      ],
      "text/plain": [
       "     index                                             q14\n",
       "0       32                               Ggplot / ggplot2 \n",
       "1       46            Matplotlib ,Plotly / Plotly Express \n",
       "2       66                                            None\n",
       "3      102          Matplotlib ,Seaborn ,Ggplot / ggplot2 \n",
       "4      108                            Matplotlib ,Seaborn \n",
       "..     ...                                             ...\n",
       "746  25811   Matplotlib ,Seaborn ,Plotly / Plotly Express \n",
       "747  25819                                            None\n",
       "748  25909                                             NaN\n",
       "749  25916                            Matplotlib ,Seaborn \n",
       "750  25954                                     Matplotlib \n",
       "\n",
       "[751 rows x 2 columns]"
      ]
     },
     "execution_count": 71,
     "metadata": {},
     "output_type": "execute_result"
    }
   ],
   "source": [
    "df_q14=df['q14'].reset_index()\n",
    "df_q14"
   ]
  },
  {
   "cell_type": "code",
   "execution_count": 72,
   "metadata": {},
   "outputs": [],
   "source": [
    "df_q14['q14'] = df_q14['q14'].apply(quitar_comillas_2)\n",
    "df_q14_explode = df_q14['q14'].explode().reset_index()\n",
    "gb14 = df_q14_explode.groupby('q14').size()\n",
    "df_q14 = gb14.reset_index(name='count')\n",
    "df_q14.drop(0, axis= 0,inplace=True)"
   ]
  },
  {
   "cell_type": "code",
   "execution_count": 73,
   "metadata": {},
   "outputs": [
    {
     "data": {
      "text/plain": [
       "[Text(0, 0.5, 'Librerías'), Text(0.5, 0, 'Conteo')]"
      ]
     },
     "execution_count": 73,
     "metadata": {},
     "output_type": "execute_result"
    },
    {
     "data": {
      "image/png": "[encoded data removed]",
      "text/plain": [
       "<Figure size 1440x720 with 1 Axes>"
      ]
     },
     "metadata": {
      "needs_background": "light"
     },
     "output_type": "display_data"
    }
   ],
   "source": [
    "plt.figure(figsize=(20,10))\n",
    "fig= sns.barplot(x ='count', y='q14', data=df_q14)\n",
    "plt.title('Librerías de visualización de datos')\n",
    "plt.xticks(rotation = 45)\n",
    "fig.set(ylabel='Librerías', xlabel= 'Conteo')"
   ]
  },
  {
   "cell_type": "code",
   "execution_count": 74,
   "metadata": {},
   "outputs": [],
   "source": [
    "df_q7['q7'] = df_q7['q7'].apply(quitar_comillas_2)\n",
    "df_7_explode = df_q7['q7'].explode().reset_index()\n",
    "gb7 = df_7_explode.groupby('q7').size()\n",
    "df_q7 = gb7.reset_index(name='count')\n",
    "df_q7.drop(0, axis= 0,inplace=True)"
   ]
  },
  {
   "cell_type": "code",
   "execution_count": 75,
   "metadata": {},
   "outputs": [
    {
     "data": {
      "text/plain": [
       "[Text(0, 0.5, 'Lenguajes'), Text(0.5, 0, 'Conteo')]"
      ]
     },
     "execution_count": 75,
     "metadata": {},
     "output_type": "execute_result"
    },
    {
     "data": {
      "image/png": "[encoded data removed]",
      "text/plain": [
       "<Figure size 1440x720 with 1 Axes>"
      ]
     },
     "metadata": {
      "needs_background": "light"
     },
     "output_type": "display_data"
    }
   ],
   "source": [
    "plt.figure(figsize=(20,10))\n",
    "fig= sns.barplot(x ='count', y='q7', data=df_q7)\n",
    "plt.title('Lenguaje utilizado por Data Analyst')\n",
    "plt.xticks(rotation = 45)\n",
    "fig.set(ylabel='Lenguajes', xlabel= 'Conteo')"
   ]
  },
  {
   "cell_type": "code",
   "execution_count": 76,
   "metadata": {},
   "outputs": [
    {
     "data": {
      "image/png": "[encoded data removed]",
      "text/plain": [
       "<Figure size 1440x720 with 1 Axes>"
      ]
     },
     "metadata": {
      "needs_background": "light"
     },
     "output_type": "display_data"
    }
   ],
   "source": [
    "plt.figure(figsize=(20,10))\n",
    "sns.countplot(x ='q8', data=df)\n",
    "plt.title('Lenguaje recomendado a Data Analyst')\n",
    "plt.xticks(rotation = 45);"
   ]
  },
  {
   "cell_type": "markdown",
   "metadata": {},
   "source": [
    "### Q9 - analizamos los entornos de desarrollo integrados que utiliza nuestra persona"
   ]
  },
  {
   "cell_type": "code",
   "execution_count": 77,
   "metadata": {},
   "outputs": [
    {
     "data": {
      "text/html": [
       "<div>\n",
       "<style scoped>\n",
       "    .dataframe tbody tr th:only-of-type {\n",
       "        vertical-align: middle;\n",
       "    }\n",
       "\n",
       "    .dataframe tbody tr th {\n",
       "        vertical-align: top;\n",
       "    }\n",
       "\n",
       "    .dataframe thead th {\n",
       "        text-align: right;\n",
       "    }\n",
       "</style>\n",
       "<table border=\"1\" class=\"dataframe\">\n",
       "  <thead>\n",
       "    <tr style=\"text-align: right;\">\n",
       "      <th></th>\n",
       "      <th>index</th>\n",
       "      <th>q9</th>\n",
       "    </tr>\n",
       "  </thead>\n",
       "  <tbody>\n",
       "    <tr>\n",
       "      <th>0</th>\n",
       "      <td>32</td>\n",
       "      <td>RStudio</td>\n",
       "    </tr>\n",
       "    <tr>\n",
       "      <th>1</th>\n",
       "      <td>46</td>\n",
       "      <td>Jupyter  ,PyCharm ,MATLAB ,Jupyter Notebook</td>\n",
       "    </tr>\n",
       "    <tr>\n",
       "      <th>2</th>\n",
       "      <td>66</td>\n",
       "      <td>PyCharm , Spyder</td>\n",
       "    </tr>\n",
       "    <tr>\n",
       "      <th>3</th>\n",
       "      <td>102</td>\n",
       "      <td>Jupyter  ,Jupyter Notebook</td>\n",
       "    </tr>\n",
       "    <tr>\n",
       "      <th>4</th>\n",
       "      <td>108</td>\n",
       "      <td>Jupyter Notebook, Other</td>\n",
       "    </tr>\n",
       "    <tr>\n",
       "      <th>...</th>\n",
       "      <td>...</td>\n",
       "      <td>...</td>\n",
       "    </tr>\n",
       "    <tr>\n",
       "      <th>746</th>\n",
       "      <td>25811</td>\n",
       "      <td>PyCharm , Vim / Emacs,Jupyter Notebook</td>\n",
       "    </tr>\n",
       "    <tr>\n",
       "      <th>747</th>\n",
       "      <td>25819</td>\n",
       "      <td>Visual Studio</td>\n",
       "    </tr>\n",
       "    <tr>\n",
       "      <th>748</th>\n",
       "      <td>25909</td>\n",
       "      <td>Jupyter Notebook</td>\n",
       "    </tr>\n",
       "    <tr>\n",
       "      <th>749</th>\n",
       "      <td>25916</td>\n",
       "      <td>Jupyter Notebook</td>\n",
       "    </tr>\n",
       "    <tr>\n",
       "      <th>750</th>\n",
       "      <td>25954</td>\n",
       "      <td>Jupyter Notebook</td>\n",
       "    </tr>\n",
       "  </tbody>\n",
       "</table>\n",
       "<p>751 rows × 2 columns</p>\n",
       "</div>"
      ],
      "text/plain": [
       "     index                                           q9\n",
       "0       32                                     RStudio \n",
       "1       46  Jupyter  ,PyCharm ,MATLAB ,Jupyter Notebook\n",
       "2       66                             PyCharm , Spyder\n",
       "3      102                   Jupyter  ,Jupyter Notebook\n",
       "4      108                      Jupyter Notebook, Other\n",
       "..     ...                                          ...\n",
       "746  25811       PyCharm , Vim / Emacs,Jupyter Notebook\n",
       "747  25819                               Visual Studio \n",
       "748  25909                             Jupyter Notebook\n",
       "749  25916                             Jupyter Notebook\n",
       "750  25954                             Jupyter Notebook\n",
       "\n",
       "[751 rows x 2 columns]"
      ]
     },
     "execution_count": 77,
     "metadata": {},
     "output_type": "execute_result"
    }
   ],
   "source": [
    "df_q9=df['q9'].reset_index()\n",
    "df_q9"
   ]
  },
  {
   "cell_type": "code",
   "execution_count": 78,
   "metadata": {},
   "outputs": [],
   "source": [
    "df_q9['q9'] = df_q9['q9'].apply(quitar_comillas_2)\n",
    "df_9_explode = df_q9['q9'].explode().reset_index()\n",
    "gb9 = df_9_explode.groupby('q9').size()\n",
    "df_q9 = gb9.reset_index(name='count')\n",
    "df_q9.drop(0, axis= 0,inplace=True)"
   ]
  },
  {
   "cell_type": "code",
   "execution_count": 79,
   "metadata": {},
   "outputs": [
    {
     "data": {
      "text/plain": [
       "1        Notepad++\n",
       "2            Other\n",
       "3           Spyder\n",
       "4     Sublime Text\n",
       "5      Vim / Emacs\n",
       "Name: q9, dtype: object"
      ]
     },
     "execution_count": 79,
     "metadata": {},
     "output_type": "execute_result"
    }
   ],
   "source": [
    "df_q9['q9'].head()"
   ]
  },
  {
   "cell_type": "code",
   "execution_count": 80,
   "metadata": {},
   "outputs": [
    {
     "data": {
      "text/plain": [
       "array([' Notepad++', ' Other', ' Spyder', ' Sublime Text', ' Vim / Emacs',\n",
       "       'Jupyter  ', 'Jupyter Notebook', 'MATLAB ', 'PyCharm ', 'RStudio ',\n",
       "       'Visual Studio ', 'Visual Studio Code  '], dtype=object)"
      ]
     },
     "execution_count": 80,
     "metadata": {},
     "output_type": "execute_result"
    }
   ],
   "source": [
    "df_q9['q9'].unique()"
   ]
  },
  {
   "cell_type": "code",
   "execution_count": 81,
   "metadata": {},
   "outputs": [
    {
     "data": {
      "text/plain": [
       "[Text(0, 0.5, 'Entornos'), Text(0.5, 0, 'Conteo')]"
      ]
     },
     "execution_count": 81,
     "metadata": {},
     "output_type": "execute_result"
    },
    {
     "data": {
      "image/png": "[encoded data removed]",
      "text/plain": [
       "<Figure size 1440x720 with 1 Axes>"
      ]
     },
     "metadata": {
      "needs_background": "light"
     },
     "output_type": "display_data"
    }
   ],
   "source": [
    "plt.figure(figsize=(20,10))\n",
    "fig= sns.barplot(x ='count', y='q9', data=df_q9)\n",
    "plt.title('Entorno de desarrollo integrado')\n",
    "plt.xticks(rotation = 45)\n",
    "fig.set(ylabel='Entornos', xlabel= 'Conteo')"
   ]
  },
  {
   "cell_type": "markdown",
   "metadata": {},
   "source": [
    "### Q11 - analizamos computador que utiliza nuestra persona para participar en los proyectos de data"
   ]
  },
  {
   "cell_type": "code",
   "execution_count": 82,
   "metadata": {},
   "outputs": [
    {
     "data": {
      "text/html": [
       "<div>\n",
       "<style scoped>\n",
       "    .dataframe tbody tr th:only-of-type {\n",
       "        vertical-align: middle;\n",
       "    }\n",
       "\n",
       "    .dataframe tbody tr th {\n",
       "        vertical-align: top;\n",
       "    }\n",
       "\n",
       "    .dataframe thead th {\n",
       "        text-align: right;\n",
       "    }\n",
       "</style>\n",
       "<table border=\"1\" class=\"dataframe\">\n",
       "  <thead>\n",
       "    <tr style=\"text-align: right;\">\n",
       "      <th></th>\n",
       "      <th>index</th>\n",
       "      <th>q11</th>\n",
       "    </tr>\n",
       "  </thead>\n",
       "  <tbody>\n",
       "    <tr>\n",
       "      <th>0</th>\n",
       "      <td>32</td>\n",
       "      <td>A personal computer / desktop</td>\n",
       "    </tr>\n",
       "    <tr>\n",
       "      <th>1</th>\n",
       "      <td>46</td>\n",
       "      <td>A personal computer / desktop</td>\n",
       "    </tr>\n",
       "    <tr>\n",
       "      <th>2</th>\n",
       "      <td>66</td>\n",
       "      <td>A laptop</td>\n",
       "    </tr>\n",
       "    <tr>\n",
       "      <th>3</th>\n",
       "      <td>102</td>\n",
       "      <td>A laptop</td>\n",
       "    </tr>\n",
       "    <tr>\n",
       "      <th>4</th>\n",
       "      <td>108</td>\n",
       "      <td>A personal computer / desktop</td>\n",
       "    </tr>\n",
       "    <tr>\n",
       "      <th>...</th>\n",
       "      <td>...</td>\n",
       "      <td>...</td>\n",
       "    </tr>\n",
       "    <tr>\n",
       "      <th>746</th>\n",
       "      <td>25811</td>\n",
       "      <td>A laptop</td>\n",
       "    </tr>\n",
       "    <tr>\n",
       "      <th>747</th>\n",
       "      <td>25819</td>\n",
       "      <td>A laptop</td>\n",
       "    </tr>\n",
       "    <tr>\n",
       "      <th>748</th>\n",
       "      <td>25909</td>\n",
       "      <td>A laptop</td>\n",
       "    </tr>\n",
       "    <tr>\n",
       "      <th>749</th>\n",
       "      <td>25916</td>\n",
       "      <td>A laptop</td>\n",
       "    </tr>\n",
       "    <tr>\n",
       "      <th>750</th>\n",
       "      <td>25954</td>\n",
       "      <td>A laptop</td>\n",
       "    </tr>\n",
       "  </tbody>\n",
       "</table>\n",
       "<p>751 rows × 2 columns</p>\n",
       "</div>"
      ],
      "text/plain": [
       "     index                            q11\n",
       "0       32  A personal computer / desktop\n",
       "1       46  A personal computer / desktop\n",
       "2       66                       A laptop\n",
       "3      102                       A laptop\n",
       "4      108  A personal computer / desktop\n",
       "..     ...                            ...\n",
       "746  25811                       A laptop\n",
       "747  25819                       A laptop\n",
       "748  25909                       A laptop\n",
       "749  25916                       A laptop\n",
       "750  25954                       A laptop\n",
       "\n",
       "[751 rows x 2 columns]"
      ]
     },
     "execution_count": 82,
     "metadata": {},
     "output_type": "execute_result"
    }
   ],
   "source": [
    "df_q11=df['q11'].reset_index()\n",
    "df_q11"
   ]
  },
  {
   "cell_type": "code",
   "execution_count": 83,
   "metadata": {},
   "outputs": [],
   "source": [
    "df_q11['q11'] = df_q11['q11'].apply(quitar_comillas_2)\n",
    "df_11_explode = df_q11['q11'].explode().reset_index()\n",
    "gb11 = df_11_explode.groupby('q11').size()\n",
    "df_q11 = gb11.reset_index(name='count')\n",
    "df_q11.drop(0, axis= 0,inplace=True)"
   ]
  },
  {
   "cell_type": "code",
   "execution_count": 84,
   "metadata": {},
   "outputs": [
    {
     "data": {
      "text/plain": [
       "[Text(0, 0.5, 'Herramienta'), Text(0.5, 0, 'Conteo')]"
      ]
     },
     "execution_count": 84,
     "metadata": {},
     "output_type": "execute_result"
    },
    {
     "data": {
      "image/png": "[encoded data removed]",
      "text/plain": [
       "<Figure size 1440x720 with 1 Axes>"
      ]
     },
     "metadata": {
      "needs_background": "light"
     },
     "output_type": "display_data"
    }
   ],
   "source": [
    "plt.figure(figsize=(20,10))\n",
    "fig= sns.barplot(x ='count', y='q11', data=df_q11)\n",
    "plt.title('Plataforma computacional')\n",
    "plt.xticks(rotation = 45)\n",
    "fig.set(ylabel='Herramienta', xlabel= 'Conteo')"
   ]
  },
  {
   "cell_type": "code",
   "execution_count": 85,
   "metadata": {},
   "outputs": [],
   "source": [
    "\n",
    "def quitar_comillas (col):\n",
    "        try:\n",
    "            return col.split('?')\n",
    "        except:\n",
    "            np.nan"
   ]
  },
  {
   "cell_type": "code",
   "execution_count": 86,
   "metadata": {},
   "outputs": [
    {
     "data": {
      "text/html": [
       "<div>\n",
       "<style scoped>\n",
       "    .dataframe tbody tr th:only-of-type {\n",
       "        vertical-align: middle;\n",
       "    }\n",
       "\n",
       "    .dataframe tbody tr th {\n",
       "        vertical-align: top;\n",
       "    }\n",
       "\n",
       "    .dataframe thead th {\n",
       "        text-align: right;\n",
       "    }\n",
       "</style>\n",
       "<table border=\"1\" class=\"dataframe\">\n",
       "  <thead>\n",
       "    <tr style=\"text-align: right;\">\n",
       "      <th></th>\n",
       "      <th>index</th>\n",
       "      <th>q10</th>\n",
       "    </tr>\n",
       "  </thead>\n",
       "  <tbody>\n",
       "    <tr>\n",
       "      <th>0</th>\n",
       "      <td>32</td>\n",
       "      <td>NaN</td>\n",
       "    </tr>\n",
       "    <tr>\n",
       "      <th>1</th>\n",
       "      <td>46</td>\n",
       "      <td>Kaggle Notebooks?</td>\n",
       "    </tr>\n",
       "    <tr>\n",
       "      <th>2</th>\n",
       "      <td>66</td>\n",
       "      <td>NaN</td>\n",
       "    </tr>\n",
       "    <tr>\n",
       "      <th>3</th>\n",
       "      <td>102</td>\n",
       "      <td>NaN</td>\n",
       "    </tr>\n",
       "    <tr>\n",
       "      <th>4</th>\n",
       "      <td>108</td>\n",
       "      <td>NaN</td>\n",
       "    </tr>\n",
       "    <tr>\n",
       "      <th>...</th>\n",
       "      <td>...</td>\n",
       "      <td>...</td>\n",
       "    </tr>\n",
       "    <tr>\n",
       "      <th>746</th>\n",
       "      <td>25811</td>\n",
       "      <td>NaN</td>\n",
       "    </tr>\n",
       "    <tr>\n",
       "      <th>747</th>\n",
       "      <td>25819</td>\n",
       "      <td>NaN</td>\n",
       "    </tr>\n",
       "    <tr>\n",
       "      <th>748</th>\n",
       "      <td>25909</td>\n",
       "      <td>NaN</td>\n",
       "    </tr>\n",
       "    <tr>\n",
       "      <th>749</th>\n",
       "      <td>25916</td>\n",
       "      <td>NaN</td>\n",
       "    </tr>\n",
       "    <tr>\n",
       "      <th>750</th>\n",
       "      <td>25954</td>\n",
       "      <td>NaN</td>\n",
       "    </tr>\n",
       "  </tbody>\n",
       "</table>\n",
       "<p>751 rows × 2 columns</p>\n",
       "</div>"
      ],
      "text/plain": [
       "     index                 q10\n",
       "0       32                 NaN\n",
       "1       46   Kaggle Notebooks?\n",
       "2       66                 NaN\n",
       "3      102                 NaN\n",
       "4      108                 NaN\n",
       "..     ...                 ...\n",
       "746  25811                 NaN\n",
       "747  25819                 NaN\n",
       "748  25909                 NaN\n",
       "749  25916                 NaN\n",
       "750  25954                 NaN\n",
       "\n",
       "[751 rows x 2 columns]"
      ]
     },
     "execution_count": 86,
     "metadata": {},
     "output_type": "execute_result"
    }
   ],
   "source": [
    "df_q10=df['q10'].reset_index()\n",
    "df_q10"
   ]
  },
  {
   "cell_type": "code",
   "execution_count": 87,
   "metadata": {},
   "outputs": [],
   "source": [
    "df_q10['q10'] = df_q10['q10'].apply(quitar_comillas)"
   ]
  },
  {
   "cell_type": "code",
   "execution_count": 88,
   "metadata": {},
   "outputs": [],
   "source": [
    "df_10_explode = df_q10['q10'].explode().reset_index()"
   ]
  },
  {
   "cell_type": "code",
   "execution_count": 89,
   "metadata": {},
   "outputs": [
    {
     "data": {
      "text/html": [
       "<div>\n",
       "<style scoped>\n",
       "    .dataframe tbody tr th:only-of-type {\n",
       "        vertical-align: middle;\n",
       "    }\n",
       "\n",
       "    .dataframe tbody tr th {\n",
       "        vertical-align: top;\n",
       "    }\n",
       "\n",
       "    .dataframe thead th {\n",
       "        text-align: right;\n",
       "    }\n",
       "</style>\n",
       "<table border=\"1\" class=\"dataframe\">\n",
       "  <thead>\n",
       "    <tr style=\"text-align: right;\">\n",
       "      <th></th>\n",
       "      <th>index</th>\n",
       "      <th>q10</th>\n",
       "    </tr>\n",
       "  </thead>\n",
       "  <tbody>\n",
       "    <tr>\n",
       "      <th>0</th>\n",
       "      <td>0</td>\n",
       "      <td>None</td>\n",
       "    </tr>\n",
       "    <tr>\n",
       "      <th>1</th>\n",
       "      <td>1</td>\n",
       "      <td>Kaggle Notebooks</td>\n",
       "    </tr>\n",
       "    <tr>\n",
       "      <th>2</th>\n",
       "      <td>1</td>\n",
       "      <td></td>\n",
       "    </tr>\n",
       "    <tr>\n",
       "      <th>3</th>\n",
       "      <td>2</td>\n",
       "      <td>None</td>\n",
       "    </tr>\n",
       "    <tr>\n",
       "      <th>4</th>\n",
       "      <td>3</td>\n",
       "      <td>None</td>\n",
       "    </tr>\n",
       "    <tr>\n",
       "      <th>...</th>\n",
       "      <td>...</td>\n",
       "      <td>...</td>\n",
       "    </tr>\n",
       "    <tr>\n",
       "      <th>1070</th>\n",
       "      <td>746</td>\n",
       "      <td>None</td>\n",
       "    </tr>\n",
       "    <tr>\n",
       "      <th>1071</th>\n",
       "      <td>747</td>\n",
       "      <td>None</td>\n",
       "    </tr>\n",
       "    <tr>\n",
       "      <th>1072</th>\n",
       "      <td>748</td>\n",
       "      <td>None</td>\n",
       "    </tr>\n",
       "    <tr>\n",
       "      <th>1073</th>\n",
       "      <td>749</td>\n",
       "      <td>None</td>\n",
       "    </tr>\n",
       "    <tr>\n",
       "      <th>1074</th>\n",
       "      <td>750</td>\n",
       "      <td>None</td>\n",
       "    </tr>\n",
       "  </tbody>\n",
       "</table>\n",
       "<p>1075 rows × 2 columns</p>\n",
       "</div>"
      ],
      "text/plain": [
       "      index                q10\n",
       "0         0               None\n",
       "1         1   Kaggle Notebooks\n",
       "2         1                   \n",
       "3         2               None\n",
       "4         3               None\n",
       "...     ...                ...\n",
       "1070    746               None\n",
       "1071    747               None\n",
       "1072    748               None\n",
       "1073    749               None\n",
       "1074    750               None\n",
       "\n",
       "[1075 rows x 2 columns]"
      ]
     },
     "execution_count": 89,
     "metadata": {},
     "output_type": "execute_result"
    }
   ],
   "source": [
    "df_10_explode"
   ]
  },
  {
   "cell_type": "code",
   "execution_count": 90,
   "metadata": {},
   "outputs": [
    {
     "data": {
      "text/plain": [
       "array([None, ' Kaggle Notebooks', '', 'Colab Notebooks',\n",
       "       'Azure Notebooks', ' Paperspace / Gradient ',\n",
       "       ' Binder / JupyterHub ', ' Code Ocean ', ' IBM Watson Studio ',\n",
       "       ' Amazon Sagemaker Studio Notebooks ', ' Amazon EMR Notebooks ',\n",
       "       'Google Cloud Notebooks (AI Platform / Vertex AI) ',\n",
       "       'Google Cloud Datalab', ' Databricks Collaborative Notebooks ',\n",
       "       ' Zeppelin / Zepl Notebooks ', ' Deepnote Notebooks ',\n",
       "       ' Observable Notebooks '], dtype=object)"
      ]
     },
     "execution_count": 90,
     "metadata": {},
     "output_type": "execute_result"
    }
   ],
   "source": [
    "df_10_explode['q10'].unique()"
   ]
  },
  {
   "cell_type": "code",
   "execution_count": 91,
   "metadata": {},
   "outputs": [],
   "source": [
    "df_10_explode=df_10_explode.fillna('ninguno')"
   ]
  },
  {
   "cell_type": "code",
   "execution_count": 92,
   "metadata": {},
   "outputs": [],
   "source": [
    "gb = df_10_explode.groupby('q10').size() #aqui tenemos todos los espacios, que se tienen que desestimar \n",
    "#para la creacion de las graficas"
   ]
  },
  {
   "cell_type": "code",
   "execution_count": 93,
   "metadata": {},
   "outputs": [],
   "source": [
    "df_q10 = gb.reset_index(name='count')"
   ]
  },
  {
   "cell_type": "code",
   "execution_count": 94,
   "metadata": {},
   "outputs": [],
   "source": [
    "df_q10.drop(0, axis= 0,inplace=True)"
   ]
  },
  {
   "cell_type": "code",
   "execution_count": 95,
   "metadata": {},
   "outputs": [
    {
     "data": {
      "image/png": "[encoded data removed]",
      "text/plain": [
       "<Figure size 1440x720 with 1 Axes>"
      ]
     },
     "metadata": {
      "needs_background": "light"
     },
     "output_type": "display_data"
    }
   ],
   "source": [
    "plt.figure(figsize=(20,10))\n",
    "fig=sns.barplot(x ='count', y = 'q10', data=df_q10)\n",
    "plt.title('Herramientas de Trabajo')\n",
    "plt.xticks(rotation = 45)\n",
    "fig.set(ylabel='Herramienta', xlabel= 'Conteo');\n",
    "\n",
    "#los data analyst recomiendan kaggle como entorno colaborativo para ejecutar código"
   ]
  },
  {
   "cell_type": "code",
   "execution_count": 96,
   "metadata": {},
   "outputs": [
    {
     "data": {
      "text/html": [
       "<div>\n",
       "<style scoped>\n",
       "    .dataframe tbody tr th:only-of-type {\n",
       "        vertical-align: middle;\n",
       "    }\n",
       "\n",
       "    .dataframe tbody tr th {\n",
       "        vertical-align: top;\n",
       "    }\n",
       "\n",
       "    .dataframe thead th {\n",
       "        text-align: right;\n",
       "    }\n",
       "</style>\n",
       "<table border=\"1\" class=\"dataframe\">\n",
       "  <thead>\n",
       "    <tr style=\"text-align: right;\">\n",
       "      <th></th>\n",
       "      <th>index</th>\n",
       "      <th>q19</th>\n",
       "    </tr>\n",
       "  </thead>\n",
       "  <tbody>\n",
       "    <tr>\n",
       "      <th>0</th>\n",
       "      <td>32</td>\n",
       "      <td>NaN</td>\n",
       "    </tr>\n",
       "    <tr>\n",
       "      <th>1</th>\n",
       "      <td>46</td>\n",
       "      <td>NaN</td>\n",
       "    </tr>\n",
       "    <tr>\n",
       "      <th>2</th>\n",
       "      <td>66</td>\n",
       "      <td>NaN</td>\n",
       "    </tr>\n",
       "    <tr>\n",
       "      <th>3</th>\n",
       "      <td>102</td>\n",
       "      <td>NaN</td>\n",
       "    </tr>\n",
       "    <tr>\n",
       "      <th>4</th>\n",
       "      <td>108</td>\n",
       "      <td>NaN</td>\n",
       "    </tr>\n",
       "    <tr>\n",
       "      <th>...</th>\n",
       "      <td>...</td>\n",
       "      <td>...</td>\n",
       "    </tr>\n",
       "    <tr>\n",
       "      <th>746</th>\n",
       "      <td>25811</td>\n",
       "      <td>NaN</td>\n",
       "    </tr>\n",
       "    <tr>\n",
       "      <th>747</th>\n",
       "      <td>25819</td>\n",
       "      <td>NaN</td>\n",
       "    </tr>\n",
       "    <tr>\n",
       "      <th>748</th>\n",
       "      <td>25909</td>\n",
       "      <td>NaN</td>\n",
       "    </tr>\n",
       "    <tr>\n",
       "      <th>749</th>\n",
       "      <td>25916</td>\n",
       "      <td>NaN</td>\n",
       "    </tr>\n",
       "    <tr>\n",
       "      <th>750</th>\n",
       "      <td>25954</td>\n",
       "      <td>NaN</td>\n",
       "    </tr>\n",
       "  </tbody>\n",
       "</table>\n",
       "<p>751 rows × 2 columns</p>\n",
       "</div>"
      ],
      "text/plain": [
       "     index  q19\n",
       "0       32  NaN\n",
       "1       46  NaN\n",
       "2       66  NaN\n",
       "3      102  NaN\n",
       "4      108  NaN\n",
       "..     ...  ...\n",
       "746  25811  NaN\n",
       "747  25819  NaN\n",
       "748  25909  NaN\n",
       "749  25916  NaN\n",
       "750  25954  NaN\n",
       "\n",
       "[751 rows x 2 columns]"
      ]
     },
     "execution_count": 96,
     "metadata": {},
     "output_type": "execute_result"
    }
   ],
   "source": [
    "#q19\n",
    "\n",
    "df_q19 = df['q19'].reset_index()\n",
    "df_q19"
   ]
  },
  {
   "cell_type": "code",
   "execution_count": 97,
   "metadata": {},
   "outputs": [],
   "source": [
    "df_q19['q19'] = df_q19['q19'].apply(quitar_comillas)"
   ]
  },
  {
   "cell_type": "code",
   "execution_count": 98,
   "metadata": {},
   "outputs": [],
   "source": [
    "df_19_explode = df_q19['q19'].explode().reset_index()"
   ]
  },
  {
   "cell_type": "code",
   "execution_count": 99,
   "metadata": {},
   "outputs": [
    {
     "data": {
      "text/html": [
       "<div>\n",
       "<style scoped>\n",
       "    .dataframe tbody tr th:only-of-type {\n",
       "        vertical-align: middle;\n",
       "    }\n",
       "\n",
       "    .dataframe tbody tr th {\n",
       "        vertical-align: top;\n",
       "    }\n",
       "\n",
       "    .dataframe thead th {\n",
       "        text-align: right;\n",
       "    }\n",
       "</style>\n",
       "<table border=\"1\" class=\"dataframe\">\n",
       "  <thead>\n",
       "    <tr style=\"text-align: right;\">\n",
       "      <th></th>\n",
       "      <th>index</th>\n",
       "      <th>q19</th>\n",
       "    </tr>\n",
       "  </thead>\n",
       "  <tbody>\n",
       "    <tr>\n",
       "      <th>0</th>\n",
       "      <td>0</td>\n",
       "      <td>None</td>\n",
       "    </tr>\n",
       "    <tr>\n",
       "      <th>1</th>\n",
       "      <td>1</td>\n",
       "      <td>None</td>\n",
       "    </tr>\n",
       "    <tr>\n",
       "      <th>2</th>\n",
       "      <td>2</td>\n",
       "      <td>None</td>\n",
       "    </tr>\n",
       "    <tr>\n",
       "      <th>3</th>\n",
       "      <td>3</td>\n",
       "      <td>None</td>\n",
       "    </tr>\n",
       "    <tr>\n",
       "      <th>4</th>\n",
       "      <td>4</td>\n",
       "      <td>None</td>\n",
       "    </tr>\n",
       "    <tr>\n",
       "      <th>...</th>\n",
       "      <td>...</td>\n",
       "      <td>...</td>\n",
       "    </tr>\n",
       "    <tr>\n",
       "      <th>779</th>\n",
       "      <td>746</td>\n",
       "      <td>None</td>\n",
       "    </tr>\n",
       "    <tr>\n",
       "      <th>780</th>\n",
       "      <td>747</td>\n",
       "      <td>None</td>\n",
       "    </tr>\n",
       "    <tr>\n",
       "      <th>781</th>\n",
       "      <td>748</td>\n",
       "      <td>None</td>\n",
       "    </tr>\n",
       "    <tr>\n",
       "      <th>782</th>\n",
       "      <td>749</td>\n",
       "      <td>None</td>\n",
       "    </tr>\n",
       "    <tr>\n",
       "      <th>783</th>\n",
       "      <td>750</td>\n",
       "      <td>None</td>\n",
       "    </tr>\n",
       "  </tbody>\n",
       "</table>\n",
       "<p>784 rows × 2 columns</p>\n",
       "</div>"
      ],
      "text/plain": [
       "     index   q19\n",
       "0        0  None\n",
       "1        1  None\n",
       "2        2  None\n",
       "3        3  None\n",
       "4        4  None\n",
       "..     ...   ...\n",
       "779    746  None\n",
       "780    747  None\n",
       "781    748  None\n",
       "782    749  None\n",
       "783    750  None\n",
       "\n",
       "[784 rows x 2 columns]"
      ]
     },
     "execution_count": 99,
     "metadata": {},
     "output_type": "execute_result"
    }
   ],
   "source": [
    "df_19_explode"
   ]
  },
  {
   "cell_type": "code",
   "execution_count": 100,
   "metadata": {},
   "outputs": [
    {
     "data": {
      "text/plain": [
       "array([None, 'Word embeddings/vectors (GLoVe, fastText, word2vec)', '',\n",
       "       'Encoder-decorder models (seq2seq, vanilla transformers)',\n",
       "       'Contextualized embeddings (ELMo, CoVe)',\n",
       "       'Transformer language models (GPT-3, BERT, XLnet, etc)'],\n",
       "      dtype=object)"
      ]
     },
     "execution_count": 100,
     "metadata": {},
     "output_type": "execute_result"
    }
   ],
   "source": [
    "df_19_explode['q19'].unique()"
   ]
  },
  {
   "cell_type": "code",
   "execution_count": 101,
   "metadata": {},
   "outputs": [
    {
     "data": {
      "text/plain": [
       "array([None, 'Word embeddings/vectors (GLoVe, fastText, word2vec)', '',\n",
       "       'Encoder-decorder models (seq2seq, vanilla transformers)',\n",
       "       'Contextualized embeddings (ELMo, CoVe)',\n",
       "       'Transformer language models (GPT-3, BERT, XLnet, etc)'],\n",
       "      dtype=object)"
      ]
     },
     "execution_count": 101,
     "metadata": {},
     "output_type": "execute_result"
    }
   ],
   "source": [
    "df_19_explode['q19'].unique()"
   ]
  },
  {
   "cell_type": "code",
   "execution_count": 102,
   "metadata": {},
   "outputs": [],
   "source": [
    "df_19_explode=df_19_explode.fillna('ninguno')"
   ]
  },
  {
   "cell_type": "code",
   "execution_count": 103,
   "metadata": {},
   "outputs": [],
   "source": [
    "gb_19 = df_19_explode.groupby('q19').size() #aqui tenemos todos los espacios, que se tienen que desestimar \n",
    "#para la creacion de las graficas"
   ]
  },
  {
   "cell_type": "code",
   "execution_count": 104,
   "metadata": {},
   "outputs": [
    {
     "data": {
      "image/png": "[encoded data removed]",
      "text/plain": [
       "<Figure size 1440x720 with 1 Axes>"
      ]
     },
     "metadata": {
      "needs_background": "light"
     },
     "output_type": "display_data"
    }
   ],
   "source": [
    "plt.figure(figsize=(20,10))\n",
    "fig=sns.histplot(y = 'q19', data = df_19_explode)\n",
    "plt.title('Métodos de procesamiento natural del lenguaje(NLP)')\n",
    "plt.xticks(rotation = 45)\n",
    "fig.set(ylabel='Método', xlabel= 'Conteo');"
   ]
  },
  {
   "cell_type": "code",
   "execution_count": 105,
   "metadata": {},
   "outputs": [
    {
     "data": {
      "text/plain": [
       "q19\n",
       "                                                            15\n",
       "Contextualized embeddings (ELMo, CoVe)                       4\n",
       "Encoder-decorder models (seq2seq, vanilla transformers)     11\n",
       "Transformer language models (GPT-3, BERT, XLnet, etc)        3\n",
       "Word embeddings/vectors (GLoVe, fastText, word2vec)         15\n",
       "ninguno                                                    736\n",
       "dtype: int64"
      ]
     },
     "execution_count": 105,
     "metadata": {},
     "output_type": "execute_result"
    }
   ],
   "source": [
    "gb_19"
   ]
  },
  {
   "cell_type": "code",
   "execution_count": 106,
   "metadata": {},
   "outputs": [],
   "source": [
    "df_q19 = gb_19.reset_index(name = 'count')"
   ]
  },
  {
   "cell_type": "code",
   "execution_count": 107,
   "metadata": {},
   "outputs": [],
   "source": [
    "df_q19.drop(0, axis = 0,inplace = True)"
   ]
  },
  {
   "cell_type": "code",
   "execution_count": 108,
   "metadata": {},
   "outputs": [
    {
     "data": {
      "text/html": [
       "<div>\n",
       "<style scoped>\n",
       "    .dataframe tbody tr th:only-of-type {\n",
       "        vertical-align: middle;\n",
       "    }\n",
       "\n",
       "    .dataframe tbody tr th {\n",
       "        vertical-align: top;\n",
       "    }\n",
       "\n",
       "    .dataframe thead th {\n",
       "        text-align: right;\n",
       "    }\n",
       "</style>\n",
       "<table border=\"1\" class=\"dataframe\">\n",
       "  <thead>\n",
       "    <tr style=\"text-align: right;\">\n",
       "      <th></th>\n",
       "      <th>q19</th>\n",
       "      <th>count</th>\n",
       "    </tr>\n",
       "  </thead>\n",
       "  <tbody>\n",
       "    <tr>\n",
       "      <th>1</th>\n",
       "      <td>Contextualized embeddings (ELMo, CoVe)</td>\n",
       "      <td>4</td>\n",
       "    </tr>\n",
       "    <tr>\n",
       "      <th>2</th>\n",
       "      <td>Encoder-decorder models (seq2seq, vanilla tran...</td>\n",
       "      <td>11</td>\n",
       "    </tr>\n",
       "    <tr>\n",
       "      <th>3</th>\n",
       "      <td>Transformer language models (GPT-3, BERT, XLne...</td>\n",
       "      <td>3</td>\n",
       "    </tr>\n",
       "    <tr>\n",
       "      <th>4</th>\n",
       "      <td>Word embeddings/vectors (GLoVe, fastText, word...</td>\n",
       "      <td>15</td>\n",
       "    </tr>\n",
       "    <tr>\n",
       "      <th>5</th>\n",
       "      <td>ninguno</td>\n",
       "      <td>736</td>\n",
       "    </tr>\n",
       "  </tbody>\n",
       "</table>\n",
       "</div>"
      ],
      "text/plain": [
       "                                                 q19  count\n",
       "1             Contextualized embeddings (ELMo, CoVe)      4\n",
       "2  Encoder-decorder models (seq2seq, vanilla tran...     11\n",
       "3  Transformer language models (GPT-3, BERT, XLne...      3\n",
       "4  Word embeddings/vectors (GLoVe, fastText, word...     15\n",
       "5                                            ninguno    736"
      ]
     },
     "execution_count": 108,
     "metadata": {},
     "output_type": "execute_result"
    }
   ],
   "source": [
    "df_q19"
   ]
  },
  {
   "cell_type": "code",
   "execution_count": 109,
   "metadata": {},
   "outputs": [
    {
     "data": {
      "image/png": "[encoded data removed]",
      "text/plain": [
       "<Figure size 1440x720 with 1 Axes>"
      ]
     },
     "metadata": {
      "needs_background": "light"
     },
     "output_type": "display_data"
    }
   ],
   "source": [
    "plt.figure(figsize=(20,10))\n",
    "fig=sns.barplot(x='count', y = 'q19', data = df_q19)\n",
    "plt.title('Métodos de procesamiento natural del lenguaje(NLP)')\n",
    "plt.xticks(rotation = 45)\n",
    "fig.set(ylabel='Método', xlabel= 'Conteo');\n"
   ]
  },
  {
   "cell_type": "code",
   "execution_count": 110,
   "metadata": {},
   "outputs": [
    {
     "data": {
      "text/html": [
       "<div>\n",
       "<style scoped>\n",
       "    .dataframe tbody tr th:only-of-type {\n",
       "        vertical-align: middle;\n",
       "    }\n",
       "\n",
       "    .dataframe tbody tr th {\n",
       "        vertical-align: top;\n",
       "    }\n",
       "\n",
       "    .dataframe thead th {\n",
       "        text-align: right;\n",
       "    }\n",
       "</style>\n",
       "<table border=\"1\" class=\"dataframe\">\n",
       "  <thead>\n",
       "    <tr style=\"text-align: right;\">\n",
       "      <th></th>\n",
       "      <th>index</th>\n",
       "      <th>q27</th>\n",
       "    </tr>\n",
       "  </thead>\n",
       "  <tbody>\n",
       "    <tr>\n",
       "      <th>0</th>\n",
       "      <td>32</td>\n",
       "      <td>NaN</td>\n",
       "    </tr>\n",
       "    <tr>\n",
       "      <th>1</th>\n",
       "      <td>46</td>\n",
       "      <td>NaN</td>\n",
       "    </tr>\n",
       "    <tr>\n",
       "      <th>2</th>\n",
       "      <td>66</td>\n",
       "      <td>NaN</td>\n",
       "    </tr>\n",
       "    <tr>\n",
       "      <th>3</th>\n",
       "      <td>102</td>\n",
       "      <td>NaN</td>\n",
       "    </tr>\n",
       "    <tr>\n",
       "      <th>4</th>\n",
       "      <td>108</td>\n",
       "      <td>NaN</td>\n",
       "    </tr>\n",
       "    <tr>\n",
       "      <th>...</th>\n",
       "      <td>...</td>\n",
       "      <td>...</td>\n",
       "    </tr>\n",
       "    <tr>\n",
       "      <th>746</th>\n",
       "      <td>25811</td>\n",
       "      <td>NaN</td>\n",
       "    </tr>\n",
       "    <tr>\n",
       "      <th>747</th>\n",
       "      <td>25819</td>\n",
       "      <td>NaN</td>\n",
       "    </tr>\n",
       "    <tr>\n",
       "      <th>748</th>\n",
       "      <td>25909</td>\n",
       "      <td>NaN</td>\n",
       "    </tr>\n",
       "    <tr>\n",
       "      <th>749</th>\n",
       "      <td>25916</td>\n",
       "      <td>NaN</td>\n",
       "    </tr>\n",
       "    <tr>\n",
       "      <th>750</th>\n",
       "      <td>25954</td>\n",
       "      <td>NaN</td>\n",
       "    </tr>\n",
       "  </tbody>\n",
       "</table>\n",
       "<p>751 rows × 2 columns</p>\n",
       "</div>"
      ],
      "text/plain": [
       "     index  q27\n",
       "0       32  NaN\n",
       "1       46  NaN\n",
       "2       66  NaN\n",
       "3      102  NaN\n",
       "4      108  NaN\n",
       "..     ...  ...\n",
       "746  25811  NaN\n",
       "747  25819  NaN\n",
       "748  25909  NaN\n",
       "749  25916  NaN\n",
       "750  25954  NaN\n",
       "\n",
       "[751 rows x 2 columns]"
      ]
     },
     "execution_count": 110,
     "metadata": {},
     "output_type": "execute_result"
    }
   ],
   "source": [
    "#q27\n",
    "\n",
    "df_q27 = df['q27'].reset_index()\n",
    "df_q27"
   ]
  },
  {
   "cell_type": "code",
   "execution_count": 111,
   "metadata": {},
   "outputs": [],
   "source": [
    "df_q27['q27'] = df_q27['q27'].apply(quitar_comillas)"
   ]
  },
  {
   "cell_type": "code",
   "execution_count": 112,
   "metadata": {},
   "outputs": [],
   "source": [
    "df_27_explode = df_q27['q27'].explode().reset_index()"
   ]
  },
  {
   "cell_type": "code",
   "execution_count": 113,
   "metadata": {},
   "outputs": [
    {
     "data": {
      "text/html": [
       "<div>\n",
       "<style scoped>\n",
       "    .dataframe tbody tr th:only-of-type {\n",
       "        vertical-align: middle;\n",
       "    }\n",
       "\n",
       "    .dataframe tbody tr th {\n",
       "        vertical-align: top;\n",
       "    }\n",
       "\n",
       "    .dataframe thead th {\n",
       "        text-align: right;\n",
       "    }\n",
       "</style>\n",
       "<table border=\"1\" class=\"dataframe\">\n",
       "  <thead>\n",
       "    <tr style=\"text-align: right;\">\n",
       "      <th></th>\n",
       "      <th>index</th>\n",
       "      <th>q27</th>\n",
       "    </tr>\n",
       "  </thead>\n",
       "  <tbody>\n",
       "    <tr>\n",
       "      <th>0</th>\n",
       "      <td>0</td>\n",
       "      <td>None</td>\n",
       "    </tr>\n",
       "    <tr>\n",
       "      <th>1</th>\n",
       "      <td>1</td>\n",
       "      <td>None</td>\n",
       "    </tr>\n",
       "    <tr>\n",
       "      <th>2</th>\n",
       "      <td>2</td>\n",
       "      <td>None</td>\n",
       "    </tr>\n",
       "    <tr>\n",
       "      <th>3</th>\n",
       "      <td>3</td>\n",
       "      <td>None</td>\n",
       "    </tr>\n",
       "    <tr>\n",
       "      <th>4</th>\n",
       "      <td>4</td>\n",
       "      <td>None</td>\n",
       "    </tr>\n",
       "    <tr>\n",
       "      <th>...</th>\n",
       "      <td>...</td>\n",
       "      <td>...</td>\n",
       "    </tr>\n",
       "    <tr>\n",
       "      <th>851</th>\n",
       "      <td>746</td>\n",
       "      <td>None</td>\n",
       "    </tr>\n",
       "    <tr>\n",
       "      <th>852</th>\n",
       "      <td>747</td>\n",
       "      <td>None</td>\n",
       "    </tr>\n",
       "    <tr>\n",
       "      <th>853</th>\n",
       "      <td>748</td>\n",
       "      <td>None</td>\n",
       "    </tr>\n",
       "    <tr>\n",
       "      <th>854</th>\n",
       "      <td>749</td>\n",
       "      <td>None</td>\n",
       "    </tr>\n",
       "    <tr>\n",
       "      <th>855</th>\n",
       "      <td>750</td>\n",
       "      <td>None</td>\n",
       "    </tr>\n",
       "  </tbody>\n",
       "</table>\n",
       "<p>856 rows × 2 columns</p>\n",
       "</div>"
      ],
      "text/plain": [
       "     index   q27\n",
       "0        0  None\n",
       "1        1  None\n",
       "2        2  None\n",
       "3        3  None\n",
       "4        4  None\n",
       "..     ...   ...\n",
       "851    746  None\n",
       "852    747  None\n",
       "853    748  None\n",
       "854    749  None\n",
       "855    750  None\n",
       "\n",
       "[856 rows x 2 columns]"
      ]
     },
     "execution_count": 113,
     "metadata": {},
     "output_type": "execute_result"
    }
   ],
   "source": [
    "df_27_explode"
   ]
  },
  {
   "cell_type": "code",
   "execution_count": 114,
   "metadata": {},
   "outputs": [],
   "source": [
    "df_27_explode=df_27_explode.fillna('ninguno')"
   ]
  },
  {
   "cell_type": "code",
   "execution_count": 115,
   "metadata": {},
   "outputs": [
    {
     "data": {
      "text/plain": [
       "array(['ninguno', ' Amazon Web Services (AWS) ', ' Microsoft Azure ',\n",
       "       ' Google Cloud Platform (GCP) ', '', ' IBM Cloud / Red Hat '],\n",
       "      dtype=object)"
      ]
     },
     "execution_count": 115,
     "metadata": {},
     "output_type": "execute_result"
    }
   ],
   "source": [
    "df_27_explode['q27'].unique()"
   ]
  },
  {
   "cell_type": "code",
   "execution_count": 116,
   "metadata": {},
   "outputs": [],
   "source": [
    "gb_27 = df_27_explode.groupby('q27').size() #aqui tenemos todos los espacios, que se tienen que desestimar \n",
    "#para la creacion de las graficas"
   ]
  },
  {
   "cell_type": "code",
   "execution_count": 117,
   "metadata": {},
   "outputs": [],
   "source": [
    "df_q27 = gb_27.reset_index(name = 'count')"
   ]
  },
  {
   "cell_type": "code",
   "execution_count": 118,
   "metadata": {},
   "outputs": [],
   "source": [
    "df_q27.drop(0, axis = 0,inplace = True)"
   ]
  },
  {
   "cell_type": "code",
   "execution_count": 119,
   "metadata": {},
   "outputs": [
    {
     "data": {
      "image/png": "[encoded data removed]",
      "text/plain": [
       "<Figure size 1440x720 with 1 Axes>"
      ]
     },
     "metadata": {
      "needs_background": "light"
     },
     "output_type": "display_data"
    }
   ],
   "source": [
    "plt.figure(figsize=(20,10))\n",
    "fig=sns.barplot(x ='count', y = 'q27', data = df_q27)\n",
    "plt.title('Plataformas computacionales en la nube')\n",
    "fig.set(ylabel='Plataformas', xlabel= 'Conteo')\n",
    "plt.xticks(rotation = 45);\n",
    "\n"
   ]
  },
  {
   "cell_type": "markdown",
   "metadata": {},
   "source": [
    "# Q29"
   ]
  },
  {
   "cell_type": "code",
   "execution_count": 120,
   "metadata": {},
   "outputs": [
    {
     "data": {
      "text/html": [
       "<div>\n",
       "<style scoped>\n",
       "    .dataframe tbody tr th:only-of-type {\n",
       "        vertical-align: middle;\n",
       "    }\n",
       "\n",
       "    .dataframe tbody tr th {\n",
       "        vertical-align: top;\n",
       "    }\n",
       "\n",
       "    .dataframe thead th {\n",
       "        text-align: right;\n",
       "    }\n",
       "</style>\n",
       "<table border=\"1\" class=\"dataframe\">\n",
       "  <thead>\n",
       "    <tr style=\"text-align: right;\">\n",
       "      <th></th>\n",
       "      <th>index</th>\n",
       "      <th>q29</th>\n",
       "    </tr>\n",
       "  </thead>\n",
       "  <tbody>\n",
       "    <tr>\n",
       "      <th>0</th>\n",
       "      <td>32</td>\n",
       "      <td>NaN</td>\n",
       "    </tr>\n",
       "    <tr>\n",
       "      <th>1</th>\n",
       "      <td>46</td>\n",
       "      <td>NaN</td>\n",
       "    </tr>\n",
       "    <tr>\n",
       "      <th>2</th>\n",
       "      <td>66</td>\n",
       "      <td>NaN</td>\n",
       "    </tr>\n",
       "    <tr>\n",
       "      <th>3</th>\n",
       "      <td>102</td>\n",
       "      <td>NaN</td>\n",
       "    </tr>\n",
       "    <tr>\n",
       "      <th>4</th>\n",
       "      <td>108</td>\n",
       "      <td>NaN</td>\n",
       "    </tr>\n",
       "    <tr>\n",
       "      <th>...</th>\n",
       "      <td>...</td>\n",
       "      <td>...</td>\n",
       "    </tr>\n",
       "    <tr>\n",
       "      <th>746</th>\n",
       "      <td>25811</td>\n",
       "      <td>NaN</td>\n",
       "    </tr>\n",
       "    <tr>\n",
       "      <th>747</th>\n",
       "      <td>25819</td>\n",
       "      <td>NaN</td>\n",
       "    </tr>\n",
       "    <tr>\n",
       "      <th>748</th>\n",
       "      <td>25909</td>\n",
       "      <td>NaN</td>\n",
       "    </tr>\n",
       "    <tr>\n",
       "      <th>749</th>\n",
       "      <td>25916</td>\n",
       "      <td>NaN</td>\n",
       "    </tr>\n",
       "    <tr>\n",
       "      <th>750</th>\n",
       "      <td>25954</td>\n",
       "      <td>NaN</td>\n",
       "    </tr>\n",
       "  </tbody>\n",
       "</table>\n",
       "<p>751 rows × 2 columns</p>\n",
       "</div>"
      ],
      "text/plain": [
       "     index  q29\n",
       "0       32  NaN\n",
       "1       46  NaN\n",
       "2       66  NaN\n",
       "3      102  NaN\n",
       "4      108  NaN\n",
       "..     ...  ...\n",
       "746  25811  NaN\n",
       "747  25819  NaN\n",
       "748  25909  NaN\n",
       "749  25916  NaN\n",
       "750  25954  NaN\n",
       "\n",
       "[751 rows x 2 columns]"
      ]
     },
     "execution_count": 120,
     "metadata": {},
     "output_type": "execute_result"
    }
   ],
   "source": [
    "df_q29=df['q29'].reset_index()\n",
    "df_q29"
   ]
  },
  {
   "cell_type": "code",
   "execution_count": 121,
   "metadata": {},
   "outputs": [
    {
     "data": {
      "text/html": [
       "<div>\n",
       "<style scoped>\n",
       "    .dataframe tbody tr th:only-of-type {\n",
       "        vertical-align: middle;\n",
       "    }\n",
       "\n",
       "    .dataframe tbody tr th {\n",
       "        vertical-align: top;\n",
       "    }\n",
       "\n",
       "    .dataframe thead th {\n",
       "        text-align: right;\n",
       "    }\n",
       "</style>\n",
       "<table border=\"1\" class=\"dataframe\">\n",
       "  <thead>\n",
       "    <tr style=\"text-align: right;\">\n",
       "      <th></th>\n",
       "      <th>index</th>\n",
       "      <th>q29</th>\n",
       "    </tr>\n",
       "  </thead>\n",
       "  <tbody>\n",
       "    <tr>\n",
       "      <th>0</th>\n",
       "      <td>32</td>\n",
       "      <td>None</td>\n",
       "    </tr>\n",
       "    <tr>\n",
       "      <th>1</th>\n",
       "      <td>46</td>\n",
       "      <td>None</td>\n",
       "    </tr>\n",
       "    <tr>\n",
       "      <th>2</th>\n",
       "      <td>66</td>\n",
       "      <td>None</td>\n",
       "    </tr>\n",
       "    <tr>\n",
       "      <th>3</th>\n",
       "      <td>102</td>\n",
       "      <td>None</td>\n",
       "    </tr>\n",
       "    <tr>\n",
       "      <th>4</th>\n",
       "      <td>108</td>\n",
       "      <td>None</td>\n",
       "    </tr>\n",
       "    <tr>\n",
       "      <th>...</th>\n",
       "      <td>...</td>\n",
       "      <td>...</td>\n",
       "    </tr>\n",
       "    <tr>\n",
       "      <th>746</th>\n",
       "      <td>25811</td>\n",
       "      <td>None</td>\n",
       "    </tr>\n",
       "    <tr>\n",
       "      <th>747</th>\n",
       "      <td>25819</td>\n",
       "      <td>None</td>\n",
       "    </tr>\n",
       "    <tr>\n",
       "      <th>748</th>\n",
       "      <td>25909</td>\n",
       "      <td>None</td>\n",
       "    </tr>\n",
       "    <tr>\n",
       "      <th>749</th>\n",
       "      <td>25916</td>\n",
       "      <td>None</td>\n",
       "    </tr>\n",
       "    <tr>\n",
       "      <th>750</th>\n",
       "      <td>25954</td>\n",
       "      <td>None</td>\n",
       "    </tr>\n",
       "  </tbody>\n",
       "</table>\n",
       "<p>751 rows × 2 columns</p>\n",
       "</div>"
      ],
      "text/plain": [
       "     index   q29\n",
       "0       32  None\n",
       "1       46  None\n",
       "2       66  None\n",
       "3      102  None\n",
       "4      108  None\n",
       "..     ...   ...\n",
       "746  25811  None\n",
       "747  25819  None\n",
       "748  25909  None\n",
       "749  25916  None\n",
       "750  25954  None\n",
       "\n",
       "[751 rows x 2 columns]"
      ]
     },
     "execution_count": 121,
     "metadata": {},
     "output_type": "execute_result"
    }
   ],
   "source": [
    "df_q29['q29'] = df_q29['q29'].apply(quitar_comillas)\n",
    "df_q29"
   ]
  },
  {
   "cell_type": "code",
   "execution_count": 122,
   "metadata": {},
   "outputs": [
    {
     "data": {
      "text/html": [
       "<div>\n",
       "<style scoped>\n",
       "    .dataframe tbody tr th:only-of-type {\n",
       "        vertical-align: middle;\n",
       "    }\n",
       "\n",
       "    .dataframe tbody tr th {\n",
       "        vertical-align: top;\n",
       "    }\n",
       "\n",
       "    .dataframe thead th {\n",
       "        text-align: right;\n",
       "    }\n",
       "</style>\n",
       "<table border=\"1\" class=\"dataframe\">\n",
       "  <thead>\n",
       "    <tr style=\"text-align: right;\">\n",
       "      <th></th>\n",
       "      <th>index</th>\n",
       "      <th>q29</th>\n",
       "    </tr>\n",
       "  </thead>\n",
       "  <tbody>\n",
       "    <tr>\n",
       "      <th>0</th>\n",
       "      <td>0</td>\n",
       "      <td>None</td>\n",
       "    </tr>\n",
       "    <tr>\n",
       "      <th>1</th>\n",
       "      <td>1</td>\n",
       "      <td>None</td>\n",
       "    </tr>\n",
       "    <tr>\n",
       "      <th>2</th>\n",
       "      <td>2</td>\n",
       "      <td>None</td>\n",
       "    </tr>\n",
       "    <tr>\n",
       "      <th>3</th>\n",
       "      <td>3</td>\n",
       "      <td>None</td>\n",
       "    </tr>\n",
       "    <tr>\n",
       "      <th>4</th>\n",
       "      <td>4</td>\n",
       "      <td>None</td>\n",
       "    </tr>\n",
       "    <tr>\n",
       "      <th>...</th>\n",
       "      <td>...</td>\n",
       "      <td>...</td>\n",
       "    </tr>\n",
       "    <tr>\n",
       "      <th>786</th>\n",
       "      <td>746</td>\n",
       "      <td>None</td>\n",
       "    </tr>\n",
       "    <tr>\n",
       "      <th>787</th>\n",
       "      <td>747</td>\n",
       "      <td>None</td>\n",
       "    </tr>\n",
       "    <tr>\n",
       "      <th>788</th>\n",
       "      <td>748</td>\n",
       "      <td>None</td>\n",
       "    </tr>\n",
       "    <tr>\n",
       "      <th>789</th>\n",
       "      <td>749</td>\n",
       "      <td>None</td>\n",
       "    </tr>\n",
       "    <tr>\n",
       "      <th>790</th>\n",
       "      <td>750</td>\n",
       "      <td>None</td>\n",
       "    </tr>\n",
       "  </tbody>\n",
       "</table>\n",
       "<p>791 rows × 2 columns</p>\n",
       "</div>"
      ],
      "text/plain": [
       "     index   q29\n",
       "0        0  None\n",
       "1        1  None\n",
       "2        2  None\n",
       "3        3  None\n",
       "4        4  None\n",
       "..     ...   ...\n",
       "786    746  None\n",
       "787    747  None\n",
       "788    748  None\n",
       "789    749  None\n",
       "790    750  None\n",
       "\n",
       "[791 rows x 2 columns]"
      ]
     },
     "execution_count": 122,
     "metadata": {},
     "output_type": "execute_result"
    }
   ],
   "source": [
    "df_29_explode = df_q29['q29'].explode().reset_index()\n",
    "df_29_explode\n"
   ]
  },
  {
   "cell_type": "code",
   "execution_count": 123,
   "metadata": {},
   "outputs": [],
   "source": [
    "df_29_explode=df_29_explode.fillna('ninguno')"
   ]
  },
  {
   "cell_type": "code",
   "execution_count": 124,
   "metadata": {},
   "outputs": [
    {
     "data": {
      "text/plain": [
       "q29\n",
       "                                         31\n",
       " Amazon Elastic Compute Cloud (EC2)      31\n",
       " Google Cloud Compute Engine              2\n",
       " Microsoft Azure Virtual Machines         7\n",
       "ninguno                                 720\n",
       "dtype: int64"
      ]
     },
     "execution_count": 124,
     "metadata": {},
     "output_type": "execute_result"
    }
   ],
   "source": [
    "df_29_gp = df_29_explode.groupby('q29').size()\n",
    "df_29_gp"
   ]
  },
  {
   "cell_type": "code",
   "execution_count": 125,
   "metadata": {},
   "outputs": [
    {
     "data": {
      "text/html": [
       "<div>\n",
       "<style scoped>\n",
       "    .dataframe tbody tr th:only-of-type {\n",
       "        vertical-align: middle;\n",
       "    }\n",
       "\n",
       "    .dataframe tbody tr th {\n",
       "        vertical-align: top;\n",
       "    }\n",
       "\n",
       "    .dataframe thead th {\n",
       "        text-align: right;\n",
       "    }\n",
       "</style>\n",
       "<table border=\"1\" class=\"dataframe\">\n",
       "  <thead>\n",
       "    <tr style=\"text-align: right;\">\n",
       "      <th></th>\n",
       "      <th>q29</th>\n",
       "      <th>count</th>\n",
       "    </tr>\n",
       "  </thead>\n",
       "  <tbody>\n",
       "    <tr>\n",
       "      <th>0</th>\n",
       "      <td></td>\n",
       "      <td>31</td>\n",
       "    </tr>\n",
       "    <tr>\n",
       "      <th>1</th>\n",
       "      <td>Amazon Elastic Compute Cloud (EC2)</td>\n",
       "      <td>31</td>\n",
       "    </tr>\n",
       "    <tr>\n",
       "      <th>2</th>\n",
       "      <td>Google Cloud Compute Engine</td>\n",
       "      <td>2</td>\n",
       "    </tr>\n",
       "    <tr>\n",
       "      <th>3</th>\n",
       "      <td>Microsoft Azure Virtual Machines</td>\n",
       "      <td>7</td>\n",
       "    </tr>\n",
       "    <tr>\n",
       "      <th>4</th>\n",
       "      <td>ninguno</td>\n",
       "      <td>720</td>\n",
       "    </tr>\n",
       "  </tbody>\n",
       "</table>\n",
       "</div>"
      ],
      "text/plain": [
       "                                    q29  count\n",
       "0                                           31\n",
       "1   Amazon Elastic Compute Cloud (EC2)      31\n",
       "2          Google Cloud Compute Engine       2\n",
       "3     Microsoft Azure Virtual Machines       7\n",
       "4                               ninguno    720"
      ]
     },
     "execution_count": 125,
     "metadata": {},
     "output_type": "execute_result"
    }
   ],
   "source": [
    "df_29_gp = df_29_gp.reset_index(name='count')\n",
    "df_29_gp"
   ]
  },
  {
   "cell_type": "code",
   "execution_count": 126,
   "metadata": {},
   "outputs": [],
   "source": [
    "df_29_gp.drop(0, axis = 0,inplace = True)"
   ]
  },
  {
   "cell_type": "code",
   "execution_count": 127,
   "metadata": {},
   "outputs": [
    {
     "data": {
      "image/png": "[encoded data removed]",
      "text/plain": [
       "<Figure size 1440x720 with 1 Axes>"
      ]
     },
     "metadata": {
      "needs_background": "light"
     },
     "output_type": "display_data"
    }
   ],
   "source": [
    "plt.figure(figsize=(20,10))\n",
    "sns.barplot(x ='count', y = 'q29', data=df_29_gp)\n",
    "plt.title('Productos de la Nube')\n",
    "fig.set(ylabel='Herramienta', xlabel= 'Conteo')\n",
    "plt.xticks(rotation = 45);"
   ]
  },
  {
   "cell_type": "markdown",
   "metadata": {},
   "source": [
    "# Q30"
   ]
  },
  {
   "cell_type": "code",
   "execution_count": 128,
   "metadata": {},
   "outputs": [
    {
     "data": {
      "text/html": [
       "<div>\n",
       "<style scoped>\n",
       "    .dataframe tbody tr th:only-of-type {\n",
       "        vertical-align: middle;\n",
       "    }\n",
       "\n",
       "    .dataframe tbody tr th {\n",
       "        vertical-align: top;\n",
       "    }\n",
       "\n",
       "    .dataframe thead th {\n",
       "        text-align: right;\n",
       "    }\n",
       "</style>\n",
       "<table border=\"1\" class=\"dataframe\">\n",
       "  <thead>\n",
       "    <tr style=\"text-align: right;\">\n",
       "      <th></th>\n",
       "      <th>index</th>\n",
       "      <th>q30</th>\n",
       "    </tr>\n",
       "  </thead>\n",
       "  <tbody>\n",
       "    <tr>\n",
       "      <th>0</th>\n",
       "      <td>32</td>\n",
       "      <td>NaN</td>\n",
       "    </tr>\n",
       "    <tr>\n",
       "      <th>1</th>\n",
       "      <td>46</td>\n",
       "      <td>NaN</td>\n",
       "    </tr>\n",
       "    <tr>\n",
       "      <th>2</th>\n",
       "      <td>66</td>\n",
       "      <td>NaN</td>\n",
       "    </tr>\n",
       "    <tr>\n",
       "      <th>3</th>\n",
       "      <td>102</td>\n",
       "      <td>NaN</td>\n",
       "    </tr>\n",
       "    <tr>\n",
       "      <th>4</th>\n",
       "      <td>108</td>\n",
       "      <td>NaN</td>\n",
       "    </tr>\n",
       "    <tr>\n",
       "      <th>...</th>\n",
       "      <td>...</td>\n",
       "      <td>...</td>\n",
       "    </tr>\n",
       "    <tr>\n",
       "      <th>746</th>\n",
       "      <td>25811</td>\n",
       "      <td>NaN</td>\n",
       "    </tr>\n",
       "    <tr>\n",
       "      <th>747</th>\n",
       "      <td>25819</td>\n",
       "      <td>NaN</td>\n",
       "    </tr>\n",
       "    <tr>\n",
       "      <th>748</th>\n",
       "      <td>25909</td>\n",
       "      <td>NaN</td>\n",
       "    </tr>\n",
       "    <tr>\n",
       "      <th>749</th>\n",
       "      <td>25916</td>\n",
       "      <td>NaN</td>\n",
       "    </tr>\n",
       "    <tr>\n",
       "      <th>750</th>\n",
       "      <td>25954</td>\n",
       "      <td>NaN</td>\n",
       "    </tr>\n",
       "  </tbody>\n",
       "</table>\n",
       "<p>751 rows × 2 columns</p>\n",
       "</div>"
      ],
      "text/plain": [
       "     index  q30\n",
       "0       32  NaN\n",
       "1       46  NaN\n",
       "2       66  NaN\n",
       "3      102  NaN\n",
       "4      108  NaN\n",
       "..     ...  ...\n",
       "746  25811  NaN\n",
       "747  25819  NaN\n",
       "748  25909  NaN\n",
       "749  25916  NaN\n",
       "750  25954  NaN\n",
       "\n",
       "[751 rows x 2 columns]"
      ]
     },
     "execution_count": 128,
     "metadata": {},
     "output_type": "execute_result"
    }
   ],
   "source": [
    "df_q30=df['q30'].reset_index()\n",
    "df_q30"
   ]
  },
  {
   "cell_type": "code",
   "execution_count": 129,
   "metadata": {},
   "outputs": [
    {
     "data": {
      "text/html": [
       "<div>\n",
       "<style scoped>\n",
       "    .dataframe tbody tr th:only-of-type {\n",
       "        vertical-align: middle;\n",
       "    }\n",
       "\n",
       "    .dataframe tbody tr th {\n",
       "        vertical-align: top;\n",
       "    }\n",
       "\n",
       "    .dataframe thead th {\n",
       "        text-align: right;\n",
       "    }\n",
       "</style>\n",
       "<table border=\"1\" class=\"dataframe\">\n",
       "  <thead>\n",
       "    <tr style=\"text-align: right;\">\n",
       "      <th></th>\n",
       "      <th>index</th>\n",
       "      <th>q30</th>\n",
       "    </tr>\n",
       "  </thead>\n",
       "  <tbody>\n",
       "    <tr>\n",
       "      <th>0</th>\n",
       "      <td>32</td>\n",
       "      <td>None</td>\n",
       "    </tr>\n",
       "    <tr>\n",
       "      <th>1</th>\n",
       "      <td>46</td>\n",
       "      <td>None</td>\n",
       "    </tr>\n",
       "    <tr>\n",
       "      <th>2</th>\n",
       "      <td>66</td>\n",
       "      <td>None</td>\n",
       "    </tr>\n",
       "    <tr>\n",
       "      <th>3</th>\n",
       "      <td>102</td>\n",
       "      <td>None</td>\n",
       "    </tr>\n",
       "    <tr>\n",
       "      <th>4</th>\n",
       "      <td>108</td>\n",
       "      <td>None</td>\n",
       "    </tr>\n",
       "    <tr>\n",
       "      <th>...</th>\n",
       "      <td>...</td>\n",
       "      <td>...</td>\n",
       "    </tr>\n",
       "    <tr>\n",
       "      <th>746</th>\n",
       "      <td>25811</td>\n",
       "      <td>None</td>\n",
       "    </tr>\n",
       "    <tr>\n",
       "      <th>747</th>\n",
       "      <td>25819</td>\n",
       "      <td>None</td>\n",
       "    </tr>\n",
       "    <tr>\n",
       "      <th>748</th>\n",
       "      <td>25909</td>\n",
       "      <td>None</td>\n",
       "    </tr>\n",
       "    <tr>\n",
       "      <th>749</th>\n",
       "      <td>25916</td>\n",
       "      <td>None</td>\n",
       "    </tr>\n",
       "    <tr>\n",
       "      <th>750</th>\n",
       "      <td>25954</td>\n",
       "      <td>None</td>\n",
       "    </tr>\n",
       "  </tbody>\n",
       "</table>\n",
       "<p>751 rows × 2 columns</p>\n",
       "</div>"
      ],
      "text/plain": [
       "     index   q30\n",
       "0       32  None\n",
       "1       46  None\n",
       "2       66  None\n",
       "3      102  None\n",
       "4      108  None\n",
       "..     ...   ...\n",
       "746  25811  None\n",
       "747  25819  None\n",
       "748  25909  None\n",
       "749  25916  None\n",
       "750  25954  None\n",
       "\n",
       "[751 rows x 2 columns]"
      ]
     },
     "execution_count": 129,
     "metadata": {},
     "output_type": "execute_result"
    }
   ],
   "source": [
    "df_q30['q30'] = df_q30['q30'].apply(quitar_comillas)\n",
    "df_q30"
   ]
  },
  {
   "cell_type": "code",
   "execution_count": 130,
   "metadata": {},
   "outputs": [
    {
     "data": {
      "text/html": [
       "<div>\n",
       "<style scoped>\n",
       "    .dataframe tbody tr th:only-of-type {\n",
       "        vertical-align: middle;\n",
       "    }\n",
       "\n",
       "    .dataframe tbody tr th {\n",
       "        vertical-align: top;\n",
       "    }\n",
       "\n",
       "    .dataframe thead th {\n",
       "        text-align: right;\n",
       "    }\n",
       "</style>\n",
       "<table border=\"1\" class=\"dataframe\">\n",
       "  <thead>\n",
       "    <tr style=\"text-align: right;\">\n",
       "      <th></th>\n",
       "      <th>index</th>\n",
       "      <th>q30</th>\n",
       "    </tr>\n",
       "  </thead>\n",
       "  <tbody>\n",
       "    <tr>\n",
       "      <th>0</th>\n",
       "      <td>0</td>\n",
       "      <td>None</td>\n",
       "    </tr>\n",
       "    <tr>\n",
       "      <th>1</th>\n",
       "      <td>1</td>\n",
       "      <td>None</td>\n",
       "    </tr>\n",
       "    <tr>\n",
       "      <th>2</th>\n",
       "      <td>2</td>\n",
       "      <td>None</td>\n",
       "    </tr>\n",
       "    <tr>\n",
       "      <th>3</th>\n",
       "      <td>3</td>\n",
       "      <td>None</td>\n",
       "    </tr>\n",
       "    <tr>\n",
       "      <th>4</th>\n",
       "      <td>4</td>\n",
       "      <td>None</td>\n",
       "    </tr>\n",
       "    <tr>\n",
       "      <th>...</th>\n",
       "      <td>...</td>\n",
       "      <td>...</td>\n",
       "    </tr>\n",
       "    <tr>\n",
       "      <th>786</th>\n",
       "      <td>746</td>\n",
       "      <td>None</td>\n",
       "    </tr>\n",
       "    <tr>\n",
       "      <th>787</th>\n",
       "      <td>747</td>\n",
       "      <td>None</td>\n",
       "    </tr>\n",
       "    <tr>\n",
       "      <th>788</th>\n",
       "      <td>748</td>\n",
       "      <td>None</td>\n",
       "    </tr>\n",
       "    <tr>\n",
       "      <th>789</th>\n",
       "      <td>749</td>\n",
       "      <td>None</td>\n",
       "    </tr>\n",
       "    <tr>\n",
       "      <th>790</th>\n",
       "      <td>750</td>\n",
       "      <td>None</td>\n",
       "    </tr>\n",
       "  </tbody>\n",
       "</table>\n",
       "<p>791 rows × 2 columns</p>\n",
       "</div>"
      ],
      "text/plain": [
       "     index   q30\n",
       "0        0  None\n",
       "1        1  None\n",
       "2        2  None\n",
       "3        3  None\n",
       "4        4  None\n",
       "..     ...   ...\n",
       "786    746  None\n",
       "787    747  None\n",
       "788    748  None\n",
       "789    749  None\n",
       "790    750  None\n",
       "\n",
       "[791 rows x 2 columns]"
      ]
     },
     "execution_count": 130,
     "metadata": {},
     "output_type": "execute_result"
    }
   ],
   "source": [
    "df_30_explode = df_q30['q30'].explode().reset_index()\n",
    "df_30_explode"
   ]
  },
  {
   "cell_type": "code",
   "execution_count": 131,
   "metadata": {},
   "outputs": [],
   "source": [
    "df_30_explode=df_30_explode.fillna('ninguno')"
   ]
  },
  {
   "cell_type": "code",
   "execution_count": 132,
   "metadata": {},
   "outputs": [
    {
     "data": {
      "text/plain": [
       "q30\n",
       "                                          25\n",
       " Amazon Elastic File System (EFS)          1\n",
       " Amazon Simple Storage Service (S3)        2\n",
       "Google Cloud Storage (GCS)                 1\n",
       "Microsoft Azure Data Lake Storage         25\n",
       "Microsoft Azure Disk Storage              11\n",
       "ninguno                                  726\n",
       "dtype: int64"
      ]
     },
     "execution_count": 132,
     "metadata": {},
     "output_type": "execute_result"
    }
   ],
   "source": [
    "df_30_gp = df_30_explode.groupby('q30').size()\n",
    "df_30_gp"
   ]
  },
  {
   "cell_type": "code",
   "execution_count": 133,
   "metadata": {},
   "outputs": [
    {
     "data": {
      "text/html": [
       "<div>\n",
       "<style scoped>\n",
       "    .dataframe tbody tr th:only-of-type {\n",
       "        vertical-align: middle;\n",
       "    }\n",
       "\n",
       "    .dataframe tbody tr th {\n",
       "        vertical-align: top;\n",
       "    }\n",
       "\n",
       "    .dataframe thead th {\n",
       "        text-align: right;\n",
       "    }\n",
       "</style>\n",
       "<table border=\"1\" class=\"dataframe\">\n",
       "  <thead>\n",
       "    <tr style=\"text-align: right;\">\n",
       "      <th></th>\n",
       "      <th>q30</th>\n",
       "      <th>count</th>\n",
       "    </tr>\n",
       "  </thead>\n",
       "  <tbody>\n",
       "    <tr>\n",
       "      <th>0</th>\n",
       "      <td></td>\n",
       "      <td>25</td>\n",
       "    </tr>\n",
       "    <tr>\n",
       "      <th>1</th>\n",
       "      <td>Amazon Elastic File System (EFS)</td>\n",
       "      <td>1</td>\n",
       "    </tr>\n",
       "    <tr>\n",
       "      <th>2</th>\n",
       "      <td>Amazon Simple Storage Service (S3)</td>\n",
       "      <td>2</td>\n",
       "    </tr>\n",
       "    <tr>\n",
       "      <th>3</th>\n",
       "      <td>Google Cloud Storage (GCS)</td>\n",
       "      <td>1</td>\n",
       "    </tr>\n",
       "    <tr>\n",
       "      <th>4</th>\n",
       "      <td>Microsoft Azure Data Lake Storage</td>\n",
       "      <td>25</td>\n",
       "    </tr>\n",
       "    <tr>\n",
       "      <th>5</th>\n",
       "      <td>Microsoft Azure Disk Storage</td>\n",
       "      <td>11</td>\n",
       "    </tr>\n",
       "    <tr>\n",
       "      <th>6</th>\n",
       "      <td>ninguno</td>\n",
       "      <td>726</td>\n",
       "    </tr>\n",
       "  </tbody>\n",
       "</table>\n",
       "</div>"
      ],
      "text/plain": [
       "                                     q30  count\n",
       "0                                            25\n",
       "1     Amazon Elastic File System (EFS)        1\n",
       "2   Amazon Simple Storage Service (S3)        2\n",
       "3          Google Cloud Storage (GCS)         1\n",
       "4     Microsoft Azure Data Lake Storage      25\n",
       "5          Microsoft Azure Disk Storage      11\n",
       "6                                ninguno    726"
      ]
     },
     "execution_count": 133,
     "metadata": {},
     "output_type": "execute_result"
    }
   ],
   "source": [
    "df_30_gp= df_30_gp.reset_index(name='count')\n",
    "df_30_gp"
   ]
  },
  {
   "cell_type": "code",
   "execution_count": 134,
   "metadata": {},
   "outputs": [],
   "source": [
    "df_30_gp.drop(0, axis= 0,inplace=True)"
   ]
  },
  {
   "cell_type": "code",
   "execution_count": 135,
   "metadata": {},
   "outputs": [
    {
     "data": {
      "image/png": "[encoded data removed]",
      "text/plain": [
       "<Figure size 1440x720 with 1 Axes>"
      ]
     },
     "metadata": {
      "needs_background": "light"
     },
     "output_type": "display_data"
    }
   ],
   "source": [
    "plt.figure(figsize=(20,10))\n",
    "sns.barplot(x ='count', y = 'q30', data=df_30_gp)\n",
    "plt.title('Productos de almacenamiento de datos')\n",
    "fig.set(ylabel='Productos', xlabel= 'Conteo')\n",
    "plt.xticks(rotation = 45);"
   ]
  },
  {
   "cell_type": "markdown",
   "metadata": {},
   "source": [
    "# Q31"
   ]
  },
  {
   "cell_type": "code",
   "execution_count": 136,
   "metadata": {},
   "outputs": [
    {
     "data": {
      "text/html": [
       "<div>\n",
       "<style scoped>\n",
       "    .dataframe tbody tr th:only-of-type {\n",
       "        vertical-align: middle;\n",
       "    }\n",
       "\n",
       "    .dataframe tbody tr th {\n",
       "        vertical-align: top;\n",
       "    }\n",
       "\n",
       "    .dataframe thead th {\n",
       "        text-align: right;\n",
       "    }\n",
       "</style>\n",
       "<table border=\"1\" class=\"dataframe\">\n",
       "  <thead>\n",
       "    <tr style=\"text-align: right;\">\n",
       "      <th></th>\n",
       "      <th>index</th>\n",
       "      <th>q31</th>\n",
       "    </tr>\n",
       "  </thead>\n",
       "  <tbody>\n",
       "    <tr>\n",
       "      <th>0</th>\n",
       "      <td>32</td>\n",
       "      <td>NaN</td>\n",
       "    </tr>\n",
       "    <tr>\n",
       "      <th>1</th>\n",
       "      <td>46</td>\n",
       "      <td>NaN</td>\n",
       "    </tr>\n",
       "    <tr>\n",
       "      <th>2</th>\n",
       "      <td>66</td>\n",
       "      <td>NaN</td>\n",
       "    </tr>\n",
       "    <tr>\n",
       "      <th>3</th>\n",
       "      <td>102</td>\n",
       "      <td>NaN</td>\n",
       "    </tr>\n",
       "    <tr>\n",
       "      <th>4</th>\n",
       "      <td>108</td>\n",
       "      <td>NaN</td>\n",
       "    </tr>\n",
       "    <tr>\n",
       "      <th>...</th>\n",
       "      <td>...</td>\n",
       "      <td>...</td>\n",
       "    </tr>\n",
       "    <tr>\n",
       "      <th>746</th>\n",
       "      <td>25811</td>\n",
       "      <td>NaN</td>\n",
       "    </tr>\n",
       "    <tr>\n",
       "      <th>747</th>\n",
       "      <td>25819</td>\n",
       "      <td>NaN</td>\n",
       "    </tr>\n",
       "    <tr>\n",
       "      <th>748</th>\n",
       "      <td>25909</td>\n",
       "      <td>NaN</td>\n",
       "    </tr>\n",
       "    <tr>\n",
       "      <th>749</th>\n",
       "      <td>25916</td>\n",
       "      <td>NaN</td>\n",
       "    </tr>\n",
       "    <tr>\n",
       "      <th>750</th>\n",
       "      <td>25954</td>\n",
       "      <td>NaN</td>\n",
       "    </tr>\n",
       "  </tbody>\n",
       "</table>\n",
       "<p>751 rows × 2 columns</p>\n",
       "</div>"
      ],
      "text/plain": [
       "     index  q31\n",
       "0       32  NaN\n",
       "1       46  NaN\n",
       "2       66  NaN\n",
       "3      102  NaN\n",
       "4      108  NaN\n",
       "..     ...  ...\n",
       "746  25811  NaN\n",
       "747  25819  NaN\n",
       "748  25909  NaN\n",
       "749  25916  NaN\n",
       "750  25954  NaN\n",
       "\n",
       "[751 rows x 2 columns]"
      ]
     },
     "execution_count": 136,
     "metadata": {},
     "output_type": "execute_result"
    }
   ],
   "source": [
    "df_q31=df['q31'].reset_index()\n",
    "df_q31"
   ]
  },
  {
   "cell_type": "code",
   "execution_count": 137,
   "metadata": {},
   "outputs": [
    {
     "data": {
      "text/html": [
       "<div>\n",
       "<style scoped>\n",
       "    .dataframe tbody tr th:only-of-type {\n",
       "        vertical-align: middle;\n",
       "    }\n",
       "\n",
       "    .dataframe tbody tr th {\n",
       "        vertical-align: top;\n",
       "    }\n",
       "\n",
       "    .dataframe thead th {\n",
       "        text-align: right;\n",
       "    }\n",
       "</style>\n",
       "<table border=\"1\" class=\"dataframe\">\n",
       "  <thead>\n",
       "    <tr style=\"text-align: right;\">\n",
       "      <th></th>\n",
       "      <th>index</th>\n",
       "      <th>q31</th>\n",
       "    </tr>\n",
       "  </thead>\n",
       "  <tbody>\n",
       "    <tr>\n",
       "      <th>0</th>\n",
       "      <td>32</td>\n",
       "      <td>None</td>\n",
       "    </tr>\n",
       "    <tr>\n",
       "      <th>1</th>\n",
       "      <td>46</td>\n",
       "      <td>None</td>\n",
       "    </tr>\n",
       "    <tr>\n",
       "      <th>2</th>\n",
       "      <td>66</td>\n",
       "      <td>None</td>\n",
       "    </tr>\n",
       "    <tr>\n",
       "      <th>3</th>\n",
       "      <td>102</td>\n",
       "      <td>None</td>\n",
       "    </tr>\n",
       "    <tr>\n",
       "      <th>4</th>\n",
       "      <td>108</td>\n",
       "      <td>None</td>\n",
       "    </tr>\n",
       "    <tr>\n",
       "      <th>...</th>\n",
       "      <td>...</td>\n",
       "      <td>...</td>\n",
       "    </tr>\n",
       "    <tr>\n",
       "      <th>746</th>\n",
       "      <td>25811</td>\n",
       "      <td>None</td>\n",
       "    </tr>\n",
       "    <tr>\n",
       "      <th>747</th>\n",
       "      <td>25819</td>\n",
       "      <td>None</td>\n",
       "    </tr>\n",
       "    <tr>\n",
       "      <th>748</th>\n",
       "      <td>25909</td>\n",
       "      <td>None</td>\n",
       "    </tr>\n",
       "    <tr>\n",
       "      <th>749</th>\n",
       "      <td>25916</td>\n",
       "      <td>None</td>\n",
       "    </tr>\n",
       "    <tr>\n",
       "      <th>750</th>\n",
       "      <td>25954</td>\n",
       "      <td>None</td>\n",
       "    </tr>\n",
       "  </tbody>\n",
       "</table>\n",
       "<p>751 rows × 2 columns</p>\n",
       "</div>"
      ],
      "text/plain": [
       "     index   q31\n",
       "0       32  None\n",
       "1       46  None\n",
       "2       66  None\n",
       "3      102  None\n",
       "4      108  None\n",
       "..     ...   ...\n",
       "746  25811  None\n",
       "747  25819  None\n",
       "748  25909  None\n",
       "749  25916  None\n",
       "750  25954  None\n",
       "\n",
       "[751 rows x 2 columns]"
      ]
     },
     "execution_count": 137,
     "metadata": {},
     "output_type": "execute_result"
    }
   ],
   "source": [
    "df_q31['q31'] = df_q31['q31'].apply(quitar_comillas)\n",
    "df_q31"
   ]
  },
  {
   "cell_type": "code",
   "execution_count": 138,
   "metadata": {},
   "outputs": [
    {
     "data": {
      "text/html": [
       "<div>\n",
       "<style scoped>\n",
       "    .dataframe tbody tr th:only-of-type {\n",
       "        vertical-align: middle;\n",
       "    }\n",
       "\n",
       "    .dataframe tbody tr th {\n",
       "        vertical-align: top;\n",
       "    }\n",
       "\n",
       "    .dataframe thead th {\n",
       "        text-align: right;\n",
       "    }\n",
       "</style>\n",
       "<table border=\"1\" class=\"dataframe\">\n",
       "  <thead>\n",
       "    <tr style=\"text-align: right;\">\n",
       "      <th></th>\n",
       "      <th>index</th>\n",
       "      <th>q31</th>\n",
       "    </tr>\n",
       "  </thead>\n",
       "  <tbody>\n",
       "    <tr>\n",
       "      <th>0</th>\n",
       "      <td>0</td>\n",
       "      <td>None</td>\n",
       "    </tr>\n",
       "    <tr>\n",
       "      <th>1</th>\n",
       "      <td>1</td>\n",
       "      <td>None</td>\n",
       "    </tr>\n",
       "    <tr>\n",
       "      <th>2</th>\n",
       "      <td>2</td>\n",
       "      <td>None</td>\n",
       "    </tr>\n",
       "    <tr>\n",
       "      <th>3</th>\n",
       "      <td>3</td>\n",
       "      <td>None</td>\n",
       "    </tr>\n",
       "    <tr>\n",
       "      <th>4</th>\n",
       "      <td>4</td>\n",
       "      <td>None</td>\n",
       "    </tr>\n",
       "    <tr>\n",
       "      <th>...</th>\n",
       "      <td>...</td>\n",
       "      <td>...</td>\n",
       "    </tr>\n",
       "    <tr>\n",
       "      <th>764</th>\n",
       "      <td>746</td>\n",
       "      <td>None</td>\n",
       "    </tr>\n",
       "    <tr>\n",
       "      <th>765</th>\n",
       "      <td>747</td>\n",
       "      <td>None</td>\n",
       "    </tr>\n",
       "    <tr>\n",
       "      <th>766</th>\n",
       "      <td>748</td>\n",
       "      <td>None</td>\n",
       "    </tr>\n",
       "    <tr>\n",
       "      <th>767</th>\n",
       "      <td>749</td>\n",
       "      <td>None</td>\n",
       "    </tr>\n",
       "    <tr>\n",
       "      <th>768</th>\n",
       "      <td>750</td>\n",
       "      <td>None</td>\n",
       "    </tr>\n",
       "  </tbody>\n",
       "</table>\n",
       "<p>769 rows × 2 columns</p>\n",
       "</div>"
      ],
      "text/plain": [
       "     index   q31\n",
       "0        0  None\n",
       "1        1  None\n",
       "2        2  None\n",
       "3        3  None\n",
       "4        4  None\n",
       "..     ...   ...\n",
       "764    746  None\n",
       "765    747  None\n",
       "766    748  None\n",
       "767    749  None\n",
       "768    750  None\n",
       "\n",
       "[769 rows x 2 columns]"
      ]
     },
     "execution_count": 138,
     "metadata": {},
     "output_type": "execute_result"
    }
   ],
   "source": [
    "df_31_explode = df_q31['q31'].explode().reset_index()\n",
    "df_31_explode"
   ]
  },
  {
   "cell_type": "code",
   "execution_count": 139,
   "metadata": {},
   "outputs": [],
   "source": [
    "df_31_explode=df_31_explode.fillna('ninguno')"
   ]
  },
  {
   "cell_type": "code",
   "execution_count": 140,
   "metadata": {},
   "outputs": [
    {
     "data": {
      "text/plain": [
       "q31\n",
       "                                    16\n",
       " Amazon SageMaker                   16\n",
       " Azure Machine Learning Studio       2\n",
       "ninguno                            735\n",
       "dtype: int64"
      ]
     },
     "execution_count": 140,
     "metadata": {},
     "output_type": "execute_result"
    }
   ],
   "source": [
    "df_31_gp = df_31_explode.groupby('q31').size()\n",
    "df_31_gp"
   ]
  },
  {
   "cell_type": "code",
   "execution_count": 141,
   "metadata": {},
   "outputs": [
    {
     "data": {
      "text/html": [
       "<div>\n",
       "<style scoped>\n",
       "    .dataframe tbody tr th:only-of-type {\n",
       "        vertical-align: middle;\n",
       "    }\n",
       "\n",
       "    .dataframe tbody tr th {\n",
       "        vertical-align: top;\n",
       "    }\n",
       "\n",
       "    .dataframe thead th {\n",
       "        text-align: right;\n",
       "    }\n",
       "</style>\n",
       "<table border=\"1\" class=\"dataframe\">\n",
       "  <thead>\n",
       "    <tr style=\"text-align: right;\">\n",
       "      <th></th>\n",
       "      <th>q31</th>\n",
       "      <th>count</th>\n",
       "    </tr>\n",
       "  </thead>\n",
       "  <tbody>\n",
       "    <tr>\n",
       "      <th>1</th>\n",
       "      <td>Amazon SageMaker</td>\n",
       "      <td>16</td>\n",
       "    </tr>\n",
       "    <tr>\n",
       "      <th>2</th>\n",
       "      <td>Azure Machine Learning Studio</td>\n",
       "      <td>2</td>\n",
       "    </tr>\n",
       "    <tr>\n",
       "      <th>3</th>\n",
       "      <td>ninguno</td>\n",
       "      <td>735</td>\n",
       "    </tr>\n",
       "  </tbody>\n",
       "</table>\n",
       "</div>"
      ],
      "text/plain": [
       "                               q31  count\n",
       "1                Amazon SageMaker      16\n",
       "2   Azure Machine Learning Studio       2\n",
       "3                          ninguno    735"
      ]
     },
     "execution_count": 141,
     "metadata": {},
     "output_type": "execute_result"
    }
   ],
   "source": [
    "df_31_gp= df_31_gp.reset_index(name='count')\n",
    "df_31_gp.drop(0, axis= 0,inplace=True)\n",
    "df_31_gp"
   ]
  },
  {
   "cell_type": "code",
   "execution_count": 142,
   "metadata": {},
   "outputs": [
    {
     "data": {
      "image/png": "[encoded data removed]",
      "text/plain": [
       "<Figure size 1440x720 with 1 Axes>"
      ]
     },
     "metadata": {
      "needs_background": "light"
     },
     "output_type": "display_data"
    }
   ],
   "source": [
    "plt.figure(figsize=(20,10))\n",
    "sns.barplot(x ='count', y = 'q31', data=df_31_gp)\n",
    "plt.title('Productos de machine learning')\n",
    "fig.set(ylabel='Productos', xlabel= 'Conteo')\n",
    "plt.xticks(rotation = 45);"
   ]
  },
  {
   "cell_type": "markdown",
   "metadata": {},
   "source": [
    "# q33\n",
    "    Which of the following big data products (relational database, data warehouse, data lake, or similar)\n",
    "do you use most often?\n",
    "    Question 33 (which specific product) was only asked to respondents that selected more than one choice\n",
    "for Question 32-A (which of the following products)"
   ]
  },
  {
   "cell_type": "code",
   "execution_count": 143,
   "metadata": {},
   "outputs": [
    {
     "data": {
      "text/html": [
       "<div>\n",
       "<style scoped>\n",
       "    .dataframe tbody tr th:only-of-type {\n",
       "        vertical-align: middle;\n",
       "    }\n",
       "\n",
       "    .dataframe tbody tr th {\n",
       "        vertical-align: top;\n",
       "    }\n",
       "\n",
       "    .dataframe thead th {\n",
       "        text-align: right;\n",
       "    }\n",
       "</style>\n",
       "<table border=\"1\" class=\"dataframe\">\n",
       "  <thead>\n",
       "    <tr style=\"text-align: right;\">\n",
       "      <th></th>\n",
       "      <th>index</th>\n",
       "      <th>q33</th>\n",
       "    </tr>\n",
       "  </thead>\n",
       "  <tbody>\n",
       "    <tr>\n",
       "      <th>0</th>\n",
       "      <td>32</td>\n",
       "      <td>NaN</td>\n",
       "    </tr>\n",
       "    <tr>\n",
       "      <th>1</th>\n",
       "      <td>46</td>\n",
       "      <td>NaN</td>\n",
       "    </tr>\n",
       "    <tr>\n",
       "      <th>2</th>\n",
       "      <td>66</td>\n",
       "      <td>NaN</td>\n",
       "    </tr>\n",
       "    <tr>\n",
       "      <th>3</th>\n",
       "      <td>102</td>\n",
       "      <td>NaN</td>\n",
       "    </tr>\n",
       "    <tr>\n",
       "      <th>4</th>\n",
       "      <td>108</td>\n",
       "      <td>NaN</td>\n",
       "    </tr>\n",
       "    <tr>\n",
       "      <th>...</th>\n",
       "      <td>...</td>\n",
       "      <td>...</td>\n",
       "    </tr>\n",
       "    <tr>\n",
       "      <th>746</th>\n",
       "      <td>25811</td>\n",
       "      <td>NaN</td>\n",
       "    </tr>\n",
       "    <tr>\n",
       "      <th>747</th>\n",
       "      <td>25819</td>\n",
       "      <td>NaN</td>\n",
       "    </tr>\n",
       "    <tr>\n",
       "      <th>748</th>\n",
       "      <td>25909</td>\n",
       "      <td>NaN</td>\n",
       "    </tr>\n",
       "    <tr>\n",
       "      <th>749</th>\n",
       "      <td>25916</td>\n",
       "      <td>NaN</td>\n",
       "    </tr>\n",
       "    <tr>\n",
       "      <th>750</th>\n",
       "      <td>25954</td>\n",
       "      <td>NaN</td>\n",
       "    </tr>\n",
       "  </tbody>\n",
       "</table>\n",
       "<p>751 rows × 2 columns</p>\n",
       "</div>"
      ],
      "text/plain": [
       "     index  q33\n",
       "0       32  NaN\n",
       "1       46  NaN\n",
       "2       66  NaN\n",
       "3      102  NaN\n",
       "4      108  NaN\n",
       "..     ...  ...\n",
       "746  25811  NaN\n",
       "747  25819  NaN\n",
       "748  25909  NaN\n",
       "749  25916  NaN\n",
       "750  25954  NaN\n",
       "\n",
       "[751 rows x 2 columns]"
      ]
     },
     "execution_count": 143,
     "metadata": {},
     "output_type": "execute_result"
    }
   ],
   "source": [
    "df_q33=df['q33'].reset_index()\n",
    "df_q33"
   ]
  },
  {
   "cell_type": "code",
   "execution_count": null,
   "metadata": {},
   "outputs": [],
   "source": []
  },
  {
   "cell_type": "code",
   "execution_count": 144,
   "metadata": {},
   "outputs": [],
   "source": [
    "df_q33['q33'] = df_q33['q33'].apply(quitar_comillas)"
   ]
  },
  {
   "cell_type": "code",
   "execution_count": 145,
   "metadata": {},
   "outputs": [],
   "source": [
    "df_q33_explode = df_q33['q33'].explode().reset_index()"
   ]
  },
  {
   "cell_type": "code",
   "execution_count": 146,
   "metadata": {},
   "outputs": [
    {
     "data": {
      "text/plain": [
       "array([None, 'Google Cloud BigQuery ', 'Microsoft Azure SQL Database ',\n",
       "       'Microsoft SQL Server ', 'MySQL ', 'SQLite ', 'Google Cloud SQL ',\n",
       "       'MongoDB ', 'Google Cloud Spanner ', 'Oracle Database ',\n",
       "       'Microsoft Azure Cosmos DB ', 'Google Cloud Firestore ',\n",
       "       'Google Cloud BigTable ', 'PostgreSQL ', 'Amazon Redshift ',\n",
       "       'Amazon DynamoDB ', 'IBM Db2 '], dtype=object)"
      ]
     },
     "execution_count": 146,
     "metadata": {},
     "output_type": "execute_result"
    }
   ],
   "source": [
    "df_q33_explode['q33'].unique()"
   ]
  },
  {
   "cell_type": "code",
   "execution_count": 147,
   "metadata": {},
   "outputs": [],
   "source": [
    "df_q33_explode=df_q33_explode.fillna('ninguno')"
   ]
  },
  {
   "cell_type": "code",
   "execution_count": 148,
   "metadata": {},
   "outputs": [],
   "source": [
    "gb_q33 = df_q33_explode.groupby('q33').size()"
   ]
  },
  {
   "cell_type": "code",
   "execution_count": 149,
   "metadata": {},
   "outputs": [],
   "source": [
    "df_q33 = gb_q33.reset_index(name='count')"
   ]
  },
  {
   "cell_type": "code",
   "execution_count": 150,
   "metadata": {},
   "outputs": [
    {
     "data": {
      "text/html": [
       "<div>\n",
       "<style scoped>\n",
       "    .dataframe tbody tr th:only-of-type {\n",
       "        vertical-align: middle;\n",
       "    }\n",
       "\n",
       "    .dataframe tbody tr th {\n",
       "        vertical-align: top;\n",
       "    }\n",
       "\n",
       "    .dataframe thead th {\n",
       "        text-align: right;\n",
       "    }\n",
       "</style>\n",
       "<table border=\"1\" class=\"dataframe\">\n",
       "  <thead>\n",
       "    <tr style=\"text-align: right;\">\n",
       "      <th></th>\n",
       "      <th>q33</th>\n",
       "      <th>count</th>\n",
       "    </tr>\n",
       "  </thead>\n",
       "  <tbody>\n",
       "    <tr>\n",
       "      <th>0</th>\n",
       "      <td>Amazon DynamoDB</td>\n",
       "      <td>1</td>\n",
       "    </tr>\n",
       "    <tr>\n",
       "      <th>1</th>\n",
       "      <td>Amazon Redshift</td>\n",
       "      <td>1</td>\n",
       "    </tr>\n",
       "    <tr>\n",
       "      <th>2</th>\n",
       "      <td>Google Cloud BigQuery</td>\n",
       "      <td>16</td>\n",
       "    </tr>\n",
       "    <tr>\n",
       "      <th>3</th>\n",
       "      <td>Google Cloud BigTable</td>\n",
       "      <td>2</td>\n",
       "    </tr>\n",
       "    <tr>\n",
       "      <th>4</th>\n",
       "      <td>Google Cloud Firestore</td>\n",
       "      <td>3</td>\n",
       "    </tr>\n",
       "    <tr>\n",
       "      <th>5</th>\n",
       "      <td>Google Cloud SQL</td>\n",
       "      <td>5</td>\n",
       "    </tr>\n",
       "    <tr>\n",
       "      <th>6</th>\n",
       "      <td>Google Cloud Spanner</td>\n",
       "      <td>2</td>\n",
       "    </tr>\n",
       "    <tr>\n",
       "      <th>7</th>\n",
       "      <td>IBM Db2</td>\n",
       "      <td>1</td>\n",
       "    </tr>\n",
       "    <tr>\n",
       "      <th>8</th>\n",
       "      <td>Microsoft Azure Cosmos DB</td>\n",
       "      <td>3</td>\n",
       "    </tr>\n",
       "    <tr>\n",
       "      <th>9</th>\n",
       "      <td>Microsoft Azure SQL Database</td>\n",
       "      <td>6</td>\n",
       "    </tr>\n",
       "    <tr>\n",
       "      <th>10</th>\n",
       "      <td>Microsoft SQL Server</td>\n",
       "      <td>20</td>\n",
       "    </tr>\n",
       "    <tr>\n",
       "      <th>11</th>\n",
       "      <td>MongoDB</td>\n",
       "      <td>4</td>\n",
       "    </tr>\n",
       "    <tr>\n",
       "      <th>12</th>\n",
       "      <td>MySQL</td>\n",
       "      <td>36</td>\n",
       "    </tr>\n",
       "    <tr>\n",
       "      <th>13</th>\n",
       "      <td>Oracle Database</td>\n",
       "      <td>6</td>\n",
       "    </tr>\n",
       "    <tr>\n",
       "      <th>14</th>\n",
       "      <td>PostgreSQL</td>\n",
       "      <td>11</td>\n",
       "    </tr>\n",
       "    <tr>\n",
       "      <th>15</th>\n",
       "      <td>SQLite</td>\n",
       "      <td>6</td>\n",
       "    </tr>\n",
       "    <tr>\n",
       "      <th>16</th>\n",
       "      <td>ninguno</td>\n",
       "      <td>628</td>\n",
       "    </tr>\n",
       "  </tbody>\n",
       "</table>\n",
       "</div>"
      ],
      "text/plain": [
       "                              q33  count\n",
       "0                Amazon DynamoDB       1\n",
       "1                Amazon Redshift       1\n",
       "2          Google Cloud BigQuery      16\n",
       "3          Google Cloud BigTable       2\n",
       "4         Google Cloud Firestore       3\n",
       "5               Google Cloud SQL       5\n",
       "6           Google Cloud Spanner       2\n",
       "7                        IBM Db2       1\n",
       "8      Microsoft Azure Cosmos DB       3\n",
       "9   Microsoft Azure SQL Database       6\n",
       "10          Microsoft SQL Server      20\n",
       "11                       MongoDB       4\n",
       "12                         MySQL      36\n",
       "13               Oracle Database       6\n",
       "14                    PostgreSQL      11\n",
       "15                        SQLite       6\n",
       "16                        ninguno    628"
      ]
     },
     "execution_count": 150,
     "metadata": {},
     "output_type": "execute_result"
    }
   ],
   "source": [
    "df_q33"
   ]
  },
  {
   "cell_type": "code",
   "execution_count": 151,
   "metadata": {},
   "outputs": [],
   "source": [
    "df_q33.drop(0, axis= 0,inplace=True)"
   ]
  },
  {
   "cell_type": "code",
   "execution_count": 152,
   "metadata": {},
   "outputs": [
    {
     "data": {
      "image/png": "[encoded data removed]",
      "text/plain": [
       "<Figure size 1440x720 with 1 Axes>"
      ]
     },
     "metadata": {
      "needs_background": "light"
     },
     "output_type": "display_data"
    }
   ],
   "source": [
    "plt.figure(figsize=(20,10))\n",
    "sns.barplot(x ='count', y = 'q33', data=df_q33)\n",
    "plt.title('Productos de Big Data')\n",
    "fig.set(ylabel='Productos', xlabel= 'Conteo')\n",
    "plt.xticks(rotation = 45);"
   ]
  },
  {
   "cell_type": "markdown",
   "metadata": {},
   "source": [
    "# q36\n",
    "- Do you use any automated machine learning tools (or partial AutoML tools) on a regular basis?"
   ]
  },
  {
   "cell_type": "code",
   "execution_count": 153,
   "metadata": {},
   "outputs": [
    {
     "data": {
      "text/html": [
       "<div>\n",
       "<style scoped>\n",
       "    .dataframe tbody tr th:only-of-type {\n",
       "        vertical-align: middle;\n",
       "    }\n",
       "\n",
       "    .dataframe tbody tr th {\n",
       "        vertical-align: top;\n",
       "    }\n",
       "\n",
       "    .dataframe thead th {\n",
       "        text-align: right;\n",
       "    }\n",
       "</style>\n",
       "<table border=\"1\" class=\"dataframe\">\n",
       "  <thead>\n",
       "    <tr style=\"text-align: right;\">\n",
       "      <th></th>\n",
       "      <th>index</th>\n",
       "      <th>q36</th>\n",
       "    </tr>\n",
       "  </thead>\n",
       "  <tbody>\n",
       "    <tr>\n",
       "      <th>0</th>\n",
       "      <td>32</td>\n",
       "      <td>NaN</td>\n",
       "    </tr>\n",
       "    <tr>\n",
       "      <th>1</th>\n",
       "      <td>46</td>\n",
       "      <td>NaN</td>\n",
       "    </tr>\n",
       "    <tr>\n",
       "      <th>2</th>\n",
       "      <td>66</td>\n",
       "      <td>NaN</td>\n",
       "    </tr>\n",
       "    <tr>\n",
       "      <th>3</th>\n",
       "      <td>102</td>\n",
       "      <td>NaN</td>\n",
       "    </tr>\n",
       "    <tr>\n",
       "      <th>4</th>\n",
       "      <td>108</td>\n",
       "      <td>NaN</td>\n",
       "    </tr>\n",
       "    <tr>\n",
       "      <th>...</th>\n",
       "      <td>...</td>\n",
       "      <td>...</td>\n",
       "    </tr>\n",
       "    <tr>\n",
       "      <th>746</th>\n",
       "      <td>25811</td>\n",
       "      <td>NaN</td>\n",
       "    </tr>\n",
       "    <tr>\n",
       "      <th>747</th>\n",
       "      <td>25819</td>\n",
       "      <td>NaN</td>\n",
       "    </tr>\n",
       "    <tr>\n",
       "      <th>748</th>\n",
       "      <td>25909</td>\n",
       "      <td>NaN</td>\n",
       "    </tr>\n",
       "    <tr>\n",
       "      <th>749</th>\n",
       "      <td>25916</td>\n",
       "      <td>NaN</td>\n",
       "    </tr>\n",
       "    <tr>\n",
       "      <th>750</th>\n",
       "      <td>25954</td>\n",
       "      <td>NaN</td>\n",
       "    </tr>\n",
       "  </tbody>\n",
       "</table>\n",
       "<p>751 rows × 2 columns</p>\n",
       "</div>"
      ],
      "text/plain": [
       "     index  q36\n",
       "0       32  NaN\n",
       "1       46  NaN\n",
       "2       66  NaN\n",
       "3      102  NaN\n",
       "4      108  NaN\n",
       "..     ...  ...\n",
       "746  25811  NaN\n",
       "747  25819  NaN\n",
       "748  25909  NaN\n",
       "749  25916  NaN\n",
       "750  25954  NaN\n",
       "\n",
       "[751 rows x 2 columns]"
      ]
     },
     "execution_count": 153,
     "metadata": {},
     "output_type": "execute_result"
    }
   ],
   "source": [
    "df_q36=df['q36'].reset_index()\n",
    "df_q36"
   ]
  },
  {
   "cell_type": "code",
   "execution_count": 154,
   "metadata": {},
   "outputs": [],
   "source": [
    "df_q36['q36'] = df_q36['q36'].apply(quitar_comillas)"
   ]
  },
  {
   "cell_type": "code",
   "execution_count": 155,
   "metadata": {},
   "outputs": [],
   "source": [
    "df_q36_explode = df_q36['q36'].explode().reset_index()"
   ]
  },
  {
   "cell_type": "code",
   "execution_count": 156,
   "metadata": {},
   "outputs": [],
   "source": [
    "df_q36_explode=df_q36_explode.fillna('ninguno')"
   ]
  },
  {
   "cell_type": "code",
   "execution_count": 157,
   "metadata": {},
   "outputs": [],
   "source": [
    "gb_q36 = df_q36_explode.groupby('q36').size() #aqui tenemos todos los espacios, que se tienen que desestimar \n",
    "#para la creacion de las graficas"
   ]
  },
  {
   "cell_type": "code",
   "execution_count": 158,
   "metadata": {},
   "outputs": [],
   "source": [
    "df_q36 = gb_q36.reset_index(name='count')"
   ]
  },
  {
   "cell_type": "code",
   "execution_count": 159,
   "metadata": {},
   "outputs": [
    {
     "data": {
      "text/html": [
       "<div>\n",
       "<style scoped>\n",
       "    .dataframe tbody tr th:only-of-type {\n",
       "        vertical-align: middle;\n",
       "    }\n",
       "\n",
       "    .dataframe tbody tr th {\n",
       "        vertical-align: top;\n",
       "    }\n",
       "\n",
       "    .dataframe thead th {\n",
       "        text-align: right;\n",
       "    }\n",
       "</style>\n",
       "<table border=\"1\" class=\"dataframe\">\n",
       "  <thead>\n",
       "    <tr style=\"text-align: right;\">\n",
       "      <th></th>\n",
       "      <th>q36</th>\n",
       "      <th>count</th>\n",
       "    </tr>\n",
       "  </thead>\n",
       "  <tbody>\n",
       "    <tr>\n",
       "      <th>0</th>\n",
       "      <td></td>\n",
       "      <td>26</td>\n",
       "    </tr>\n",
       "    <tr>\n",
       "      <th>1</th>\n",
       "      <td>Automated data augmentation (e.g. imgaug, albu...</td>\n",
       "      <td>26</td>\n",
       "    </tr>\n",
       "    <tr>\n",
       "      <th>2</th>\n",
       "      <td>Automated feature engineering/selection (e.g. ...</td>\n",
       "      <td>5</td>\n",
       "    </tr>\n",
       "    <tr>\n",
       "      <th>3</th>\n",
       "      <td>Automated hyperparameter tuning (e.g. hyperopt...</td>\n",
       "      <td>1</td>\n",
       "    </tr>\n",
       "    <tr>\n",
       "      <th>4</th>\n",
       "      <td>Automated model architecture searches (e.g. da...</td>\n",
       "      <td>1</td>\n",
       "    </tr>\n",
       "    <tr>\n",
       "      <th>5</th>\n",
       "      <td>Automated model selection (e.g. auto-sklearn, ...</td>\n",
       "      <td>1</td>\n",
       "    </tr>\n",
       "    <tr>\n",
       "      <th>6</th>\n",
       "      <td>Automation of full ML pipelines (e.g. Google A...</td>\n",
       "      <td>1</td>\n",
       "    </tr>\n",
       "    <tr>\n",
       "      <th>7</th>\n",
       "      <td>ninguno</td>\n",
       "      <td>725</td>\n",
       "    </tr>\n",
       "  </tbody>\n",
       "</table>\n",
       "</div>"
      ],
      "text/plain": [
       "                                                 q36  count\n",
       "0                                                        26\n",
       "1  Automated data augmentation (e.g. imgaug, albu...     26\n",
       "2  Automated feature engineering/selection (e.g. ...      5\n",
       "3  Automated hyperparameter tuning (e.g. hyperopt...      1\n",
       "4  Automated model architecture searches (e.g. da...      1\n",
       "5  Automated model selection (e.g. auto-sklearn, ...      1\n",
       "6  Automation of full ML pipelines (e.g. Google A...      1\n",
       "7                                            ninguno    725"
      ]
     },
     "execution_count": 159,
     "metadata": {},
     "output_type": "execute_result"
    }
   ],
   "source": [
    "df_q36"
   ]
  },
  {
   "cell_type": "code",
   "execution_count": 160,
   "metadata": {},
   "outputs": [],
   "source": [
    "df_q36.drop(0, axis= 0,inplace=True)"
   ]
  },
  {
   "cell_type": "code",
   "execution_count": 161,
   "metadata": {},
   "outputs": [
    {
     "data": {
      "image/png": "[encoded data removed]",
      "text/plain": [
       "<Figure size 1440x720 with 1 Axes>"
      ]
     },
     "metadata": {
      "needs_background": "light"
     },
     "output_type": "display_data"
    }
   ],
   "source": [
    "plt.figure(figsize=(20,10))\n",
    "sns.barplot(x ='count', y = 'q36', data=df_q36)\n",
    "plt.title('Procesos de AUTO ML')\n",
    "fig.set(ylabel='Procesos', xlabel= 'Conteo')\n",
    "plt.xticks(rotation = 45);"
   ]
  },
  {
   "cell_type": "markdown",
   "metadata": {},
   "source": [
    "# q37\n",
    "- Which of the following automated machine learning tools (or partial AutoML tools) do you use on a regular basis? (Select all that apply).\n",
    "\n",
    "- Question 37-A (which specific product) was only asked to respondents that answered affirmatively to  Question 36-A (which of the following categories of products)"
   ]
  },
  {
   "cell_type": "code",
   "execution_count": 162,
   "metadata": {},
   "outputs": [
    {
     "data": {
      "text/html": [
       "<div>\n",
       "<style scoped>\n",
       "    .dataframe tbody tr th:only-of-type {\n",
       "        vertical-align: middle;\n",
       "    }\n",
       "\n",
       "    .dataframe tbody tr th {\n",
       "        vertical-align: top;\n",
       "    }\n",
       "\n",
       "    .dataframe thead th {\n",
       "        text-align: right;\n",
       "    }\n",
       "</style>\n",
       "<table border=\"1\" class=\"dataframe\">\n",
       "  <thead>\n",
       "    <tr style=\"text-align: right;\">\n",
       "      <th></th>\n",
       "      <th>index</th>\n",
       "      <th>q37</th>\n",
       "    </tr>\n",
       "  </thead>\n",
       "  <tbody>\n",
       "    <tr>\n",
       "      <th>0</th>\n",
       "      <td>32</td>\n",
       "      <td>NaN</td>\n",
       "    </tr>\n",
       "    <tr>\n",
       "      <th>1</th>\n",
       "      <td>46</td>\n",
       "      <td>NaN</td>\n",
       "    </tr>\n",
       "    <tr>\n",
       "      <th>2</th>\n",
       "      <td>66</td>\n",
       "      <td>NaN</td>\n",
       "    </tr>\n",
       "    <tr>\n",
       "      <th>3</th>\n",
       "      <td>102</td>\n",
       "      <td>NaN</td>\n",
       "    </tr>\n",
       "    <tr>\n",
       "      <th>4</th>\n",
       "      <td>108</td>\n",
       "      <td>NaN</td>\n",
       "    </tr>\n",
       "    <tr>\n",
       "      <th>...</th>\n",
       "      <td>...</td>\n",
       "      <td>...</td>\n",
       "    </tr>\n",
       "    <tr>\n",
       "      <th>746</th>\n",
       "      <td>25811</td>\n",
       "      <td>NaN</td>\n",
       "    </tr>\n",
       "    <tr>\n",
       "      <th>747</th>\n",
       "      <td>25819</td>\n",
       "      <td>NaN</td>\n",
       "    </tr>\n",
       "    <tr>\n",
       "      <th>748</th>\n",
       "      <td>25909</td>\n",
       "      <td>NaN</td>\n",
       "    </tr>\n",
       "    <tr>\n",
       "      <th>749</th>\n",
       "      <td>25916</td>\n",
       "      <td>NaN</td>\n",
       "    </tr>\n",
       "    <tr>\n",
       "      <th>750</th>\n",
       "      <td>25954</td>\n",
       "      <td>NaN</td>\n",
       "    </tr>\n",
       "  </tbody>\n",
       "</table>\n",
       "<p>751 rows × 2 columns</p>\n",
       "</div>"
      ],
      "text/plain": [
       "     index  q37\n",
       "0       32  NaN\n",
       "1       46  NaN\n",
       "2       66  NaN\n",
       "3      102  NaN\n",
       "4      108  NaN\n",
       "..     ...  ...\n",
       "746  25811  NaN\n",
       "747  25819  NaN\n",
       "748  25909  NaN\n",
       "749  25916  NaN\n",
       "750  25954  NaN\n",
       "\n",
       "[751 rows x 2 columns]"
      ]
     },
     "execution_count": 162,
     "metadata": {},
     "output_type": "execute_result"
    }
   ],
   "source": [
    "df_q37=df['q37'].reset_index()\n",
    "df_q37"
   ]
  },
  {
   "cell_type": "code",
   "execution_count": 163,
   "metadata": {},
   "outputs": [],
   "source": [
    "df_q37['q37'] = df_q37['q37'].apply(quitar_comillas)"
   ]
  },
  {
   "cell_type": "code",
   "execution_count": 164,
   "metadata": {},
   "outputs": [],
   "source": [
    "df_q37_explode = df_q37['q37'].explode().reset_index()"
   ]
  },
  {
   "cell_type": "code",
   "execution_count": 165,
   "metadata": {},
   "outputs": [],
   "source": [
    "df_q37_explode=df_q37_explode.fillna('ninguno')"
   ]
  },
  {
   "cell_type": "code",
   "execution_count": 166,
   "metadata": {},
   "outputs": [],
   "source": [
    "gb_q37 = df_q37_explode.groupby('q37').size()"
   ]
  },
  {
   "cell_type": "code",
   "execution_count": 167,
   "metadata": {},
   "outputs": [],
   "source": [
    "df_q37 = gb_q37.reset_index(name='count')"
   ]
  },
  {
   "cell_type": "code",
   "execution_count": 168,
   "metadata": {},
   "outputs": [
    {
     "data": {
      "text/html": [
       "<div>\n",
       "<style scoped>\n",
       "    .dataframe tbody tr th:only-of-type {\n",
       "        vertical-align: middle;\n",
       "    }\n",
       "\n",
       "    .dataframe tbody tr th {\n",
       "        vertical-align: top;\n",
       "    }\n",
       "\n",
       "    .dataframe thead th {\n",
       "        text-align: right;\n",
       "    }\n",
       "</style>\n",
       "<table border=\"1\" class=\"dataframe\">\n",
       "  <thead>\n",
       "    <tr style=\"text-align: right;\">\n",
       "      <th></th>\n",
       "      <th>q37</th>\n",
       "      <th>count</th>\n",
       "    </tr>\n",
       "  </thead>\n",
       "  <tbody>\n",
       "    <tr>\n",
       "      <th>0</th>\n",
       "      <td></td>\n",
       "      <td>18</td>\n",
       "    </tr>\n",
       "    <tr>\n",
       "      <th>1</th>\n",
       "      <td>Google Cloud AutoML</td>\n",
       "      <td>18</td>\n",
       "    </tr>\n",
       "    <tr>\n",
       "      <th>2</th>\n",
       "      <td>ninguno</td>\n",
       "      <td>733</td>\n",
       "    </tr>\n",
       "  </tbody>\n",
       "</table>\n",
       "</div>"
      ],
      "text/plain": [
       "                     q37  count\n",
       "0                            18\n",
       "1   Google Cloud AutoML      18\n",
       "2                ninguno    733"
      ]
     },
     "execution_count": 168,
     "metadata": {},
     "output_type": "execute_result"
    }
   ],
   "source": [
    "df_q37"
   ]
  },
  {
   "cell_type": "code",
   "execution_count": 169,
   "metadata": {},
   "outputs": [],
   "source": [
    "df_q37.drop(0, axis= 0,inplace=True)"
   ]
  },
  {
   "cell_type": "code",
   "execution_count": 170,
   "metadata": {},
   "outputs": [
    {
     "data": {
      "image/png": "[encoded data removed]",
      "text/plain": [
       "<Figure size 1440x720 with 1 Axes>"
      ]
     },
     "metadata": {
      "needs_background": "light"
     },
     "output_type": "display_data"
    }
   ],
   "source": [
    "plt.figure(figsize=(20,10))\n",
    "sns.barplot(x ='count', y = 'q37', data=df_q37)\n",
    "plt.title('Herramientas de AML')\n",
    "fig.set(ylabel='Herramienta', xlabel= 'Conteo')\n",
    "plt.xticks(rotation = 45);"
   ]
  },
  {
   "cell_type": "markdown",
   "metadata": {},
   "source": [
    "# q38\n",
    "- Do you use any tools to help manage machine learning experiments? (Select all that apply)"
   ]
  },
  {
   "cell_type": "code",
   "execution_count": 171,
   "metadata": {},
   "outputs": [
    {
     "data": {
      "text/html": [
       "<div>\n",
       "<style scoped>\n",
       "    .dataframe tbody tr th:only-of-type {\n",
       "        vertical-align: middle;\n",
       "    }\n",
       "\n",
       "    .dataframe tbody tr th {\n",
       "        vertical-align: top;\n",
       "    }\n",
       "\n",
       "    .dataframe thead th {\n",
       "        text-align: right;\n",
       "    }\n",
       "</style>\n",
       "<table border=\"1\" class=\"dataframe\">\n",
       "  <thead>\n",
       "    <tr style=\"text-align: right;\">\n",
       "      <th></th>\n",
       "      <th>index</th>\n",
       "      <th>q38</th>\n",
       "    </tr>\n",
       "  </thead>\n",
       "  <tbody>\n",
       "    <tr>\n",
       "      <th>0</th>\n",
       "      <td>32</td>\n",
       "      <td>NaN</td>\n",
       "    </tr>\n",
       "    <tr>\n",
       "      <th>1</th>\n",
       "      <td>46</td>\n",
       "      <td>NaN</td>\n",
       "    </tr>\n",
       "    <tr>\n",
       "      <th>2</th>\n",
       "      <td>66</td>\n",
       "      <td>NaN</td>\n",
       "    </tr>\n",
       "    <tr>\n",
       "      <th>3</th>\n",
       "      <td>102</td>\n",
       "      <td>NaN</td>\n",
       "    </tr>\n",
       "    <tr>\n",
       "      <th>4</th>\n",
       "      <td>108</td>\n",
       "      <td>NaN</td>\n",
       "    </tr>\n",
       "    <tr>\n",
       "      <th>...</th>\n",
       "      <td>...</td>\n",
       "      <td>...</td>\n",
       "    </tr>\n",
       "    <tr>\n",
       "      <th>746</th>\n",
       "      <td>25811</td>\n",
       "      <td>NaN</td>\n",
       "    </tr>\n",
       "    <tr>\n",
       "      <th>747</th>\n",
       "      <td>25819</td>\n",
       "      <td>NaN</td>\n",
       "    </tr>\n",
       "    <tr>\n",
       "      <th>748</th>\n",
       "      <td>25909</td>\n",
       "      <td>NaN</td>\n",
       "    </tr>\n",
       "    <tr>\n",
       "      <th>749</th>\n",
       "      <td>25916</td>\n",
       "      <td>NaN</td>\n",
       "    </tr>\n",
       "    <tr>\n",
       "      <th>750</th>\n",
       "      <td>25954</td>\n",
       "      <td>NaN</td>\n",
       "    </tr>\n",
       "  </tbody>\n",
       "</table>\n",
       "<p>751 rows × 2 columns</p>\n",
       "</div>"
      ],
      "text/plain": [
       "     index  q38\n",
       "0       32  NaN\n",
       "1       46  NaN\n",
       "2       66  NaN\n",
       "3      102  NaN\n",
       "4      108  NaN\n",
       "..     ...  ...\n",
       "746  25811  NaN\n",
       "747  25819  NaN\n",
       "748  25909  NaN\n",
       "749  25916  NaN\n",
       "750  25954  NaN\n",
       "\n",
       "[751 rows x 2 columns]"
      ]
     },
     "execution_count": 171,
     "metadata": {},
     "output_type": "execute_result"
    }
   ],
   "source": [
    "df_q38=df['q38'].reset_index()\n",
    "df_q38"
   ]
  },
  {
   "cell_type": "code",
   "execution_count": 172,
   "metadata": {},
   "outputs": [],
   "source": [
    "df_q38['q38'] = df_q38['q38'].apply(quitar_comillas)"
   ]
  },
  {
   "cell_type": "code",
   "execution_count": 173,
   "metadata": {},
   "outputs": [],
   "source": [
    "df_q38_explode = df_q38['q38'].explode().reset_index()"
   ]
  },
  {
   "cell_type": "code",
   "execution_count": 174,
   "metadata": {},
   "outputs": [],
   "source": [
    "df_q38_explode=df_q38_explode.fillna('ninguno')"
   ]
  },
  {
   "cell_type": "code",
   "execution_count": 175,
   "metadata": {},
   "outputs": [],
   "source": [
    "gb_q38 = df_q38_explode.groupby('q38').size()"
   ]
  },
  {
   "cell_type": "code",
   "execution_count": 176,
   "metadata": {},
   "outputs": [],
   "source": [
    "df_q38 = gb_q38.reset_index(name='count')"
   ]
  },
  {
   "cell_type": "code",
   "execution_count": 177,
   "metadata": {},
   "outputs": [
    {
     "data": {
      "text/html": [
       "<div>\n",
       "<style scoped>\n",
       "    .dataframe tbody tr th:only-of-type {\n",
       "        vertical-align: middle;\n",
       "    }\n",
       "\n",
       "    .dataframe tbody tr th {\n",
       "        vertical-align: top;\n",
       "    }\n",
       "\n",
       "    .dataframe thead th {\n",
       "        text-align: right;\n",
       "    }\n",
       "</style>\n",
       "<table border=\"1\" class=\"dataframe\">\n",
       "  <thead>\n",
       "    <tr style=\"text-align: right;\">\n",
       "      <th></th>\n",
       "      <th>q38</th>\n",
       "      <th>count</th>\n",
       "    </tr>\n",
       "  </thead>\n",
       "  <tbody>\n",
       "    <tr>\n",
       "      <th>0</th>\n",
       "      <td></td>\n",
       "      <td>6</td>\n",
       "    </tr>\n",
       "    <tr>\n",
       "      <th>1</th>\n",
       "      <td>Neptune.ai</td>\n",
       "      <td>6</td>\n",
       "    </tr>\n",
       "    <tr>\n",
       "      <th>2</th>\n",
       "      <td>Weights &amp; Biases</td>\n",
       "      <td>2</td>\n",
       "    </tr>\n",
       "    <tr>\n",
       "      <th>3</th>\n",
       "      <td>ninguno</td>\n",
       "      <td>745</td>\n",
       "    </tr>\n",
       "  </tbody>\n",
       "</table>\n",
       "</div>"
      ],
      "text/plain": [
       "                  q38  count\n",
       "0                          6\n",
       "1         Neptune.ai       6\n",
       "2   Weights & Biases       2\n",
       "3             ninguno    745"
      ]
     },
     "execution_count": 177,
     "metadata": {},
     "output_type": "execute_result"
    }
   ],
   "source": [
    "df_q38"
   ]
  },
  {
   "cell_type": "code",
   "execution_count": 178,
   "metadata": {},
   "outputs": [],
   "source": [
    "df_q38.drop(0, axis= 0,inplace=True)"
   ]
  },
  {
   "cell_type": "code",
   "execution_count": 179,
   "metadata": {},
   "outputs": [
    {
     "data": {
      "image/png": "[encoded data removed]",
      "text/plain": [
       "<Figure size 1440x720 with 1 Axes>"
      ]
     },
     "metadata": {
      "needs_background": "light"
     },
     "output_type": "display_data"
    }
   ],
   "source": [
    "plt.figure(figsize=(20,10))\n",
    "sns.barplot(x ='count', y = 'q38', data=df_q38)\n",
    "plt.title('Herramientas de Gestion de ML')\n",
    "fig.set(ylabel='Herramienta', xlabel= 'Conteo')\n",
    "plt.xticks(rotation = 45);"
   ]
  },
  {
   "cell_type": "markdown",
   "metadata": {},
   "source": [
    "# q39"
   ]
  },
  {
   "cell_type": "code",
   "execution_count": 180,
   "metadata": {},
   "outputs": [
    {
     "data": {
      "text/html": [
       "<div>\n",
       "<style scoped>\n",
       "    .dataframe tbody tr th:only-of-type {\n",
       "        vertical-align: middle;\n",
       "    }\n",
       "\n",
       "    .dataframe tbody tr th {\n",
       "        vertical-align: top;\n",
       "    }\n",
       "\n",
       "    .dataframe thead th {\n",
       "        text-align: right;\n",
       "    }\n",
       "</style>\n",
       "<table border=\"1\" class=\"dataframe\">\n",
       "  <thead>\n",
       "    <tr style=\"text-align: right;\">\n",
       "      <th></th>\n",
       "      <th>index</th>\n",
       "      <th>q39</th>\n",
       "    </tr>\n",
       "  </thead>\n",
       "  <tbody>\n",
       "    <tr>\n",
       "      <th>0</th>\n",
       "      <td>32</td>\n",
       "      <td>NaN</td>\n",
       "    </tr>\n",
       "    <tr>\n",
       "      <th>1</th>\n",
       "      <td>46</td>\n",
       "      <td>NaN</td>\n",
       "    </tr>\n",
       "    <tr>\n",
       "      <th>2</th>\n",
       "      <td>66</td>\n",
       "      <td>NaN</td>\n",
       "    </tr>\n",
       "    <tr>\n",
       "      <th>3</th>\n",
       "      <td>102</td>\n",
       "      <td>NaN</td>\n",
       "    </tr>\n",
       "    <tr>\n",
       "      <th>4</th>\n",
       "      <td>108</td>\n",
       "      <td>NaN</td>\n",
       "    </tr>\n",
       "    <tr>\n",
       "      <th>...</th>\n",
       "      <td>...</td>\n",
       "      <td>...</td>\n",
       "    </tr>\n",
       "    <tr>\n",
       "      <th>746</th>\n",
       "      <td>25811</td>\n",
       "      <td>NaN</td>\n",
       "    </tr>\n",
       "    <tr>\n",
       "      <th>747</th>\n",
       "      <td>25819</td>\n",
       "      <td>NaN</td>\n",
       "    </tr>\n",
       "    <tr>\n",
       "      <th>748</th>\n",
       "      <td>25909</td>\n",
       "      <td>NaN</td>\n",
       "    </tr>\n",
       "    <tr>\n",
       "      <th>749</th>\n",
       "      <td>25916</td>\n",
       "      <td>NaN</td>\n",
       "    </tr>\n",
       "    <tr>\n",
       "      <th>750</th>\n",
       "      <td>25954</td>\n",
       "      <td>NaN</td>\n",
       "    </tr>\n",
       "  </tbody>\n",
       "</table>\n",
       "<p>751 rows × 2 columns</p>\n",
       "</div>"
      ],
      "text/plain": [
       "     index  q39\n",
       "0       32  NaN\n",
       "1       46  NaN\n",
       "2       66  NaN\n",
       "3      102  NaN\n",
       "4      108  NaN\n",
       "..     ...  ...\n",
       "746  25811  NaN\n",
       "747  25819  NaN\n",
       "748  25909  NaN\n",
       "749  25916  NaN\n",
       "750  25954  NaN\n",
       "\n",
       "[751 rows x 2 columns]"
      ]
     },
     "execution_count": 180,
     "metadata": {},
     "output_type": "execute_result"
    }
   ],
   "source": [
    "df_q39=df['q39'].reset_index()\n",
    "df_q39"
   ]
  },
  {
   "cell_type": "code",
   "execution_count": 181,
   "metadata": {},
   "outputs": [],
   "source": [
    "df_q39['q39'] = df_q39['q39'].apply(quitar_comillas)"
   ]
  },
  {
   "cell_type": "code",
   "execution_count": 182,
   "metadata": {},
   "outputs": [],
   "source": [
    "df_39_explode = df_q39['q39'].explode().reset_index()"
   ]
  },
  {
   "cell_type": "code",
   "execution_count": 183,
   "metadata": {},
   "outputs": [],
   "source": [
    "df_39_explode=df_39_explode.fillna('ninguno')"
   ]
  },
  {
   "cell_type": "code",
   "execution_count": 184,
   "metadata": {},
   "outputs": [
    {
     "data": {
      "text/plain": [
       "array(['ninguno', ' Plotly Dash ', ''], dtype=object)"
      ]
     },
     "execution_count": 184,
     "metadata": {},
     "output_type": "execute_result"
    }
   ],
   "source": [
    "df_39_explode['q39'].unique()"
   ]
  },
  {
   "cell_type": "code",
   "execution_count": 185,
   "metadata": {},
   "outputs": [],
   "source": [
    "gb39 = df_39_explode.groupby('q39').size() #aqui tenemos todos los espacios, que se tienen que desestimar \n",
    "#para la creacion de las graficas"
   ]
  },
  {
   "cell_type": "code",
   "execution_count": 186,
   "metadata": {},
   "outputs": [],
   "source": [
    "df_q39 = gb39.reset_index(name='count')"
   ]
  },
  {
   "cell_type": "code",
   "execution_count": 187,
   "metadata": {},
   "outputs": [],
   "source": [
    "df_q39.drop(0, axis= 0,inplace=True)"
   ]
  },
  {
   "cell_type": "code",
   "execution_count": 188,
   "metadata": {},
   "outputs": [
    {
     "data": {
      "text/html": [
       "<div>\n",
       "<style scoped>\n",
       "    .dataframe tbody tr th:only-of-type {\n",
       "        vertical-align: middle;\n",
       "    }\n",
       "\n",
       "    .dataframe tbody tr th {\n",
       "        vertical-align: top;\n",
       "    }\n",
       "\n",
       "    .dataframe thead th {\n",
       "        text-align: right;\n",
       "    }\n",
       "</style>\n",
       "<table border=\"1\" class=\"dataframe\">\n",
       "  <thead>\n",
       "    <tr style=\"text-align: right;\">\n",
       "      <th></th>\n",
       "      <th>q39</th>\n",
       "      <th>count</th>\n",
       "    </tr>\n",
       "  </thead>\n",
       "  <tbody>\n",
       "    <tr>\n",
       "      <th>1</th>\n",
       "      <td>Plotly Dash</td>\n",
       "      <td>7</td>\n",
       "    </tr>\n",
       "    <tr>\n",
       "      <th>2</th>\n",
       "      <td>ninguno</td>\n",
       "      <td>744</td>\n",
       "    </tr>\n",
       "  </tbody>\n",
       "</table>\n",
       "</div>"
      ],
      "text/plain": [
       "             q39  count\n",
       "1   Plotly Dash       7\n",
       "2        ninguno    744"
      ]
     },
     "execution_count": 188,
     "metadata": {},
     "output_type": "execute_result"
    }
   ],
   "source": [
    "df_q39"
   ]
  },
  {
   "cell_type": "code",
   "execution_count": 189,
   "metadata": {},
   "outputs": [
    {
     "data": {
      "image/png": "[encoded data removed]",
      "text/plain": [
       "<Figure size 1440x720 with 1 Axes>"
      ]
     },
     "metadata": {
      "needs_background": "light"
     },
     "output_type": "display_data"
    }
   ],
   "source": [
    "plt.figure(figsize=(20,10))\n",
    "sns.barplot(x ='count', y = 'q39', data=df_q39)\n",
    "plt.title('Aplicaciones de publicacion')\n",
    "fig.set(ylabel='Aplicaciones', xlabel= 'Conteo')\n",
    "plt.xticks(rotation = 45);"
   ]
  },
  {
   "cell_type": "markdown",
   "metadata": {},
   "source": [
    "# q40"
   ]
  },
  {
   "cell_type": "code",
   "execution_count": 190,
   "metadata": {},
   "outputs": [
    {
     "data": {
      "text/html": [
       "<div>\n",
       "<style scoped>\n",
       "    .dataframe tbody tr th:only-of-type {\n",
       "        vertical-align: middle;\n",
       "    }\n",
       "\n",
       "    .dataframe tbody tr th {\n",
       "        vertical-align: top;\n",
       "    }\n",
       "\n",
       "    .dataframe thead th {\n",
       "        text-align: right;\n",
       "    }\n",
       "</style>\n",
       "<table border=\"1\" class=\"dataframe\">\n",
       "  <thead>\n",
       "    <tr style=\"text-align: right;\">\n",
       "      <th></th>\n",
       "      <th>index</th>\n",
       "      <th>q40</th>\n",
       "    </tr>\n",
       "  </thead>\n",
       "  <tbody>\n",
       "    <tr>\n",
       "      <th>0</th>\n",
       "      <td>32</td>\n",
       "      <td>NaN</td>\n",
       "    </tr>\n",
       "    <tr>\n",
       "      <th>1</th>\n",
       "      <td>46</td>\n",
       "      <td>Coursera?edX?Kaggle Learn Courses?</td>\n",
       "    </tr>\n",
       "    <tr>\n",
       "      <th>2</th>\n",
       "      <td>66</td>\n",
       "      <td>NaN</td>\n",
       "    </tr>\n",
       "    <tr>\n",
       "      <th>3</th>\n",
       "      <td>102</td>\n",
       "      <td>Coursera?</td>\n",
       "    </tr>\n",
       "    <tr>\n",
       "      <th>4</th>\n",
       "      <td>108</td>\n",
       "      <td>Coursera?</td>\n",
       "    </tr>\n",
       "    <tr>\n",
       "      <th>...</th>\n",
       "      <td>...</td>\n",
       "      <td>...</td>\n",
       "    </tr>\n",
       "    <tr>\n",
       "      <th>746</th>\n",
       "      <td>25811</td>\n",
       "      <td>Coursera?</td>\n",
       "    </tr>\n",
       "    <tr>\n",
       "      <th>747</th>\n",
       "      <td>25819</td>\n",
       "      <td>Coursera?</td>\n",
       "    </tr>\n",
       "    <tr>\n",
       "      <th>748</th>\n",
       "      <td>25909</td>\n",
       "      <td>NaN</td>\n",
       "    </tr>\n",
       "    <tr>\n",
       "      <th>749</th>\n",
       "      <td>25916</td>\n",
       "      <td>Coursera?</td>\n",
       "    </tr>\n",
       "    <tr>\n",
       "      <th>750</th>\n",
       "      <td>25954</td>\n",
       "      <td>Coursera?</td>\n",
       "    </tr>\n",
       "  </tbody>\n",
       "</table>\n",
       "<p>751 rows × 2 columns</p>\n",
       "</div>"
      ],
      "text/plain": [
       "     index                                 q40\n",
       "0       32                                 NaN\n",
       "1       46  Coursera?edX?Kaggle Learn Courses?\n",
       "2       66                                 NaN\n",
       "3      102                           Coursera?\n",
       "4      108                           Coursera?\n",
       "..     ...                                 ...\n",
       "746  25811                           Coursera?\n",
       "747  25819                           Coursera?\n",
       "748  25909                                 NaN\n",
       "749  25916                           Coursera?\n",
       "750  25954                           Coursera?\n",
       "\n",
       "[751 rows x 2 columns]"
      ]
     },
     "execution_count": 190,
     "metadata": {},
     "output_type": "execute_result"
    }
   ],
   "source": [
    "df_q40=df['q40'].reset_index()\n",
    "df_q40"
   ]
  },
  {
   "cell_type": "code",
   "execution_count": 191,
   "metadata": {},
   "outputs": [],
   "source": [
    "df_q40['q40'] = df_q40['q40'].apply(quitar_comillas)"
   ]
  },
  {
   "cell_type": "code",
   "execution_count": 192,
   "metadata": {},
   "outputs": [],
   "source": [
    "df_40_explode = df_q40['q40'].explode().reset_index()"
   ]
  },
  {
   "cell_type": "code",
   "execution_count": 193,
   "metadata": {},
   "outputs": [],
   "source": [
    "df_40_explode=df_40_explode.fillna('ninguno')"
   ]
  },
  {
   "cell_type": "code",
   "execution_count": 194,
   "metadata": {},
   "outputs": [
    {
     "data": {
      "text/plain": [
       "array(['ninguno', 'Coursera', 'edX', 'Kaggle Learn Courses', '',\n",
       "       'DataCamp', 'Fast.ai', 'Udacity'], dtype=object)"
      ]
     },
     "execution_count": 194,
     "metadata": {},
     "output_type": "execute_result"
    }
   ],
   "source": [
    "df_40_explode['q40'].unique()"
   ]
  },
  {
   "cell_type": "code",
   "execution_count": 195,
   "metadata": {},
   "outputs": [],
   "source": [
    "gb40 = df_40_explode.groupby('q40').size() #aqui tenemos todos los espacios, que se tienen que desestimar \n",
    "#para la creacion de las graficas"
   ]
  },
  {
   "cell_type": "code",
   "execution_count": 196,
   "metadata": {},
   "outputs": [],
   "source": [
    "df_q40 = gb40.reset_index(name='count')"
   ]
  },
  {
   "cell_type": "code",
   "execution_count": 197,
   "metadata": {},
   "outputs": [],
   "source": [
    "df_q40.drop(0, axis= 0,inplace=True)"
   ]
  },
  {
   "cell_type": "code",
   "execution_count": 198,
   "metadata": {},
   "outputs": [
    {
     "data": {
      "text/html": [
       "<div>\n",
       "<style scoped>\n",
       "    .dataframe tbody tr th:only-of-type {\n",
       "        vertical-align: middle;\n",
       "    }\n",
       "\n",
       "    .dataframe tbody tr th {\n",
       "        vertical-align: top;\n",
       "    }\n",
       "\n",
       "    .dataframe thead th {\n",
       "        text-align: right;\n",
       "    }\n",
       "</style>\n",
       "<table border=\"1\" class=\"dataframe\">\n",
       "  <thead>\n",
       "    <tr style=\"text-align: right;\">\n",
       "      <th></th>\n",
       "      <th>q40</th>\n",
       "      <th>count</th>\n",
       "    </tr>\n",
       "  </thead>\n",
       "  <tbody>\n",
       "    <tr>\n",
       "      <th>1</th>\n",
       "      <td>Coursera</td>\n",
       "      <td>246</td>\n",
       "    </tr>\n",
       "    <tr>\n",
       "      <th>2</th>\n",
       "      <td>DataCamp</td>\n",
       "      <td>14</td>\n",
       "    </tr>\n",
       "    <tr>\n",
       "      <th>3</th>\n",
       "      <td>Fast.ai</td>\n",
       "      <td>1</td>\n",
       "    </tr>\n",
       "    <tr>\n",
       "      <th>4</th>\n",
       "      <td>Kaggle Learn Courses</td>\n",
       "      <td>32</td>\n",
       "    </tr>\n",
       "    <tr>\n",
       "      <th>5</th>\n",
       "      <td>Udacity</td>\n",
       "      <td>1</td>\n",
       "    </tr>\n",
       "    <tr>\n",
       "      <th>6</th>\n",
       "      <td>edX</td>\n",
       "      <td>57</td>\n",
       "    </tr>\n",
       "    <tr>\n",
       "      <th>7</th>\n",
       "      <td>ninguno</td>\n",
       "      <td>505</td>\n",
       "    </tr>\n",
       "  </tbody>\n",
       "</table>\n",
       "</div>"
      ],
      "text/plain": [
       "                    q40  count\n",
       "1              Coursera    246\n",
       "2              DataCamp     14\n",
       "3               Fast.ai      1\n",
       "4  Kaggle Learn Courses     32\n",
       "5               Udacity      1\n",
       "6                   edX     57\n",
       "7               ninguno    505"
      ]
     },
     "execution_count": 198,
     "metadata": {},
     "output_type": "execute_result"
    }
   ],
   "source": [
    "df_q40"
   ]
  },
  {
   "cell_type": "code",
   "execution_count": 199,
   "metadata": {},
   "outputs": [
    {
     "data": {
      "image/png": "[encoded data removed]",
      "text/plain": [
       "<Figure size 1440x720 with 1 Axes>"
      ]
     },
     "metadata": {
      "needs_background": "light"
     },
     "output_type": "display_data"
    }
   ],
   "source": [
    "plt.figure(figsize=(20,10))\n",
    "sns.barplot(x ='count', y = 'q40', data=df_q40)\n",
    "plt.title('Plataformas de cursos de DS')\n",
    "fig.set(ylabel='Plataformas', xlabel= 'Conteo')\n",
    "plt.xticks(rotation = 45);"
   ]
  },
  {
   "cell_type": "markdown",
   "metadata": {},
   "source": [
    "# q42"
   ]
  },
  {
   "cell_type": "code",
   "execution_count": 200,
   "metadata": {},
   "outputs": [
    {
     "data": {
      "text/html": [
       "<div>\n",
       "<style scoped>\n",
       "    .dataframe tbody tr th:only-of-type {\n",
       "        vertical-align: middle;\n",
       "    }\n",
       "\n",
       "    .dataframe tbody tr th {\n",
       "        vertical-align: top;\n",
       "    }\n",
       "\n",
       "    .dataframe thead th {\n",
       "        text-align: right;\n",
       "    }\n",
       "</style>\n",
       "<table border=\"1\" class=\"dataframe\">\n",
       "  <thead>\n",
       "    <tr style=\"text-align: right;\">\n",
       "      <th></th>\n",
       "      <th>index</th>\n",
       "      <th>q42</th>\n",
       "    </tr>\n",
       "  </thead>\n",
       "  <tbody>\n",
       "    <tr>\n",
       "      <th>0</th>\n",
       "      <td>32</td>\n",
       "      <td>NaN</td>\n",
       "    </tr>\n",
       "    <tr>\n",
       "      <th>1</th>\n",
       "      <td>46</td>\n",
       "      <td>Twitter (data science influencers)?</td>\n",
       "    </tr>\n",
       "    <tr>\n",
       "      <th>2</th>\n",
       "      <td>66</td>\n",
       "      <td>NaN</td>\n",
       "    </tr>\n",
       "    <tr>\n",
       "      <th>3</th>\n",
       "      <td>102</td>\n",
       "      <td>NaN</td>\n",
       "    </tr>\n",
       "    <tr>\n",
       "      <th>4</th>\n",
       "      <td>108</td>\n",
       "      <td>NaN</td>\n",
       "    </tr>\n",
       "    <tr>\n",
       "      <th>...</th>\n",
       "      <td>...</td>\n",
       "      <td>...</td>\n",
       "    </tr>\n",
       "    <tr>\n",
       "      <th>746</th>\n",
       "      <td>25811</td>\n",
       "      <td>Twitter (data science influencers)?Email newsl...</td>\n",
       "    </tr>\n",
       "    <tr>\n",
       "      <th>747</th>\n",
       "      <td>25819</td>\n",
       "      <td>NaN</td>\n",
       "    </tr>\n",
       "    <tr>\n",
       "      <th>748</th>\n",
       "      <td>25909</td>\n",
       "      <td>NaN</td>\n",
       "    </tr>\n",
       "    <tr>\n",
       "      <th>749</th>\n",
       "      <td>25916</td>\n",
       "      <td>NaN</td>\n",
       "    </tr>\n",
       "    <tr>\n",
       "      <th>750</th>\n",
       "      <td>25954</td>\n",
       "      <td>NaN</td>\n",
       "    </tr>\n",
       "  </tbody>\n",
       "</table>\n",
       "<p>751 rows × 2 columns</p>\n",
       "</div>"
      ],
      "text/plain": [
       "     index                                                q42\n",
       "0       32                                                NaN\n",
       "1       46                Twitter (data science influencers)?\n",
       "2       66                                                NaN\n",
       "3      102                                                NaN\n",
       "4      108                                                NaN\n",
       "..     ...                                                ...\n",
       "746  25811  Twitter (data science influencers)?Email newsl...\n",
       "747  25819                                                NaN\n",
       "748  25909                                                NaN\n",
       "749  25916                                                NaN\n",
       "750  25954                                                NaN\n",
       "\n",
       "[751 rows x 2 columns]"
      ]
     },
     "execution_count": 200,
     "metadata": {},
     "output_type": "execute_result"
    }
   ],
   "source": [
    "df_q42=df['q42'].reset_index()\n",
    "df_q42"
   ]
  },
  {
   "cell_type": "code",
   "execution_count": 201,
   "metadata": {},
   "outputs": [],
   "source": [
    "df_q42['q42'] = df_q42['q42'].apply(quitar_comillas)"
   ]
  },
  {
   "cell_type": "code",
   "execution_count": 202,
   "metadata": {},
   "outputs": [],
   "source": [
    "df_42_explode = df_q42['q42'].explode().reset_index()"
   ]
  },
  {
   "cell_type": "code",
   "execution_count": 203,
   "metadata": {},
   "outputs": [],
   "source": [
    "df_42_explode=df_42_explode.fillna('ninguno')"
   ]
  },
  {
   "cell_type": "code",
   "execution_count": 204,
   "metadata": {},
   "outputs": [
    {
     "data": {
      "text/plain": [
       "array(['ninguno', 'Twitter (data science influencers)', '',\n",
       "       \"Email newsletters (Data Elixir, O'Reilly Data & AI, etc)\",\n",
       "       'Reddit (r/machinelearning, etc)',\n",
       "       'Kaggle (notebooks, forums, etc)',\n",
       "       'Course Forums (forums.fast.ai, Coursera forums, etc)',\n",
       "       'YouTube (Kaggle YouTube, Cloud AI Adventures, etc)',\n",
       "       'Podcasts (Chai Time Data Science, O’Reilly Data Show, etc)',\n",
       "       'Blogs (Towards Data Science, Analytics Vidhya, etc)',\n",
       "       'Journal Publications (peer-reviewed journals, conference proceedings, etc)',\n",
       "       'Slack Communities (ods.ai, kagglenoobs, etc)'], dtype=object)"
      ]
     },
     "execution_count": 204,
     "metadata": {},
     "output_type": "execute_result"
    }
   ],
   "source": [
    "df_42_explode['q42'].unique()"
   ]
  },
  {
   "cell_type": "code",
   "execution_count": 205,
   "metadata": {},
   "outputs": [],
   "source": [
    "gb42 = df_42_explode.groupby('q42').size() #aqui tenemos todos los espacios, que se tienen que desestimar \n",
    "#para la creacion de las graficas"
   ]
  },
  {
   "cell_type": "code",
   "execution_count": 206,
   "metadata": {},
   "outputs": [],
   "source": [
    "df_q42 = gb42.reset_index(name='count')"
   ]
  },
  {
   "cell_type": "code",
   "execution_count": 207,
   "metadata": {},
   "outputs": [],
   "source": [
    "df_q42.drop(0, axis= 0,inplace=True)"
   ]
  },
  {
   "cell_type": "code",
   "execution_count": 208,
   "metadata": {},
   "outputs": [
    {
     "data": {
      "text/html": [
       "<div>\n",
       "<style scoped>\n",
       "    .dataframe tbody tr th:only-of-type {\n",
       "        vertical-align: middle;\n",
       "    }\n",
       "\n",
       "    .dataframe tbody tr th {\n",
       "        vertical-align: top;\n",
       "    }\n",
       "\n",
       "    .dataframe thead th {\n",
       "        text-align: right;\n",
       "    }\n",
       "</style>\n",
       "<table border=\"1\" class=\"dataframe\">\n",
       "  <thead>\n",
       "    <tr style=\"text-align: right;\">\n",
       "      <th></th>\n",
       "      <th>q42</th>\n",
       "      <th>count</th>\n",
       "    </tr>\n",
       "  </thead>\n",
       "  <tbody>\n",
       "    <tr>\n",
       "      <th>1</th>\n",
       "      <td>Blogs (Towards Data Science, Analytics Vidhya,...</td>\n",
       "      <td>2</td>\n",
       "    </tr>\n",
       "    <tr>\n",
       "      <th>2</th>\n",
       "      <td>Course Forums (forums.fast.ai, Coursera forums...</td>\n",
       "      <td>3</td>\n",
       "    </tr>\n",
       "    <tr>\n",
       "      <th>3</th>\n",
       "      <td>Email newsletters (Data Elixir, O'Reilly Data ...</td>\n",
       "      <td>20</td>\n",
       "    </tr>\n",
       "    <tr>\n",
       "      <th>4</th>\n",
       "      <td>Journal Publications (peer-reviewed journals, ...</td>\n",
       "      <td>1</td>\n",
       "    </tr>\n",
       "    <tr>\n",
       "      <th>5</th>\n",
       "      <td>Kaggle (notebooks, forums, etc)</td>\n",
       "      <td>3</td>\n",
       "    </tr>\n",
       "    <tr>\n",
       "      <th>6</th>\n",
       "      <td>Podcasts (Chai Time Data Science, O’Reilly Dat...</td>\n",
       "      <td>2</td>\n",
       "    </tr>\n",
       "    <tr>\n",
       "      <th>7</th>\n",
       "      <td>Reddit (r/machinelearning, etc)</td>\n",
       "      <td>4</td>\n",
       "    </tr>\n",
       "    <tr>\n",
       "      <th>8</th>\n",
       "      <td>Slack Communities (ods.ai, kagglenoobs, etc)</td>\n",
       "      <td>1</td>\n",
       "    </tr>\n",
       "    <tr>\n",
       "      <th>9</th>\n",
       "      <td>Twitter (data science influencers)</td>\n",
       "      <td>81</td>\n",
       "    </tr>\n",
       "    <tr>\n",
       "      <th>10</th>\n",
       "      <td>YouTube (Kaggle YouTube, Cloud AI Adventures, ...</td>\n",
       "      <td>3</td>\n",
       "    </tr>\n",
       "    <tr>\n",
       "      <th>11</th>\n",
       "      <td>ninguno</td>\n",
       "      <td>670</td>\n",
       "    </tr>\n",
       "  </tbody>\n",
       "</table>\n",
       "</div>"
      ],
      "text/plain": [
       "                                                  q42  count\n",
       "1   Blogs (Towards Data Science, Analytics Vidhya,...      2\n",
       "2   Course Forums (forums.fast.ai, Coursera forums...      3\n",
       "3   Email newsletters (Data Elixir, O'Reilly Data ...     20\n",
       "4   Journal Publications (peer-reviewed journals, ...      1\n",
       "5                     Kaggle (notebooks, forums, etc)      3\n",
       "6   Podcasts (Chai Time Data Science, O’Reilly Dat...      2\n",
       "7                     Reddit (r/machinelearning, etc)      4\n",
       "8        Slack Communities (ods.ai, kagglenoobs, etc)      1\n",
       "9                  Twitter (data science influencers)     81\n",
       "10  YouTube (Kaggle YouTube, Cloud AI Adventures, ...      3\n",
       "11                                            ninguno    670"
      ]
     },
     "execution_count": 208,
     "metadata": {},
     "output_type": "execute_result"
    }
   ],
   "source": [
    "df_q42"
   ]
  },
  {
   "cell_type": "code",
   "execution_count": 209,
   "metadata": {},
   "outputs": [
    {
     "data": {
      "image/png": "[encoded data removed]",
      "text/plain": [
       "<Figure size 1440x720 with 1 Axes>"
      ]
     },
     "metadata": {
      "needs_background": "light"
     },
     "output_type": "display_data"
    }
   ],
   "source": [
    "plt.figure(figsize=(20,10))\n",
    "sns.barplot(x ='count', y = 'q42', data=df_q42)\n",
    "plt.title('Redes Sociales')\n",
    "fig.set(ylabel='RR.SS', xlabel= 'Conteo')\n",
    "plt.xticks(rotation = 45);"
   ]
  },
  {
   "cell_type": "markdown",
   "metadata": {},
   "source": [
    " - q10:\"notebook_products\" \n",
    " - q18:\"vision_methods\"\n",
    " - q19:\"nlp\"\n",
    " - q27:\"cloud_platforms\"\n",
    " - q29:\"cloud_products\"\n",
    " - q30:\"data_storage_products\"\n",
    " - q31:\"ml_products\"\n",
    " - q32:\"bd_products\"\n",
    " - q34:\"bi_tools\"\n",
    " - q36:\"auto_ml\"\n",
    " - q37:\"aml_tools\"\n",
    " - q38:\"ml_experiment_tools\"\n",
    " - q39:\"share_app\"\n",
    " - q40:\"platform_courses_ds\"\n",
    " - q42:\"media_sources\"\n"
   ]
  },
  {
   "cell_type": "markdown",
   "metadata": {},
   "source": [
    "# Relación entre variables"
   ]
  },
  {
   "cell_type": "code",
   "execution_count": 210,
   "metadata": {},
   "outputs": [
    {
     "data": {
      "text/plain": [
       "32                                             [RStudio ]\n",
       "46       [Jupyter  , PyCharm , MATLAB , Jupyter Notebook]\n",
       "66                                    [PyCharm ,  Spyder]\n",
       "102                         [Jupyter  , Jupyter Notebook]\n",
       "108                            [Jupyter Notebook,  Other]\n",
       "                               ...                       \n",
       "25811          [PyCharm ,  Vim / Emacs, Jupyter Notebook]\n",
       "25819                                    [Visual Studio ]\n",
       "25909                                  [Jupyter Notebook]\n",
       "25916                                  [Jupyter Notebook]\n",
       "25954                                  [Jupyter Notebook]\n",
       "Name: q9, Length: 751, dtype: object"
      ]
     },
     "execution_count": 210,
     "metadata": {},
     "output_type": "execute_result"
    }
   ],
   "source": [
    "df['q9'].apply(quitar_comillas_2)"
   ]
  },
  {
   "cell_type": "code",
   "execution_count": 211,
   "metadata": {},
   "outputs": [
    {
     "data": {
      "text/plain": [
       "'Jupyter  ,PyCharm ,MATLAB ,Jupyter Notebook'"
      ]
     },
     "execution_count": 211,
     "metadata": {},
     "output_type": "execute_result"
    }
   ],
   "source": [
    "df['q9'][46]"
   ]
  },
  {
   "cell_type": "code",
   "execution_count": 212,
   "metadata": {},
   "outputs": [
    {
     "data": {
      "text/plain": [
       "'Jupyter  ,Jupyter Notebook'"
      ]
     },
     "execution_count": 212,
     "metadata": {},
     "output_type": "execute_result"
    }
   ],
   "source": [
    "df['q9'][102]"
   ]
  },
  {
   "cell_type": "code",
   "execution_count": null,
   "metadata": {},
   "outputs": [],
   "source": []
  },
  {
   "cell_type": "markdown",
   "metadata": {},
   "source": [
    "Nuestro siguiente objetivo es componer un subplot con todas nuestras gráficas, las que nos dicen que no utilizan ninguna de las herramientas consultadas. \n"
   ]
  },
  {
   "cell_type": "code",
   "execution_count": 213,
   "metadata": {},
   "outputs": [],
   "source": [
    "lista_df = [\"df_q10\",\"df_q18\",\"df_q19\",\"df_q27\", \"df_q29\", \"df_q30\", \"df_q31\", \"df_q32\", \"df_q34\", \"df_q36\", \"df_q37\", \"df_q38\", \"df_q39\", \"df_q40\", \"df_q42\"]"
   ]
  },
  {
   "cell_type": "code",
   "execution_count": 214,
   "metadata": {},
   "outputs": [],
   "source": [
    "df_none = {\"q10\":\"notebook_products\",\"q18\":\"vision_methods\", \"q19\":\"nlp\", \"q27\":\"cloud_platforms\", \n",
    "\"q29\":\"cloud_products\", \"q30\":\"data_storage_products\", \"q31\":\"ml_products\", \"q32\":\"bd_products\", \n",
    "\"q34\":\"bi_tools\", \"q36\":\"auto_ml\", \"q37\":\"aml_tools\", \"q38\":\"ml_experiment_tools\", \"q39\":\"share_app\", \n",
    "\"q40\":\"platform_courses_ds\", \"q42\":\"media_sources\"} "
   ]
  },
  {
   "cell_type": "code",
   "execution_count": 215,
   "metadata": {},
   "outputs": [
    {
     "ename": "NameError",
     "evalue": "name 'q10' is not defined",
     "output_type": "error",
     "traceback": [
      "\u001b[0;31m---------------------------------------------------------------------------\u001b[0m",
      "\u001b[0;31mNameError\u001b[0m                                 Traceback (most recent call last)",
      "\u001b[0;32m/tmp/ipykernel_41515/3467666495.py\u001b[0m in \u001b[0;36m<module>\u001b[0;34m\u001b[0m\n\u001b[0;32m----> 1\u001b[0;31m \u001b[0mq10\u001b[0m\u001b[0;34m,\u001b[0m\u001b[0mq19\u001b[0m\u001b[0;34m,\u001b[0m\u001b[0mq27\u001b[0m\u001b[0;34m,\u001b[0m\u001b[0mq29\u001b[0m\u001b[0;34m,\u001b[0m\u001b[0mq30\u001b[0m\u001b[0;34m,\u001b[0m\u001b[0mq31\u001b[0m\u001b[0;34m,\u001b[0m\u001b[0mq33\u001b[0m\u001b[0;34m,\u001b[0m\u001b[0mq36\u001b[0m\u001b[0;34m,\u001b[0m\u001b[0mq37\u001b[0m\u001b[0;34m,\u001b[0m\u001b[0mq38\u001b[0m\u001b[0;34m,\u001b[0m\u001b[0mq39\u001b[0m\u001b[0;34m,\u001b[0m\u001b[0mq40\u001b[0m\u001b[0;34m,\u001b[0m\u001b[0mq42\u001b[0m\u001b[0;34m\u001b[0m\u001b[0;34m\u001b[0m\u001b[0m\n\u001b[0m",
      "\u001b[0;31mNameError\u001b[0m: name 'q10' is not defined"
     ]
    }
   ],
   "source": [
    "q10,q19,q27,q29,q30,q31,q33,q36,q37,q38,q39,q40,q42 "
   ]
  },
  {
   "cell_type": "code",
   "execution_count": null,
   "metadata": {},
   "outputs": [
    {
     "ename": "ValueError",
     "evalue": "too many values to unpack (expected 2)",
     "output_type": "error",
     "traceback": [
      "\u001b[0;31m---------------------------------------------------------------------------\u001b[0m",
      "\u001b[0;31mValueError\u001b[0m                                Traceback (most recent call last)",
      "\u001b[1;32m/home/cachito/Adalab/Proyecto2/project-DA-promo-b-modulo-2-team-2/HU3_visualización_herramientas.ipynb Celda 172\u001b[0m in \u001b[0;36m<cell line: 5>\u001b[0;34m()\u001b[0m\n\u001b[1;32m      <a href='vscode-notebook-cell:/home/cachito/Adalab/Proyecto2/project-DA-promo-b-modulo-2-team-2/HU3_visualizaci%C3%B3n_herramientas.ipynb#Y344sZmlsZQ%3D%3D?line=1'>2</a>\u001b[0m axes \u001b[39m=\u001b[39m axes\u001b[39m.\u001b[39mflat\n\u001b[1;32m      <a href='vscode-notebook-cell:/home/cachito/Adalab/Proyecto2/project-DA-promo-b-modulo-2-team-2/HU3_visualizaci%C3%B3n_herramientas.ipynb#Y344sZmlsZQ%3D%3D?line=4'>5</a>\u001b[0m \u001b[39mfor\u001b[39;00m i, col \u001b[39min\u001b[39;00m \u001b[39menumerate\u001b[39m(lista_df):\n\u001b[0;32m----> <a href='vscode-notebook-cell:/home/cachito/Adalab/Proyecto2/project-DA-promo-b-modulo-2-team-2/HU3_visualizaci%C3%B3n_herramientas.ipynb#Y344sZmlsZQ%3D%3D?line=5'>6</a>\u001b[0m     \u001b[39mfor\u001b[39;00m k, v \u001b[39min\u001b[39;00m df_none:\n\u001b[1;32m      <a href='vscode-notebook-cell:/home/cachito/Adalab/Proyecto2/project-DA-promo-b-modulo-2-team-2/HU3_visualizaci%C3%B3n_herramientas.ipynb#Y344sZmlsZQ%3D%3D?line=6'>7</a>\u001b[0m         sns\u001b[39m.\u001b[39mbarplot(data \u001b[39m=\u001b[39m col, x \u001b[39m=\u001b[39m \u001b[39m\"\u001b[39m\u001b[39mcount\u001b[39m\u001b[39m\"\u001b[39m, y \u001b[39m=\u001b[39m k, ax \u001b[39m=\u001b[39m axes[i])\n\u001b[1;32m      <a href='vscode-notebook-cell:/home/cachito/Adalab/Proyecto2/project-DA-promo-b-modulo-2-team-2/HU3_visualizaci%C3%B3n_herramientas.ipynb#Y344sZmlsZQ%3D%3D?line=7'>8</a>\u001b[0m         axes[i]\u001b[39m.\u001b[39mtick_params(axis\u001b[39m=\u001b[39m\u001b[39m'\u001b[39m\u001b[39mx\u001b[39m\u001b[39m'\u001b[39m, rotation\u001b[39m=\u001b[39m\u001b[39m90\u001b[39m)\n",
      "\u001b[0;31mValueError\u001b[0m: too many values to unpack (expected 2)"
     ]
    },
    {
     "data": {
      "image/png": "[encoded data removed]",
      "text/plain": [
       "<Figure size 1500x1000 with 15 Axes>"
      ]
     },
     "metadata": {},
     "output_type": "display_data"
    }
   ],
   "source": [
    "fig, axes = plt.subplots(nrows=5, ncols = 3, figsize = (15, 10))\n",
    "axes = axes.flat\n",
    "\n",
    "\n",
    "for i, col in enumerate(lista_df):\n",
    "    for k, v in df_none:\n",
    "        sns.barplot(data = col, x = \"count\", y = k, ax = axes[i])\n",
    "        axes[i].tick_params(axis='x', rotation=90)\n",
    "        axes[i].set_title(col)"
   ]
  },
  {
   "cell_type": "code",
   "execution_count": null,
   "metadata": {},
   "outputs": [
    {
     "data": {
      "image/png": "[encoded data removed]",
      "text/plain": [
       "<Figure size 1500x1000 with 15 Axes>"
      ]
     },
     "metadata": {},
     "output_type": "display_data"
    }
   ],
   "source": [
    "fig, axes = plt.subplots(nrows=5, ncols = 3, figsize = (15, 10))\n",
    "#axes = axes.flat\n",
    "\n",
    "\n",
    "axes[0][0] = sns.barplot(x ='count', y = 'q10', data=df_q10)\n",
    "axes[0][0] = plt.title('Hosted notebook products')\n",
    "#axes[0] = plt.xticks(rotation = 45)\n",
    "\n",
    "axes[0][1] = sns.histplot(y = 'q19', data = df_19_explode)\n",
    "axes[0][] = plt.title('natural language processing (NLP) methods')\n",
    "#axes[1] = plt.xticks(rotation = 45)\n",
    "\n",
    "axes[2] = sns.barplot(x ='count', y = 'q27', data = df_q27)\n",
    "axes[2] = plt.title('Cloud computing platforms')\n",
    "#axes[2] = plt.xticks(rotation = 45)\n",
    "\n",
    "axes[3] = sns.barplot(x ='count', y = 'q29', data=df_29_gp)\n",
    "axes[3] = plt.title(\"Cloud_products\")\n",
    "#axes[3] = plt.xticks(rotation = 45)\n",
    "\n",
    "axes[4] = sns.barplot(x ='count', y = 'q30', data=df_30_gp)\n",
    "axes[4] = plt.title(\"Data_storage_products\")\n",
    "#axes[4] = plt.xticks(rotation = 45)\n",
    "\n",
    "axes[5] = sns.barplot(x ='count', y = 'q31', data=df_31_gp)\n",
    "axes[5] = plt.title(\"ML_products\")\n",
    "#axes[5] = plt.xticks(rotation = 45)\n",
    "\n",
    "axes[6] = sns.barplot(x ='count', y = 'q33', data=df_q33)\n",
    "axes[6] = plt.title(\"Big Data products\")\n",
    "#axes[6] = plt.xticks(rotation = 45)\n",
    "\n",
    "axes[7] = sns.barplot(x ='count', y = 'q36', data=df_q36)\n",
    "axes[7] = plt.title(\"BI_tools\")\n",
    "#axes[7] = plt.xticks(rotation = 45)\n",
    "\n",
    "axes[8] = sns.barplot(x ='count', y = 'q37', data=df_q37)\n",
    "axes[8] = plt.title(\"Automated ML tools\")\n",
    "axes[8] = plt.xticks(rotation = 45)\n",
    "\n",
    "axes[9] = sns.barplot(x ='count', y = 'q38', data=df_q38)\n",
    "axes[9] = plt.title(\"ML_experiment_tools\")\n",
    "#axes[9] = plt.xticks(rotation = 45)\n",
    "\n",
    "axes[10] = sns.barplot(x ='count', y = 'q39', data=df_q39)\n",
    "axes[10] = plt.title(\"Share_app\")\n",
    "#axes[10] = plt.xticks(rotation = 45)\n",
    "\n",
    "axes[11] = sns.barplot(x ='count', y = 'q40', data=df_q40)\n",
    "axes[11] = plt.title(\"Platform_courses_ds\")\n",
    "#axes[11] = plt.xticks(rotation = 45)\n",
    "\n",
    "axes[12] = sns.barplot(x ='count', y = 'q42', data=df_q42)\n",
    "axes[12] = plt.title(\"Media_sources\")\n",
    "#axes[12] = plt.xticks(rotation = 45)\n",
    "\n",
    "\n",
    "\n",
    "\n",
    "\n",
    "plt.xticks(rotation = 45)\n",
    "fig.tight_layout()\n",
    "#fig.delaxes(axes[-2])\n",
    "plt.show()"
   ]
  },
  {
   "cell_type": "code",
   "execution_count": null,
   "metadata": {},
   "outputs": [
    {
     "ename": "KeyError",
     "evalue": "\"None of [Index(['df_q10', 'df_q18', 'df_q19', 'df_q27', 'df_q29', 'df_q30', 'df_q31',\\n       'df_q32', 'df_q34', 'df_q36', 'df_q37', 'df_q38', 'df_q39', 'df_q40',\\n       'df_q42'],\\n      dtype='object')] are in the [columns]\"",
     "output_type": "error",
     "traceback": [
      "\u001b[0;31m---------------------------------------------------------------------------\u001b[0m",
      "\u001b[0;31mKeyError\u001b[0m                                  Traceback (most recent call last)",
      "\u001b[1;32m/home/cachito/Adalab/Proyecto2/project-DA-promo-b-modulo-2-team-2/HU3_visualización_herramientas.ipynb Celda 171\u001b[0m in \u001b[0;36m<cell line: 1>\u001b[0;34m()\u001b[0m\n\u001b[0;32m----> <a href='vscode-notebook-cell:/home/cachito/Adalab/Proyecto2/project-DA-promo-b-modulo-2-team-2/HU3_visualizaci%C3%B3n_herramientas.ipynb#Y341sZmlsZQ%3D%3D?line=0'>1</a>\u001b[0m df_conjunto \u001b[39m=\u001b[39m df[[\u001b[39m\"\u001b[39;49m\u001b[39mdf_q10\u001b[39;49m\u001b[39m\"\u001b[39;49m,\u001b[39m\"\u001b[39;49m\u001b[39mdf_q18\u001b[39;49m\u001b[39m\"\u001b[39;49m,\u001b[39m\"\u001b[39;49m\u001b[39mdf_q19\u001b[39;49m\u001b[39m\"\u001b[39;49m,\u001b[39m\"\u001b[39;49m\u001b[39mdf_q27\u001b[39;49m\u001b[39m\"\u001b[39;49m, \u001b[39m\"\u001b[39;49m\u001b[39mdf_q29\u001b[39;49m\u001b[39m\"\u001b[39;49m, \u001b[39m\"\u001b[39;49m\u001b[39mdf_q30\u001b[39;49m\u001b[39m\"\u001b[39;49m, \u001b[39m\"\u001b[39;49m\u001b[39mdf_q31\u001b[39;49m\u001b[39m\"\u001b[39;49m, \u001b[39m\"\u001b[39;49m\u001b[39mdf_q32\u001b[39;49m\u001b[39m\"\u001b[39;49m, \u001b[39m\"\u001b[39;49m\u001b[39mdf_q34\u001b[39;49m\u001b[39m\"\u001b[39;49m, \u001b[39m\"\u001b[39;49m\u001b[39mdf_q36\u001b[39;49m\u001b[39m\"\u001b[39;49m, \u001b[39m\"\u001b[39;49m\u001b[39mdf_q37\u001b[39;49m\u001b[39m\"\u001b[39;49m, \u001b[39m\"\u001b[39;49m\u001b[39mdf_q38\u001b[39;49m\u001b[39m\"\u001b[39;49m, \u001b[39m\"\u001b[39;49m\u001b[39mdf_q39\u001b[39;49m\u001b[39m\"\u001b[39;49m, \u001b[39m\"\u001b[39;49m\u001b[39mdf_q40\u001b[39;49m\u001b[39m\"\u001b[39;49m, \u001b[39m\"\u001b[39;49m\u001b[39mdf_q42\u001b[39;49m\u001b[39m\"\u001b[39;49m]]\n",
      "File \u001b[0;32m~/anaconda3/lib/python3.9/site-packages/pandas/core/frame.py:3511\u001b[0m, in \u001b[0;36mDataFrame.__getitem__\u001b[0;34m(self, key)\u001b[0m\n\u001b[1;32m   3509\u001b[0m     \u001b[39mif\u001b[39;00m is_iterator(key):\n\u001b[1;32m   3510\u001b[0m         key \u001b[39m=\u001b[39m \u001b[39mlist\u001b[39m(key)\n\u001b[0;32m-> 3511\u001b[0m     indexer \u001b[39m=\u001b[39m \u001b[39mself\u001b[39;49m\u001b[39m.\u001b[39;49mcolumns\u001b[39m.\u001b[39;49m_get_indexer_strict(key, \u001b[39m\"\u001b[39;49m\u001b[39mcolumns\u001b[39;49m\u001b[39m\"\u001b[39;49m)[\u001b[39m1\u001b[39m]\n\u001b[1;32m   3513\u001b[0m \u001b[39m# take() does not accept boolean indexers\u001b[39;00m\n\u001b[1;32m   3514\u001b[0m \u001b[39mif\u001b[39;00m \u001b[39mgetattr\u001b[39m(indexer, \u001b[39m\"\u001b[39m\u001b[39mdtype\u001b[39m\u001b[39m\"\u001b[39m, \u001b[39mNone\u001b[39;00m) \u001b[39m==\u001b[39m \u001b[39mbool\u001b[39m:\n",
      "File \u001b[0;32m~/anaconda3/lib/python3.9/site-packages/pandas/core/indexes/base.py:5782\u001b[0m, in \u001b[0;36mIndex._get_indexer_strict\u001b[0;34m(self, key, axis_name)\u001b[0m\n\u001b[1;32m   5779\u001b[0m \u001b[39melse\u001b[39;00m:\n\u001b[1;32m   5780\u001b[0m     keyarr, indexer, new_indexer \u001b[39m=\u001b[39m \u001b[39mself\u001b[39m\u001b[39m.\u001b[39m_reindex_non_unique(keyarr)\n\u001b[0;32m-> 5782\u001b[0m \u001b[39mself\u001b[39;49m\u001b[39m.\u001b[39;49m_raise_if_missing(keyarr, indexer, axis_name)\n\u001b[1;32m   5784\u001b[0m keyarr \u001b[39m=\u001b[39m \u001b[39mself\u001b[39m\u001b[39m.\u001b[39mtake(indexer)\n\u001b[1;32m   5785\u001b[0m \u001b[39mif\u001b[39;00m \u001b[39misinstance\u001b[39m(key, Index):\n\u001b[1;32m   5786\u001b[0m     \u001b[39m# GH 42790 - Preserve name from an Index\u001b[39;00m\n",
      "File \u001b[0;32m~/anaconda3/lib/python3.9/site-packages/pandas/core/indexes/base.py:5842\u001b[0m, in \u001b[0;36mIndex._raise_if_missing\u001b[0;34m(self, key, indexer, axis_name)\u001b[0m\n\u001b[1;32m   5840\u001b[0m     \u001b[39mif\u001b[39;00m use_interval_msg:\n\u001b[1;32m   5841\u001b[0m         key \u001b[39m=\u001b[39m \u001b[39mlist\u001b[39m(key)\n\u001b[0;32m-> 5842\u001b[0m     \u001b[39mraise\u001b[39;00m \u001b[39mKeyError\u001b[39;00m(\u001b[39mf\u001b[39m\u001b[39m\"\u001b[39m\u001b[39mNone of [\u001b[39m\u001b[39m{\u001b[39;00mkey\u001b[39m}\u001b[39;00m\u001b[39m] are in the [\u001b[39m\u001b[39m{\u001b[39;00maxis_name\u001b[39m}\u001b[39;00m\u001b[39m]\u001b[39m\u001b[39m\"\u001b[39m)\n\u001b[1;32m   5844\u001b[0m not_found \u001b[39m=\u001b[39m \u001b[39mlist\u001b[39m(ensure_index(key)[missing_mask\u001b[39m.\u001b[39mnonzero()[\u001b[39m0\u001b[39m]]\u001b[39m.\u001b[39munique())\n\u001b[1;32m   5845\u001b[0m \u001b[39mraise\u001b[39;00m \u001b[39mKeyError\u001b[39;00m(\u001b[39mf\u001b[39m\u001b[39m\"\u001b[39m\u001b[39m{\u001b[39;00mnot_found\u001b[39m}\u001b[39;00m\u001b[39m not in index\u001b[39m\u001b[39m\"\u001b[39m)\n",
      "\u001b[0;31mKeyError\u001b[0m: \"None of [Index(['df_q10', 'df_q18', 'df_q19', 'df_q27', 'df_q29', 'df_q30', 'df_q31',\\n       'df_q32', 'df_q34', 'df_q36', 'df_q37', 'df_q38', 'df_q39', 'df_q40',\\n       'df_q42'],\\n      dtype='object')] are in the [columns]\""
     ]
    }
   ],
   "source": [
    "df_conjunto = df[[\"df_q10\",\"df_q18\",\"df_q19\",\"df_q27\", \"df_q29\", \"df_q30\", \"df_q31\", \"df_q32\", \"df_q34\", \"df_q36\", \"df_q37\", \"df_q38\", \"df_q39\", \"df_q40\", \"df_q42\"]]"
   ]
  }
 ],
 "metadata": {
  "kernelspec": {
   "display_name": "Python 3.9.7 ('base')",
   "language": "python",
   "name": "python3"
  },
  "language_info": {
   "codemirror_mode": {
    "name": "ipython",
    "version": 3
   },
   "file_extension": ".py",
   "mimetype": "text/x-python",
   "name": "python",
   "nbconvert_exporter": "python",
   "pygments_lexer": "ipython3",
   "version": "3.9.7"
  },
  "orig_nbformat": 4,
  "vscode": {
   "interpreter": {
    "hash": "ef996a58dd4038b19127a5b342ff558a720418179ddf7c29df6339888c2ae8ac"
   }
  }
 },
 "nbformat": 4,
 "nbformat_minor": 2
}
